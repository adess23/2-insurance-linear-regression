{
 "cells": [
  {
   "cell_type": "markdown",
   "metadata": {
    "_cell_guid": "b1076dfc-b9ad-4769-8c92-a6c4dae69d19",
    "_uuid": "8f2839f25d086af736a60e9eeb907d3b93b6e0e5"
   },
   "source": [
    "# Insurance cost prediction using linear regression\n",
    "\n",
    "In this assignment we're going to use information like a person's age, sex, BMI, no. of children and smoking habit to predict the price of yearly medical bills. This kind of model is useful for insurance companies to determine the yearly insurance premium for a person. The dataset for this problem is taken from: https://www.kaggle.com/mirichoi0218/insurance\n",
    "\n",
    "\n",
    "We will create a model with the following steps:\n",
    "1. Download and explore the dataset\n",
    "2. Prepare the dataset for training\n",
    "3. Create a linear regression model\n",
    "4. Train the model to fit the data\n",
    "5. Make predictions using the trained model\n",
    "\n",
    "\n",
    "This assignment builds upon the concepts from the first 2 lectures. It will help to review these Jupyter notebooks:\n",
    "- PyTorch basics: https://jovian.ml/aakashns/01-pytorch-basics\n",
    "- Linear Regression: https://jovian.ml/aakashns/02-linear-regression\n",
    "- Logistic Regression: https://jovian.ml/aakashns/03-logistic-regression\n",
    "- Linear regression (minimal): https://jovian.ml/aakashns/housing-linear-minimal\n",
    "- Logistic regression (minimal): https://jovian.ml/aakashns/mnist-logistic-minimal\n",
    "\n",
    "As you go through this notebook, you will find a **???** in certain places. Your job is to replace the **???** with appropriate code or values, to ensure that the notebook runs properly end-to-end . In some cases, you'll be required to choose some hyperparameters (learning rate, batch size etc.). Try to experiment with the hypeparameters to get the lowest loss.\n"
   ]
  },
  {
   "cell_type": "code",
   "execution_count": 15,
   "metadata": {},
   "outputs": [
    {
     "output_type": "stream",
     "name": "stdout",
     "text": "Requirement already satisfied: torchvision in c:\\users\\josealexander.pena\\appdata\\roaming\\python\\python37\\site-packages (0.5.0+cpu)\nRequirement already satisfied: torch in c:\\users\\josealexander.pena\\appdata\\local\\continuum\\miniconda3\\envs\\ds2\\lib\\site-packages (from torchvision) (1.4.0+cpu)\nRequirement already satisfied: six in c:\\users\\josealexander.pena\\appdata\\local\\continuum\\miniconda3\\envs\\ds2\\lib\\site-packages (from torchvision) (1.14.0)\nRequirement already satisfied: pillow>=4.1.1 in c:\\users\\josealexander.pena\\appdata\\local\\continuum\\miniconda3\\envs\\ds2\\lib\\site-packages\\pillow-7.0.0-py3.7-win-amd64.egg (from torchvision) (7.0.0)\nRequirement already satisfied: numpy in c:\\users\\josealexander.pena\\appdata\\local\\continuum\\miniconda3\\envs\\ds2\\lib\\site-packages (from torchvision) (1.16.5)\n"
    }
   ],
   "source": [
    "# Uncomment and run the commands below if imports fail\n",
    "# !conda install numpy pytorch torchvision cpuonly -c pytorch -y\n",
    "# !pip install matplotlib --upgrade --quiet\n",
    "#!pip install jovian --upgrade --quiet\n",
    "#!pip install torchvision\n",
    "#!pip install torch==1.4.0"
   ]
  },
  {
   "cell_type": "code",
   "execution_count": 3,
   "metadata": {
    "tags": []
   },
   "outputs": [
    {
     "output_type": "display_data",
     "data": {
      "text/plain": "<IPython.core.display.Javascript object>",
      "application/javascript": "if (window.IPython && IPython.notebook.kernel) IPython.notebook.kernel.execute('jovian.utils.jupyter.get_notebook_name_saved = lambda: \"' + IPython.notebook.notebook_name + '\"')"
     },
     "metadata": {}
    },
    {
     "output_type": "stream",
     "name": "stdout",
     "text": "[jovian] Update Available: 0.2.14 --> 0.2.16\n[jovian] Run `!pip install jovian --upgrade` to upgrade\n"
    }
   ],
   "source": [
    "import torch\n",
    "import jovian\n",
    "import torchvision\n",
    "import torch.nn as nn\n",
    "import pandas as pd\n",
    "import matplotlib.pyplot as plt\n",
    "import torch.nn.functional as F\n",
    "from torchvision.datasets.utils import download_url\n",
    "from torch.utils.data import DataLoader, TensorDataset, random_split\n",
    "import matplotlib\n",
    "import matplotlib.pyplot as plt\n",
    "import seaborn as sns\n",
    "import math"
   ]
  },
  {
   "cell_type": "code",
   "execution_count": 3,
   "metadata": {},
   "outputs": [],
   "source": [
    "project_name='02-insurance-linear-regression' # will be used by jovian.commit"
   ]
  },
  {
   "cell_type": "markdown",
   "metadata": {},
   "source": [
    "## Step 1: Download and explore the data\n",
    "\n",
    "Let us begin by downloading the data. We'll use the `download_url` function from PyTorch to get the data as a CSV (comma-separated values) file. "
   ]
  },
  {
   "cell_type": "code",
   "execution_count": 4,
   "metadata": {
    "_cell_guid": "79c7e3d0-c299-4dcb-8224-4455121ee9b0",
    "_uuid": "d629ff2d2480ee46fbb7e2d37f6b5fab8052498a",
    "tags": []
   },
   "outputs": [
    {
     "output_type": "stream",
     "name": "stdout",
     "text": "Using downloaded and verified file: .\\insurance.csv\n"
    }
   ],
   "source": [
    "DATASET_URL = \"https://hub.jovian.ml/wp-content/uploads/2020/05/insurance.csv\"\n",
    "DATA_FILENAME = \"insurance.csv\"\n",
    "download_url(DATASET_URL, '.')"
   ]
  },
  {
   "cell_type": "markdown",
   "metadata": {},
   "source": [
    "To load the dataset into memory, we'll use the `read_csv` function from the `pandas` library. The data will be loaded as a Pandas dataframe. See this short tutorial to learn more: https://data36.com/pandas-tutorial-1-basics-reading-data-files-dataframes-data-selection/"
   ]
  },
  {
   "cell_type": "code",
   "execution_count": 5,
   "metadata": {},
   "outputs": [
    {
     "output_type": "execute_result",
     "data": {
      "text/plain": "   age     sex     bmi  children smoker     region      charges\n0   19  female  27.900         0    yes  southwest  16884.92400\n1   18    male  33.770         1     no  southeast   1725.55230\n2   28    male  33.000         3     no  southeast   4449.46200\n3   33    male  22.705         0     no  northwest  21984.47061\n4   32    male  28.880         0     no  northwest   3866.85520",
      "text/html": "<div>\n<style scoped>\n    .dataframe tbody tr th:only-of-type {\n        vertical-align: middle;\n    }\n\n    .dataframe tbody tr th {\n        vertical-align: top;\n    }\n\n    .dataframe thead th {\n        text-align: right;\n    }\n</style>\n<table border=\"1\" class=\"dataframe\">\n  <thead>\n    <tr style=\"text-align: right;\">\n      <th></th>\n      <th>age</th>\n      <th>sex</th>\n      <th>bmi</th>\n      <th>children</th>\n      <th>smoker</th>\n      <th>region</th>\n      <th>charges</th>\n    </tr>\n  </thead>\n  <tbody>\n    <tr>\n      <td>0</td>\n      <td>19</td>\n      <td>female</td>\n      <td>27.900</td>\n      <td>0</td>\n      <td>yes</td>\n      <td>southwest</td>\n      <td>16884.92400</td>\n    </tr>\n    <tr>\n      <td>1</td>\n      <td>18</td>\n      <td>male</td>\n      <td>33.770</td>\n      <td>1</td>\n      <td>no</td>\n      <td>southeast</td>\n      <td>1725.55230</td>\n    </tr>\n    <tr>\n      <td>2</td>\n      <td>28</td>\n      <td>male</td>\n      <td>33.000</td>\n      <td>3</td>\n      <td>no</td>\n      <td>southeast</td>\n      <td>4449.46200</td>\n    </tr>\n    <tr>\n      <td>3</td>\n      <td>33</td>\n      <td>male</td>\n      <td>22.705</td>\n      <td>0</td>\n      <td>no</td>\n      <td>northwest</td>\n      <td>21984.47061</td>\n    </tr>\n    <tr>\n      <td>4</td>\n      <td>32</td>\n      <td>male</td>\n      <td>28.880</td>\n      <td>0</td>\n      <td>no</td>\n      <td>northwest</td>\n      <td>3866.85520</td>\n    </tr>\n  </tbody>\n</table>\n</div>"
     },
     "metadata": {},
     "execution_count": 5
    }
   ],
   "source": [
    "dataframe_raw = pd.read_csv(DATA_FILENAME)\n",
    "dataframe_raw.head()"
   ]
  },
  {
   "cell_type": "markdown",
   "metadata": {},
   "source": [
    "We're going to do a slight customization of the data, so that you every participant receives a slightly different version of the dataset. Fill in your name below as a string (enter at least 5 characters)"
   ]
  },
  {
   "cell_type": "code",
   "execution_count": 6,
   "metadata": {},
   "outputs": [],
   "source": [
    "your_name = 'alex' # at least 5 characters"
   ]
  },
  {
   "cell_type": "markdown",
   "metadata": {},
   "source": [
    "The `customize_dataset` function will customize the dataset slightly using your name as a source of random numbers."
   ]
  },
  {
   "cell_type": "code",
   "execution_count": 7,
   "metadata": {},
   "outputs": [],
   "source": [
    "def customize_dataset(dataframe_raw, rand_str):\n",
    "    dataframe = dataframe_raw.copy(deep=True)\n",
    "    # drop some rows\n",
    "    dataframe = dataframe.sample(int(0.95*len(dataframe)), random_state=int(ord(rand_str[0])))\n",
    "    # scale input\n",
    "    dataframe.bmi = dataframe.bmi * ord(rand_str[1])/100.\n",
    "    # scale target\n",
    "    dataframe.charges = dataframe.charges * ord(rand_str[2])/100.\n",
    "    # drop column\n",
    "    if ord(rand_str[3]) % 2 == 1:\n",
    "        dataframe = dataframe.drop(['region'], axis=1)\n",
    "    return dataframe"
   ]
  },
  {
   "cell_type": "code",
   "execution_count": 8,
   "metadata": {},
   "outputs": [
    {
     "output_type": "execute_result",
     "data": {
      "text/plain": "     age     sex      bmi  children smoker     region       charges\n27    55  female  35.3970         2     no  northwest  12391.318573\n997   63  female  39.7980         0     no  southeast  14026.848185\n162   54    male  42.7680         1     no  southwest  10555.057520\n824   60    male  26.2656         0     no  northwest  12648.840848\n392   48    male  33.9606         1     no  northeast   9053.701155",
      "text/html": "<div>\n<style scoped>\n    .dataframe tbody tr th:only-of-type {\n        vertical-align: middle;\n    }\n\n    .dataframe tbody tr th {\n        vertical-align: top;\n    }\n\n    .dataframe thead th {\n        text-align: right;\n    }\n</style>\n<table border=\"1\" class=\"dataframe\">\n  <thead>\n    <tr style=\"text-align: right;\">\n      <th></th>\n      <th>age</th>\n      <th>sex</th>\n      <th>bmi</th>\n      <th>children</th>\n      <th>smoker</th>\n      <th>region</th>\n      <th>charges</th>\n    </tr>\n  </thead>\n  <tbody>\n    <tr>\n      <td>27</td>\n      <td>55</td>\n      <td>female</td>\n      <td>35.3970</td>\n      <td>2</td>\n      <td>no</td>\n      <td>northwest</td>\n      <td>12391.318573</td>\n    </tr>\n    <tr>\n      <td>997</td>\n      <td>63</td>\n      <td>female</td>\n      <td>39.7980</td>\n      <td>0</td>\n      <td>no</td>\n      <td>southeast</td>\n      <td>14026.848185</td>\n    </tr>\n    <tr>\n      <td>162</td>\n      <td>54</td>\n      <td>male</td>\n      <td>42.7680</td>\n      <td>1</td>\n      <td>no</td>\n      <td>southwest</td>\n      <td>10555.057520</td>\n    </tr>\n    <tr>\n      <td>824</td>\n      <td>60</td>\n      <td>male</td>\n      <td>26.2656</td>\n      <td>0</td>\n      <td>no</td>\n      <td>northwest</td>\n      <td>12648.840848</td>\n    </tr>\n    <tr>\n      <td>392</td>\n      <td>48</td>\n      <td>male</td>\n      <td>33.9606</td>\n      <td>1</td>\n      <td>no</td>\n      <td>northeast</td>\n      <td>9053.701155</td>\n    </tr>\n  </tbody>\n</table>\n</div>"
     },
     "metadata": {},
     "execution_count": 8
    }
   ],
   "source": [
    "dataframe = customize_dataset(dataframe_raw, your_name)\n",
    "dataframe.head()"
   ]
  },
  {
   "cell_type": "markdown",
   "metadata": {},
   "source": [
    "Let us answer some basic questions about the dataset. \n",
    "\n",
    "\n",
    "**Q: How many rows does the dataset have?**"
   ]
  },
  {
   "cell_type": "code",
   "execution_count": 10,
   "metadata": {
    "tags": []
   },
   "outputs": [
    {
     "output_type": "stream",
     "name": "stdout",
     "text": "1271\n"
    }
   ],
   "source": [
    "num_rows = len(dataframe)\n",
    "print(num_rows)"
   ]
  },
  {
   "cell_type": "markdown",
   "metadata": {},
   "source": [
    "**Q: How many columns doe the dataset have**"
   ]
  },
  {
   "cell_type": "code",
   "execution_count": 13,
   "metadata": {},
   "outputs": [
    {
     "output_type": "stream",
     "name": "stdout",
     "text": "7\n"
    }
   ],
   "source": [
    "num_cols = dataframe.columns.size\n",
    "print(num_cols)"
   ]
  },
  {
   "cell_type": "markdown",
   "metadata": {},
   "source": [
    "**Q: What are the column titles of the input variables?**"
   ]
  },
  {
   "cell_type": "code",
   "execution_count": 14,
   "metadata": {},
   "outputs": [
    {
     "output_type": "execute_result",
     "data": {
      "text/plain": "['age', 'sex', 'bmi', 'children', 'smoker', 'region']"
     },
     "metadata": {},
     "execution_count": 14
    }
   ],
   "source": [
    "input_cols = ['age', 'sex', 'bmi', 'children', 'smoker', 'region']\n",
    "input_cols"
   ]
  },
  {
   "cell_type": "markdown",
   "metadata": {},
   "source": [
    "**Q: Which of the input columns are non-numeric or categorial variables ?**\n",
    "\n",
    "Hint: `sex` is one of them. List the columns that are not numbers."
   ]
  },
  {
   "cell_type": "code",
   "execution_count": 15,
   "metadata": {},
   "outputs": [
    {
     "output_type": "execute_result",
     "data": {
      "text/plain": "['sex', 'smoker', 'region']"
     },
     "metadata": {},
     "execution_count": 15
    }
   ],
   "source": [
    "categorical_cols=dataframe.select_dtypes('object').columns.tolist()\n",
    "categorical_cols"
   ]
  },
  {
   "cell_type": "markdown",
   "metadata": {},
   "source": [
    "**Q: What are the column titles of output/target variable(s)?**"
   ]
  },
  {
   "cell_type": "code",
   "execution_count": 16,
   "metadata": {},
   "outputs": [
    {
     "output_type": "execute_result",
     "data": {
      "text/plain": "['charges']"
     },
     "metadata": {},
     "execution_count": 16
    }
   ],
   "source": [
    "output_cols = ['charges']\n",
    "output_cols"
   ]
  },
  {
   "cell_type": "markdown",
   "metadata": {},
   "source": [
    "**Q: (Optional) What is the minimum, maximum and average value of the `charges` column? Can you show the distribution of values in a graph?**\n",
    "Use this data visualization cheatsheet for referece: https://jovian.ml/aakashns/dataviz-cheatsheet"
   ]
  },
  {
   "cell_type": "code",
   "execution_count": 17,
   "metadata": {},
   "outputs": [
    {
     "output_type": "stream",
     "name": "stdout",
     "text": "minimum: 1133.092639\nmaximum: 64408.1322901\naverage: 13447.33725880015\n"
    },
    {
     "output_type": "execute_result",
     "data": {
      "text/plain": "<matplotlib.axes._subplots.AxesSubplot at 0x2986c49b708>"
     },
     "metadata": {},
     "execution_count": 17
    },
    {
     "output_type": "display_data",
     "data": {
      "text/plain": "<Figure size 432x288 with 1 Axes>",
      "image/svg+xml": "<?xml version=\"1.0\" encoding=\"utf-8\" standalone=\"no\"?>\r\n<!DOCTYPE svg PUBLIC \"-//W3C//DTD SVG 1.1//EN\"\r\n  \"http://www.w3.org/Graphics/SVG/1.1/DTD/svg11.dtd\">\r\n<!-- Created with matplotlib (https://matplotlib.org/) -->\r\n<svg height=\"277.314375pt\" version=\"1.1\" viewBox=\"0 0 397.553125 277.314375\" width=\"397.553125pt\" xmlns=\"http://www.w3.org/2000/svg\" xmlns:xlink=\"http://www.w3.org/1999/xlink\">\r\n <defs>\r\n  <style type=\"text/css\">\r\n*{stroke-linecap:butt;stroke-linejoin:round;}\r\n  </style>\r\n </defs>\r\n <g id=\"figure_1\">\r\n  <g id=\"patch_1\">\r\n   <path d=\"M 0 277.314375 \r\nL 397.553125 277.314375 \r\nL 397.553125 0 \r\nL 0 0 \r\nz\r\n\" style=\"fill:none;\"/>\r\n  </g>\r\n  <g id=\"axes_1\">\r\n   <g id=\"patch_2\">\r\n    <path d=\"M 55.553125 239.758125 \r\nL 390.353125 239.758125 \r\nL 390.353125 22.318125 \r\nL 55.553125 22.318125 \r\nz\r\n\" style=\"fill:#ffffff;\"/>\r\n   </g>\r\n   <g id=\"patch_3\">\r\n    <path clip-path=\"url(#p447cbf0718)\" d=\"M 97.248271 239.758125 \r\nL 105.917571 239.758125 \r\nL 105.917571 32.672411 \r\nL 97.248271 32.672411 \r\nz\r\n\" style=\"fill:#1f77b4;opacity:0.4;\"/>\r\n   </g>\r\n   <g id=\"patch_4\">\r\n    <path clip-path=\"url(#p447cbf0718)\" d=\"M 105.917571 239.758125 \r\nL 114.586872 239.758125 \r\nL 114.586872 57.522696 \r\nL 105.917571 57.522696 \r\nz\r\n\" style=\"fill:#1f77b4;opacity:0.4;\"/>\r\n   </g>\r\n   <g id=\"patch_5\">\r\n    <path clip-path=\"url(#p447cbf0718)\" d=\"M 114.586872 239.758125 \r\nL 123.256172 239.758125 \r\nL 123.256172 96.868982 \r\nL 114.586872 96.868982 \r\nz\r\n\" style=\"fill:#1f77b4;opacity:0.4;\"/>\r\n   </g>\r\n   <g id=\"patch_6\">\r\n    <path clip-path=\"url(#p447cbf0718)\" d=\"M 123.256172 239.758125 \r\nL 131.925472 239.758125 \r\nL 131.925472 89.620982 \r\nL 123.256172 89.620982 \r\nz\r\n\" style=\"fill:#1f77b4;opacity:0.4;\"/>\r\n   </g>\r\n   <g id=\"patch_7\">\r\n    <path clip-path=\"url(#p447cbf0718)\" d=\"M 131.925472 239.758125 \r\nL 140.594772 239.758125 \r\nL 140.594772 95.833554 \r\nL 131.925472 95.833554 \r\nz\r\n\" style=\"fill:#1f77b4;opacity:0.4;\"/>\r\n   </g>\r\n   <g id=\"patch_8\">\r\n    <path clip-path=\"url(#p447cbf0718)\" d=\"M 140.594772 239.758125 \r\nL 149.264073 239.758125 \r\nL 149.264073 125.860982 \r\nL 140.594772 125.860982 \r\nz\r\n\" style=\"fill:#1f77b4;opacity:0.4;\"/>\r\n   </g>\r\n   <g id=\"patch_9\">\r\n    <path clip-path=\"url(#p447cbf0718)\" d=\"M 149.264073 239.758125 \r\nL 157.933373 239.758125 \r\nL 157.933373 196.270125 \r\nL 149.264073 196.270125 \r\nz\r\n\" style=\"fill:#1f77b4;opacity:0.4;\"/>\r\n   </g>\r\n   <g id=\"patch_10\">\r\n    <path clip-path=\"url(#p447cbf0718)\" d=\"M 157.933373 239.758125 \r\nL 166.602673 239.758125 \r\nL 166.602673 204.553554 \r\nL 157.933373 204.553554 \r\nz\r\n\" style=\"fill:#1f77b4;opacity:0.4;\"/>\r\n   </g>\r\n   <g id=\"patch_11\">\r\n    <path clip-path=\"url(#p447cbf0718)\" d=\"M 166.602673 239.758125 \r\nL 175.271974 239.758125 \r\nL 175.271974 203.518125 \r\nL 166.602673 203.518125 \r\nz\r\n\" style=\"fill:#1f77b4;opacity:0.4;\"/>\r\n   </g>\r\n   <g id=\"patch_12\">\r\n    <path clip-path=\"url(#p447cbf0718)\" d=\"M 175.271974 239.758125 \r\nL 183.941274 239.758125 \r\nL 183.941274 206.624411 \r\nL 175.271974 206.624411 \r\nz\r\n\" style=\"fill:#1f77b4;opacity:0.4;\"/>\r\n   </g>\r\n   <g id=\"patch_13\">\r\n    <path clip-path=\"url(#p447cbf0718)\" d=\"M 183.941274 239.758125 \r\nL 192.610574 239.758125 \r\nL 192.610574 211.801554 \r\nL 183.941274 211.801554 \r\nz\r\n\" style=\"fill:#1f77b4;opacity:0.4;\"/>\r\n   </g>\r\n   <g id=\"patch_14\">\r\n    <path clip-path=\"url(#p447cbf0718)\" d=\"M 192.610574 239.758125 \r\nL 201.279874 239.758125 \r\nL 201.279874 221.120411 \r\nL 192.610574 221.120411 \r\nz\r\n\" style=\"fill:#1f77b4;opacity:0.4;\"/>\r\n   </g>\r\n   <g id=\"patch_15\">\r\n    <path clip-path=\"url(#p447cbf0718)\" d=\"M 201.279874 239.758125 \r\nL 209.949175 239.758125 \r\nL 209.949175 222.155839 \r\nL 201.279874 222.155839 \r\nz\r\n\" style=\"fill:#1f77b4;opacity:0.4;\"/>\r\n   </g>\r\n   <g id=\"patch_16\">\r\n    <path clip-path=\"url(#p447cbf0718)\" d=\"M 209.949175 239.758125 \r\nL 218.618475 239.758125 \r\nL 218.618475 231.474696 \r\nL 209.949175 231.474696 \r\nz\r\n\" style=\"fill:#1f77b4;opacity:0.4;\"/>\r\n   </g>\r\n   <g id=\"patch_17\">\r\n    <path clip-path=\"url(#p447cbf0718)\" d=\"M 218.618475 239.758125 \r\nL 227.287775 239.758125 \r\nL 227.287775 232.510125 \r\nL 218.618475 232.510125 \r\nz\r\n\" style=\"fill:#1f77b4;opacity:0.4;\"/>\r\n   </g>\r\n   <g id=\"patch_18\">\r\n    <path clip-path=\"url(#p447cbf0718)\" d=\"M 227.287775 239.758125 \r\nL 235.957075 239.758125 \r\nL 235.957075 220.084982 \r\nL 227.287775 220.084982 \r\nz\r\n\" style=\"fill:#1f77b4;opacity:0.4;\"/>\r\n   </g>\r\n   <g id=\"patch_19\">\r\n    <path clip-path=\"url(#p447cbf0718)\" d=\"M 235.957075 239.758125 \r\nL 244.626376 239.758125 \r\nL 244.626376 215.943268 \r\nL 235.957075 215.943268 \r\nz\r\n\" style=\"fill:#1f77b4;opacity:0.4;\"/>\r\n   </g>\r\n   <g id=\"patch_20\">\r\n    <path clip-path=\"url(#p447cbf0718)\" d=\"M 244.626376 239.758125 \r\nL 253.295676 239.758125 \r\nL 253.295676 213.872411 \r\nL 244.626376 213.872411 \r\nz\r\n\" style=\"fill:#1f77b4;opacity:0.4;\"/>\r\n   </g>\r\n   <g id=\"patch_21\">\r\n    <path clip-path=\"url(#p447cbf0718)\" d=\"M 253.295676 239.758125 \r\nL 261.964976 239.758125 \r\nL 261.964976 221.120411 \r\nL 253.295676 221.120411 \r\nz\r\n\" style=\"fill:#1f77b4;opacity:0.4;\"/>\r\n   </g>\r\n   <g id=\"patch_22\">\r\n    <path clip-path=\"url(#p447cbf0718)\" d=\"M 261.964976 239.758125 \r\nL 270.634276 239.758125 \r\nL 270.634276 223.191268 \r\nL 261.964976 223.191268 \r\nz\r\n\" style=\"fill:#1f77b4;opacity:0.4;\"/>\r\n   </g>\r\n   <g id=\"patch_23\">\r\n    <path clip-path=\"url(#p447cbf0718)\" d=\"M 270.634276 239.758125 \r\nL 279.303577 239.758125 \r\nL 279.303577 225.262125 \r\nL 270.634276 225.262125 \r\nz\r\n\" style=\"fill:#1f77b4;opacity:0.4;\"/>\r\n   </g>\r\n   <g id=\"patch_24\">\r\n    <path clip-path=\"url(#p447cbf0718)\" d=\"M 279.303577 239.758125 \r\nL 287.972877 239.758125 \r\nL 287.972877 224.226696 \r\nL 279.303577 224.226696 \r\nz\r\n\" style=\"fill:#1f77b4;opacity:0.4;\"/>\r\n   </g>\r\n   <g id=\"patch_25\">\r\n    <path clip-path=\"url(#p447cbf0718)\" d=\"M 287.972877 239.758125 \r\nL 296.642177 239.758125 \r\nL 296.642177 233.545554 \r\nL 287.972877 233.545554 \r\nz\r\n\" style=\"fill:#1f77b4;opacity:0.4;\"/>\r\n   </g>\r\n   <g id=\"patch_26\">\r\n    <path clip-path=\"url(#p447cbf0718)\" d=\"M 296.642177 239.758125 \r\nL 305.311478 239.758125 \r\nL 305.311478 237.687268 \r\nL 296.642177 237.687268 \r\nz\r\n\" style=\"fill:#1f77b4;opacity:0.4;\"/>\r\n   </g>\r\n   <g id=\"patch_27\">\r\n    <path clip-path=\"url(#p447cbf0718)\" d=\"M 305.311478 239.758125 \r\nL 313.980778 239.758125 \r\nL 313.980778 239.758125 \r\nL 305.311478 239.758125 \r\nz\r\n\" style=\"fill:#1f77b4;opacity:0.4;\"/>\r\n   </g>\r\n   <g id=\"patch_28\">\r\n    <path clip-path=\"url(#p447cbf0718)\" d=\"M 313.980778 239.758125 \r\nL 322.650078 239.758125 \r\nL 322.650078 238.722696 \r\nL 313.980778 238.722696 \r\nz\r\n\" style=\"fill:#1f77b4;opacity:0.4;\"/>\r\n   </g>\r\n   <g id=\"patch_29\">\r\n    <path clip-path=\"url(#p447cbf0718)\" d=\"M 322.650078 239.758125 \r\nL 331.319378 239.758125 \r\nL 331.319378 238.722696 \r\nL 322.650078 238.722696 \r\nz\r\n\" style=\"fill:#1f77b4;opacity:0.4;\"/>\r\n   </g>\r\n   <g id=\"patch_30\">\r\n    <path clip-path=\"url(#p447cbf0718)\" d=\"M 331.319378 239.758125 \r\nL 339.988679 239.758125 \r\nL 339.988679 238.722696 \r\nL 331.319378 238.722696 \r\nz\r\n\" style=\"fill:#1f77b4;opacity:0.4;\"/>\r\n   </g>\r\n   <g id=\"patch_31\">\r\n    <path clip-path=\"url(#p447cbf0718)\" d=\"M 339.988679 239.758125 \r\nL 348.657979 239.758125 \r\nL 348.657979 237.687268 \r\nL 339.988679 237.687268 \r\nz\r\n\" style=\"fill:#1f77b4;opacity:0.4;\"/>\r\n   </g>\r\n   <g id=\"matplotlib.axis_1\">\r\n    <g id=\"xtick_1\">\r\n     <g id=\"line2d_1\">\r\n      <defs>\r\n       <path d=\"M 0 0 \r\nL 0 3.5 \r\n\" id=\"mfbb2dd293c\" style=\"stroke:#000000;stroke-width:0.8;\"/>\r\n      </defs>\r\n      <g>\r\n       <use style=\"stroke:#000000;stroke-width:0.8;\" x=\"92.746172\" xlink:href=\"#mfbb2dd293c\" y=\"239.758125\"/>\r\n      </g>\r\n     </g>\r\n     <g id=\"text_1\">\r\n      <!-- 0 -->\r\n      <defs>\r\n       <path d=\"M 31.78125 66.40625 \r\nQ 24.171875 66.40625 20.328125 58.90625 \r\nQ 16.5 51.421875 16.5 36.375 \r\nQ 16.5 21.390625 20.328125 13.890625 \r\nQ 24.171875 6.390625 31.78125 6.390625 \r\nQ 39.453125 6.390625 43.28125 13.890625 \r\nQ 47.125 21.390625 47.125 36.375 \r\nQ 47.125 51.421875 43.28125 58.90625 \r\nQ 39.453125 66.40625 31.78125 66.40625 \r\nz\r\nM 31.78125 74.21875 \r\nQ 44.046875 74.21875 50.515625 64.515625 \r\nQ 56.984375 54.828125 56.984375 36.375 \r\nQ 56.984375 17.96875 50.515625 8.265625 \r\nQ 44.046875 -1.421875 31.78125 -1.421875 \r\nQ 19.53125 -1.421875 13.0625 8.265625 \r\nQ 6.59375 17.96875 6.59375 36.375 \r\nQ 6.59375 54.828125 13.0625 64.515625 \r\nQ 19.53125 74.21875 31.78125 74.21875 \r\nz\r\n\" id=\"DejaVuSans-48\"/>\r\n      </defs>\r\n      <g transform=\"translate(89.564922 254.356562)scale(0.1 -0.1)\">\r\n       <use xlink:href=\"#DejaVuSans-48\"/>\r\n      </g>\r\n     </g>\r\n    </g>\r\n    <g id=\"xtick_2\">\r\n     <g id=\"line2d_2\">\r\n      <g>\r\n       <use style=\"stroke:#000000;stroke-width:0.8;\" x=\"132.479013\" xlink:href=\"#mfbb2dd293c\" y=\"239.758125\"/>\r\n      </g>\r\n     </g>\r\n     <g id=\"text_2\">\r\n      <!-- 10000 -->\r\n      <defs>\r\n       <path d=\"M 12.40625 8.296875 \r\nL 28.515625 8.296875 \r\nL 28.515625 63.921875 \r\nL 10.984375 60.40625 \r\nL 10.984375 69.390625 \r\nL 28.421875 72.90625 \r\nL 38.28125 72.90625 \r\nL 38.28125 8.296875 \r\nL 54.390625 8.296875 \r\nL 54.390625 0 \r\nL 12.40625 0 \r\nz\r\n\" id=\"DejaVuSans-49\"/>\r\n      </defs>\r\n      <g transform=\"translate(116.572763 254.356562)scale(0.1 -0.1)\">\r\n       <use xlink:href=\"#DejaVuSans-49\"/>\r\n       <use x=\"63.623047\" xlink:href=\"#DejaVuSans-48\"/>\r\n       <use x=\"127.246094\" xlink:href=\"#DejaVuSans-48\"/>\r\n       <use x=\"190.869141\" xlink:href=\"#DejaVuSans-48\"/>\r\n       <use x=\"254.492188\" xlink:href=\"#DejaVuSans-48\"/>\r\n      </g>\r\n     </g>\r\n    </g>\r\n    <g id=\"xtick_3\">\r\n     <g id=\"line2d_3\">\r\n      <g>\r\n       <use style=\"stroke:#000000;stroke-width:0.8;\" x=\"172.211854\" xlink:href=\"#mfbb2dd293c\" y=\"239.758125\"/>\r\n      </g>\r\n     </g>\r\n     <g id=\"text_3\">\r\n      <!-- 20000 -->\r\n      <defs>\r\n       <path d=\"M 19.1875 8.296875 \r\nL 53.609375 8.296875 \r\nL 53.609375 0 \r\nL 7.328125 0 \r\nL 7.328125 8.296875 \r\nQ 12.9375 14.109375 22.625 23.890625 \r\nQ 32.328125 33.6875 34.8125 36.53125 \r\nQ 39.546875 41.84375 41.421875 45.53125 \r\nQ 43.3125 49.21875 43.3125 52.78125 \r\nQ 43.3125 58.59375 39.234375 62.25 \r\nQ 35.15625 65.921875 28.609375 65.921875 \r\nQ 23.96875 65.921875 18.8125 64.3125 \r\nQ 13.671875 62.703125 7.8125 59.421875 \r\nL 7.8125 69.390625 \r\nQ 13.765625 71.78125 18.9375 73 \r\nQ 24.125 74.21875 28.421875 74.21875 \r\nQ 39.75 74.21875 46.484375 68.546875 \r\nQ 53.21875 62.890625 53.21875 53.421875 \r\nQ 53.21875 48.921875 51.53125 44.890625 \r\nQ 49.859375 40.875 45.40625 35.40625 \r\nQ 44.1875 33.984375 37.640625 27.21875 \r\nQ 31.109375 20.453125 19.1875 8.296875 \r\nz\r\n\" id=\"DejaVuSans-50\"/>\r\n      </defs>\r\n      <g transform=\"translate(156.305604 254.356562)scale(0.1 -0.1)\">\r\n       <use xlink:href=\"#DejaVuSans-50\"/>\r\n       <use x=\"63.623047\" xlink:href=\"#DejaVuSans-48\"/>\r\n       <use x=\"127.246094\" xlink:href=\"#DejaVuSans-48\"/>\r\n       <use x=\"190.869141\" xlink:href=\"#DejaVuSans-48\"/>\r\n       <use x=\"254.492188\" xlink:href=\"#DejaVuSans-48\"/>\r\n      </g>\r\n     </g>\r\n    </g>\r\n    <g id=\"xtick_4\">\r\n     <g id=\"line2d_4\">\r\n      <g>\r\n       <use style=\"stroke:#000000;stroke-width:0.8;\" x=\"211.944695\" xlink:href=\"#mfbb2dd293c\" y=\"239.758125\"/>\r\n      </g>\r\n     </g>\r\n     <g id=\"text_4\">\r\n      <!-- 30000 -->\r\n      <defs>\r\n       <path d=\"M 40.578125 39.3125 \r\nQ 47.65625 37.796875 51.625 33 \r\nQ 55.609375 28.21875 55.609375 21.1875 \r\nQ 55.609375 10.40625 48.1875 4.484375 \r\nQ 40.765625 -1.421875 27.09375 -1.421875 \r\nQ 22.515625 -1.421875 17.65625 -0.515625 \r\nQ 12.796875 0.390625 7.625 2.203125 \r\nL 7.625 11.71875 \r\nQ 11.71875 9.328125 16.59375 8.109375 \r\nQ 21.484375 6.890625 26.8125 6.890625 \r\nQ 36.078125 6.890625 40.9375 10.546875 \r\nQ 45.796875 14.203125 45.796875 21.1875 \r\nQ 45.796875 27.640625 41.28125 31.265625 \r\nQ 36.765625 34.90625 28.71875 34.90625 \r\nL 20.21875 34.90625 \r\nL 20.21875 43.015625 \r\nL 29.109375 43.015625 \r\nQ 36.375 43.015625 40.234375 45.921875 \r\nQ 44.09375 48.828125 44.09375 54.296875 \r\nQ 44.09375 59.90625 40.109375 62.90625 \r\nQ 36.140625 65.921875 28.71875 65.921875 \r\nQ 24.65625 65.921875 20.015625 65.03125 \r\nQ 15.375 64.15625 9.8125 62.3125 \r\nL 9.8125 71.09375 \r\nQ 15.4375 72.65625 20.34375 73.4375 \r\nQ 25.25 74.21875 29.59375 74.21875 \r\nQ 40.828125 74.21875 47.359375 69.109375 \r\nQ 53.90625 64.015625 53.90625 55.328125 \r\nQ 53.90625 49.265625 50.4375 45.09375 \r\nQ 46.96875 40.921875 40.578125 39.3125 \r\nz\r\n\" id=\"DejaVuSans-51\"/>\r\n      </defs>\r\n      <g transform=\"translate(196.038445 254.356562)scale(0.1 -0.1)\">\r\n       <use xlink:href=\"#DejaVuSans-51\"/>\r\n       <use x=\"63.623047\" xlink:href=\"#DejaVuSans-48\"/>\r\n       <use x=\"127.246094\" xlink:href=\"#DejaVuSans-48\"/>\r\n       <use x=\"190.869141\" xlink:href=\"#DejaVuSans-48\"/>\r\n       <use x=\"254.492188\" xlink:href=\"#DejaVuSans-48\"/>\r\n      </g>\r\n     </g>\r\n    </g>\r\n    <g id=\"xtick_5\">\r\n     <g id=\"line2d_5\">\r\n      <g>\r\n       <use style=\"stroke:#000000;stroke-width:0.8;\" x=\"251.677535\" xlink:href=\"#mfbb2dd293c\" y=\"239.758125\"/>\r\n      </g>\r\n     </g>\r\n     <g id=\"text_5\">\r\n      <!-- 40000 -->\r\n      <defs>\r\n       <path d=\"M 37.796875 64.3125 \r\nL 12.890625 25.390625 \r\nL 37.796875 25.390625 \r\nz\r\nM 35.203125 72.90625 \r\nL 47.609375 72.90625 \r\nL 47.609375 25.390625 \r\nL 58.015625 25.390625 \r\nL 58.015625 17.1875 \r\nL 47.609375 17.1875 \r\nL 47.609375 0 \r\nL 37.796875 0 \r\nL 37.796875 17.1875 \r\nL 4.890625 17.1875 \r\nL 4.890625 26.703125 \r\nz\r\n\" id=\"DejaVuSans-52\"/>\r\n      </defs>\r\n      <g transform=\"translate(235.771285 254.356562)scale(0.1 -0.1)\">\r\n       <use xlink:href=\"#DejaVuSans-52\"/>\r\n       <use x=\"63.623047\" xlink:href=\"#DejaVuSans-48\"/>\r\n       <use x=\"127.246094\" xlink:href=\"#DejaVuSans-48\"/>\r\n       <use x=\"190.869141\" xlink:href=\"#DejaVuSans-48\"/>\r\n       <use x=\"254.492188\" xlink:href=\"#DejaVuSans-48\"/>\r\n      </g>\r\n     </g>\r\n    </g>\r\n    <g id=\"xtick_6\">\r\n     <g id=\"line2d_6\">\r\n      <g>\r\n       <use style=\"stroke:#000000;stroke-width:0.8;\" x=\"291.410376\" xlink:href=\"#mfbb2dd293c\" y=\"239.758125\"/>\r\n      </g>\r\n     </g>\r\n     <g id=\"text_6\">\r\n      <!-- 50000 -->\r\n      <defs>\r\n       <path d=\"M 10.796875 72.90625 \r\nL 49.515625 72.90625 \r\nL 49.515625 64.59375 \r\nL 19.828125 64.59375 \r\nL 19.828125 46.734375 \r\nQ 21.96875 47.46875 24.109375 47.828125 \r\nQ 26.265625 48.1875 28.421875 48.1875 \r\nQ 40.625 48.1875 47.75 41.5 \r\nQ 54.890625 34.8125 54.890625 23.390625 \r\nQ 54.890625 11.625 47.5625 5.09375 \r\nQ 40.234375 -1.421875 26.90625 -1.421875 \r\nQ 22.3125 -1.421875 17.546875 -0.640625 \r\nQ 12.796875 0.140625 7.71875 1.703125 \r\nL 7.71875 11.625 \r\nQ 12.109375 9.234375 16.796875 8.0625 \r\nQ 21.484375 6.890625 26.703125 6.890625 \r\nQ 35.15625 6.890625 40.078125 11.328125 \r\nQ 45.015625 15.765625 45.015625 23.390625 \r\nQ 45.015625 31 40.078125 35.4375 \r\nQ 35.15625 39.890625 26.703125 39.890625 \r\nQ 22.75 39.890625 18.8125 39.015625 \r\nQ 14.890625 38.140625 10.796875 36.28125 \r\nz\r\n\" id=\"DejaVuSans-53\"/>\r\n      </defs>\r\n      <g transform=\"translate(275.504126 254.356562)scale(0.1 -0.1)\">\r\n       <use xlink:href=\"#DejaVuSans-53\"/>\r\n       <use x=\"63.623047\" xlink:href=\"#DejaVuSans-48\"/>\r\n       <use x=\"127.246094\" xlink:href=\"#DejaVuSans-48\"/>\r\n       <use x=\"190.869141\" xlink:href=\"#DejaVuSans-48\"/>\r\n       <use x=\"254.492188\" xlink:href=\"#DejaVuSans-48\"/>\r\n      </g>\r\n     </g>\r\n    </g>\r\n    <g id=\"xtick_7\">\r\n     <g id=\"line2d_7\">\r\n      <g>\r\n       <use style=\"stroke:#000000;stroke-width:0.8;\" x=\"331.143217\" xlink:href=\"#mfbb2dd293c\" y=\"239.758125\"/>\r\n      </g>\r\n     </g>\r\n     <g id=\"text_7\">\r\n      <!-- 60000 -->\r\n      <defs>\r\n       <path d=\"M 33.015625 40.375 \r\nQ 26.375 40.375 22.484375 35.828125 \r\nQ 18.609375 31.296875 18.609375 23.390625 \r\nQ 18.609375 15.53125 22.484375 10.953125 \r\nQ 26.375 6.390625 33.015625 6.390625 \r\nQ 39.65625 6.390625 43.53125 10.953125 \r\nQ 47.40625 15.53125 47.40625 23.390625 \r\nQ 47.40625 31.296875 43.53125 35.828125 \r\nQ 39.65625 40.375 33.015625 40.375 \r\nz\r\nM 52.59375 71.296875 \r\nL 52.59375 62.3125 \r\nQ 48.875 64.0625 45.09375 64.984375 \r\nQ 41.3125 65.921875 37.59375 65.921875 \r\nQ 27.828125 65.921875 22.671875 59.328125 \r\nQ 17.53125 52.734375 16.796875 39.40625 \r\nQ 19.671875 43.65625 24.015625 45.921875 \r\nQ 28.375 48.1875 33.59375 48.1875 \r\nQ 44.578125 48.1875 50.953125 41.515625 \r\nQ 57.328125 34.859375 57.328125 23.390625 \r\nQ 57.328125 12.15625 50.6875 5.359375 \r\nQ 44.046875 -1.421875 33.015625 -1.421875 \r\nQ 20.359375 -1.421875 13.671875 8.265625 \r\nQ 6.984375 17.96875 6.984375 36.375 \r\nQ 6.984375 53.65625 15.1875 63.9375 \r\nQ 23.390625 74.21875 37.203125 74.21875 \r\nQ 40.921875 74.21875 44.703125 73.484375 \r\nQ 48.484375 72.75 52.59375 71.296875 \r\nz\r\n\" id=\"DejaVuSans-54\"/>\r\n      </defs>\r\n      <g transform=\"translate(315.236967 254.356562)scale(0.1 -0.1)\">\r\n       <use xlink:href=\"#DejaVuSans-54\"/>\r\n       <use x=\"63.623047\" xlink:href=\"#DejaVuSans-48\"/>\r\n       <use x=\"127.246094\" xlink:href=\"#DejaVuSans-48\"/>\r\n       <use x=\"190.869141\" xlink:href=\"#DejaVuSans-48\"/>\r\n       <use x=\"254.492188\" xlink:href=\"#DejaVuSans-48\"/>\r\n      </g>\r\n     </g>\r\n    </g>\r\n    <g id=\"xtick_8\">\r\n     <g id=\"line2d_8\">\r\n      <g>\r\n       <use style=\"stroke:#000000;stroke-width:0.8;\" x=\"370.876058\" xlink:href=\"#mfbb2dd293c\" y=\"239.758125\"/>\r\n      </g>\r\n     </g>\r\n     <g id=\"text_8\">\r\n      <!-- 70000 -->\r\n      <defs>\r\n       <path d=\"M 8.203125 72.90625 \r\nL 55.078125 72.90625 \r\nL 55.078125 68.703125 \r\nL 28.609375 0 \r\nL 18.3125 0 \r\nL 43.21875 64.59375 \r\nL 8.203125 64.59375 \r\nz\r\n\" id=\"DejaVuSans-55\"/>\r\n      </defs>\r\n      <g transform=\"translate(354.969808 254.356562)scale(0.1 -0.1)\">\r\n       <use xlink:href=\"#DejaVuSans-55\"/>\r\n       <use x=\"63.623047\" xlink:href=\"#DejaVuSans-48\"/>\r\n       <use x=\"127.246094\" xlink:href=\"#DejaVuSans-48\"/>\r\n       <use x=\"190.869141\" xlink:href=\"#DejaVuSans-48\"/>\r\n       <use x=\"254.492188\" xlink:href=\"#DejaVuSans-48\"/>\r\n      </g>\r\n     </g>\r\n    </g>\r\n    <g id=\"text_9\">\r\n     <!-- charges -->\r\n     <defs>\r\n      <path d=\"M 48.78125 52.59375 \r\nL 48.78125 44.1875 \r\nQ 44.96875 46.296875 41.140625 47.34375 \r\nQ 37.3125 48.390625 33.40625 48.390625 \r\nQ 24.65625 48.390625 19.8125 42.84375 \r\nQ 14.984375 37.3125 14.984375 27.296875 \r\nQ 14.984375 17.28125 19.8125 11.734375 \r\nQ 24.65625 6.203125 33.40625 6.203125 \r\nQ 37.3125 6.203125 41.140625 7.25 \r\nQ 44.96875 8.296875 48.78125 10.40625 \r\nL 48.78125 2.09375 \r\nQ 45.015625 0.34375 40.984375 -0.53125 \r\nQ 36.96875 -1.421875 32.421875 -1.421875 \r\nQ 20.0625 -1.421875 12.78125 6.34375 \r\nQ 5.515625 14.109375 5.515625 27.296875 \r\nQ 5.515625 40.671875 12.859375 48.328125 \r\nQ 20.21875 56 33.015625 56 \r\nQ 37.15625 56 41.109375 55.140625 \r\nQ 45.0625 54.296875 48.78125 52.59375 \r\nz\r\n\" id=\"DejaVuSans-99\"/>\r\n      <path d=\"M 54.890625 33.015625 \r\nL 54.890625 0 \r\nL 45.90625 0 \r\nL 45.90625 32.71875 \r\nQ 45.90625 40.484375 42.875 44.328125 \r\nQ 39.84375 48.1875 33.796875 48.1875 \r\nQ 26.515625 48.1875 22.3125 43.546875 \r\nQ 18.109375 38.921875 18.109375 30.90625 \r\nL 18.109375 0 \r\nL 9.078125 0 \r\nL 9.078125 75.984375 \r\nL 18.109375 75.984375 \r\nL 18.109375 46.1875 \r\nQ 21.34375 51.125 25.703125 53.5625 \r\nQ 30.078125 56 35.796875 56 \r\nQ 45.21875 56 50.046875 50.171875 \r\nQ 54.890625 44.34375 54.890625 33.015625 \r\nz\r\n\" id=\"DejaVuSans-104\"/>\r\n      <path d=\"M 34.28125 27.484375 \r\nQ 23.390625 27.484375 19.1875 25 \r\nQ 14.984375 22.515625 14.984375 16.5 \r\nQ 14.984375 11.71875 18.140625 8.90625 \r\nQ 21.296875 6.109375 26.703125 6.109375 \r\nQ 34.1875 6.109375 38.703125 11.40625 \r\nQ 43.21875 16.703125 43.21875 25.484375 \r\nL 43.21875 27.484375 \r\nz\r\nM 52.203125 31.203125 \r\nL 52.203125 0 \r\nL 43.21875 0 \r\nL 43.21875 8.296875 \r\nQ 40.140625 3.328125 35.546875 0.953125 \r\nQ 30.953125 -1.421875 24.3125 -1.421875 \r\nQ 15.921875 -1.421875 10.953125 3.296875 \r\nQ 6 8.015625 6 15.921875 \r\nQ 6 25.140625 12.171875 29.828125 \r\nQ 18.359375 34.515625 30.609375 34.515625 \r\nL 43.21875 34.515625 \r\nL 43.21875 35.40625 \r\nQ 43.21875 41.609375 39.140625 45 \r\nQ 35.0625 48.390625 27.6875 48.390625 \r\nQ 23 48.390625 18.546875 47.265625 \r\nQ 14.109375 46.140625 10.015625 43.890625 \r\nL 10.015625 52.203125 \r\nQ 14.9375 54.109375 19.578125 55.046875 \r\nQ 24.21875 56 28.609375 56 \r\nQ 40.484375 56 46.34375 49.84375 \r\nQ 52.203125 43.703125 52.203125 31.203125 \r\nz\r\n\" id=\"DejaVuSans-97\"/>\r\n      <path d=\"M 41.109375 46.296875 \r\nQ 39.59375 47.171875 37.8125 47.578125 \r\nQ 36.03125 48 33.890625 48 \r\nQ 26.265625 48 22.1875 43.046875 \r\nQ 18.109375 38.09375 18.109375 28.8125 \r\nL 18.109375 0 \r\nL 9.078125 0 \r\nL 9.078125 54.6875 \r\nL 18.109375 54.6875 \r\nL 18.109375 46.1875 \r\nQ 20.953125 51.171875 25.484375 53.578125 \r\nQ 30.03125 56 36.53125 56 \r\nQ 37.453125 56 38.578125 55.875 \r\nQ 39.703125 55.765625 41.0625 55.515625 \r\nz\r\n\" id=\"DejaVuSans-114\"/>\r\n      <path d=\"M 45.40625 27.984375 \r\nQ 45.40625 37.75 41.375 43.109375 \r\nQ 37.359375 48.484375 30.078125 48.484375 \r\nQ 22.859375 48.484375 18.828125 43.109375 \r\nQ 14.796875 37.75 14.796875 27.984375 \r\nQ 14.796875 18.265625 18.828125 12.890625 \r\nQ 22.859375 7.515625 30.078125 7.515625 \r\nQ 37.359375 7.515625 41.375 12.890625 \r\nQ 45.40625 18.265625 45.40625 27.984375 \r\nz\r\nM 54.390625 6.78125 \r\nQ 54.390625 -7.171875 48.1875 -13.984375 \r\nQ 42 -20.796875 29.203125 -20.796875 \r\nQ 24.46875 -20.796875 20.265625 -20.09375 \r\nQ 16.0625 -19.390625 12.109375 -17.921875 \r\nL 12.109375 -9.1875 \r\nQ 16.0625 -11.328125 19.921875 -12.34375 \r\nQ 23.78125 -13.375 27.78125 -13.375 \r\nQ 36.625 -13.375 41.015625 -8.765625 \r\nQ 45.40625 -4.15625 45.40625 5.171875 \r\nL 45.40625 9.625 \r\nQ 42.625 4.78125 38.28125 2.390625 \r\nQ 33.9375 0 27.875 0 \r\nQ 17.828125 0 11.671875 7.65625 \r\nQ 5.515625 15.328125 5.515625 27.984375 \r\nQ 5.515625 40.671875 11.671875 48.328125 \r\nQ 17.828125 56 27.875 56 \r\nQ 33.9375 56 38.28125 53.609375 \r\nQ 42.625 51.21875 45.40625 46.390625 \r\nL 45.40625 54.6875 \r\nL 54.390625 54.6875 \r\nz\r\n\" id=\"DejaVuSans-103\"/>\r\n      <path d=\"M 56.203125 29.59375 \r\nL 56.203125 25.203125 \r\nL 14.890625 25.203125 \r\nQ 15.484375 15.921875 20.484375 11.0625 \r\nQ 25.484375 6.203125 34.421875 6.203125 \r\nQ 39.59375 6.203125 44.453125 7.46875 \r\nQ 49.3125 8.734375 54.109375 11.28125 \r\nL 54.109375 2.78125 \r\nQ 49.265625 0.734375 44.1875 -0.34375 \r\nQ 39.109375 -1.421875 33.890625 -1.421875 \r\nQ 20.796875 -1.421875 13.15625 6.1875 \r\nQ 5.515625 13.8125 5.515625 26.8125 \r\nQ 5.515625 40.234375 12.765625 48.109375 \r\nQ 20.015625 56 32.328125 56 \r\nQ 43.359375 56 49.78125 48.890625 \r\nQ 56.203125 41.796875 56.203125 29.59375 \r\nz\r\nM 47.21875 32.234375 \r\nQ 47.125 39.59375 43.09375 43.984375 \r\nQ 39.0625 48.390625 32.421875 48.390625 \r\nQ 24.90625 48.390625 20.390625 44.140625 \r\nQ 15.875 39.890625 15.1875 32.171875 \r\nz\r\n\" id=\"DejaVuSans-101\"/>\r\n      <path d=\"M 44.28125 53.078125 \r\nL 44.28125 44.578125 \r\nQ 40.484375 46.53125 36.375 47.5 \r\nQ 32.28125 48.484375 27.875 48.484375 \r\nQ 21.1875 48.484375 17.84375 46.4375 \r\nQ 14.5 44.390625 14.5 40.28125 \r\nQ 14.5 37.15625 16.890625 35.375 \r\nQ 19.28125 33.59375 26.515625 31.984375 \r\nL 29.59375 31.296875 \r\nQ 39.15625 29.25 43.1875 25.515625 \r\nQ 47.21875 21.78125 47.21875 15.09375 \r\nQ 47.21875 7.46875 41.1875 3.015625 \r\nQ 35.15625 -1.421875 24.609375 -1.421875 \r\nQ 20.21875 -1.421875 15.453125 -0.5625 \r\nQ 10.6875 0.296875 5.421875 2 \r\nL 5.421875 11.28125 \r\nQ 10.40625 8.6875 15.234375 7.390625 \r\nQ 20.0625 6.109375 24.8125 6.109375 \r\nQ 31.15625 6.109375 34.5625 8.28125 \r\nQ 37.984375 10.453125 37.984375 14.40625 \r\nQ 37.984375 18.0625 35.515625 20.015625 \r\nQ 33.0625 21.96875 24.703125 23.78125 \r\nL 21.578125 24.515625 \r\nQ 13.234375 26.265625 9.515625 29.90625 \r\nQ 5.8125 33.546875 5.8125 39.890625 \r\nQ 5.8125 47.609375 11.28125 51.796875 \r\nQ 16.75 56 26.8125 56 \r\nQ 31.78125 56 36.171875 55.265625 \r\nQ 40.578125 54.546875 44.28125 53.078125 \r\nz\r\n\" id=\"DejaVuSans-115\"/>\r\n     </defs>\r\n     <g transform=\"translate(203.060937 268.034687)scale(0.1 -0.1)\">\r\n      <use xlink:href=\"#DejaVuSans-99\"/>\r\n      <use x=\"54.980469\" xlink:href=\"#DejaVuSans-104\"/>\r\n      <use x=\"118.359375\" xlink:href=\"#DejaVuSans-97\"/>\r\n      <use x=\"179.638672\" xlink:href=\"#DejaVuSans-114\"/>\r\n      <use x=\"220.736328\" xlink:href=\"#DejaVuSans-103\"/>\r\n      <use x=\"284.212891\" xlink:href=\"#DejaVuSans-101\"/>\r\n      <use x=\"345.736328\" xlink:href=\"#DejaVuSans-115\"/>\r\n     </g>\r\n    </g>\r\n   </g>\r\n   <g id=\"matplotlib.axis_2\">\r\n    <g id=\"ytick_1\">\r\n     <g id=\"line2d_9\">\r\n      <defs>\r\n       <path d=\"M 0 0 \r\nL -3.5 0 \r\n\" id=\"m1520970989\" style=\"stroke:#000000;stroke-width:0.8;\"/>\r\n      </defs>\r\n      <g>\r\n       <use style=\"stroke:#000000;stroke-width:0.8;\" x=\"55.553125\" xlink:href=\"#m1520970989\" y=\"239.758125\"/>\r\n      </g>\r\n     </g>\r\n     <g id=\"text_10\">\r\n      <!-- 0.00000 -->\r\n      <defs>\r\n       <path d=\"M 10.6875 12.40625 \r\nL 21 12.40625 \r\nL 21 0 \r\nL 10.6875 0 \r\nz\r\n\" id=\"DejaVuSans-46\"/>\r\n      </defs>\r\n      <g transform=\"translate(7.2 243.557344)scale(0.1 -0.1)\">\r\n       <use xlink:href=\"#DejaVuSans-48\"/>\r\n       <use x=\"63.623047\" xlink:href=\"#DejaVuSans-46\"/>\r\n       <use x=\"95.410156\" xlink:href=\"#DejaVuSans-48\"/>\r\n       <use x=\"159.033203\" xlink:href=\"#DejaVuSans-48\"/>\r\n       <use x=\"222.65625\" xlink:href=\"#DejaVuSans-48\"/>\r\n       <use x=\"286.279297\" xlink:href=\"#DejaVuSans-48\"/>\r\n       <use x=\"349.902344\" xlink:href=\"#DejaVuSans-48\"/>\r\n      </g>\r\n     </g>\r\n    </g>\r\n    <g id=\"ytick_2\">\r\n     <g id=\"line2d_10\">\r\n      <g>\r\n       <use style=\"stroke:#000000;stroke-width:0.8;\" x=\"55.553125\" xlink:href=\"#m1520970989\" y=\"211.0437\"/>\r\n      </g>\r\n     </g>\r\n     <g id=\"text_11\">\r\n      <!-- 0.00001 -->\r\n      <g transform=\"translate(7.2 214.842919)scale(0.1 -0.1)\">\r\n       <use xlink:href=\"#DejaVuSans-48\"/>\r\n       <use x=\"63.623047\" xlink:href=\"#DejaVuSans-46\"/>\r\n       <use x=\"95.410156\" xlink:href=\"#DejaVuSans-48\"/>\r\n       <use x=\"159.033203\" xlink:href=\"#DejaVuSans-48\"/>\r\n       <use x=\"222.65625\" xlink:href=\"#DejaVuSans-48\"/>\r\n       <use x=\"286.279297\" xlink:href=\"#DejaVuSans-48\"/>\r\n       <use x=\"349.902344\" xlink:href=\"#DejaVuSans-49\"/>\r\n      </g>\r\n     </g>\r\n    </g>\r\n    <g id=\"ytick_3\">\r\n     <g id=\"line2d_11\">\r\n      <g>\r\n       <use style=\"stroke:#000000;stroke-width:0.8;\" x=\"55.553125\" xlink:href=\"#m1520970989\" y=\"182.329275\"/>\r\n      </g>\r\n     </g>\r\n     <g id=\"text_12\">\r\n      <!-- 0.00002 -->\r\n      <g transform=\"translate(7.2 186.128494)scale(0.1 -0.1)\">\r\n       <use xlink:href=\"#DejaVuSans-48\"/>\r\n       <use x=\"63.623047\" xlink:href=\"#DejaVuSans-46\"/>\r\n       <use x=\"95.410156\" xlink:href=\"#DejaVuSans-48\"/>\r\n       <use x=\"159.033203\" xlink:href=\"#DejaVuSans-48\"/>\r\n       <use x=\"222.65625\" xlink:href=\"#DejaVuSans-48\"/>\r\n       <use x=\"286.279297\" xlink:href=\"#DejaVuSans-48\"/>\r\n       <use x=\"349.902344\" xlink:href=\"#DejaVuSans-50\"/>\r\n      </g>\r\n     </g>\r\n    </g>\r\n    <g id=\"ytick_4\">\r\n     <g id=\"line2d_12\">\r\n      <g>\r\n       <use style=\"stroke:#000000;stroke-width:0.8;\" x=\"55.553125\" xlink:href=\"#m1520970989\" y=\"153.61485\"/>\r\n      </g>\r\n     </g>\r\n     <g id=\"text_13\">\r\n      <!-- 0.00003 -->\r\n      <g transform=\"translate(7.2 157.414069)scale(0.1 -0.1)\">\r\n       <use xlink:href=\"#DejaVuSans-48\"/>\r\n       <use x=\"63.623047\" xlink:href=\"#DejaVuSans-46\"/>\r\n       <use x=\"95.410156\" xlink:href=\"#DejaVuSans-48\"/>\r\n       <use x=\"159.033203\" xlink:href=\"#DejaVuSans-48\"/>\r\n       <use x=\"222.65625\" xlink:href=\"#DejaVuSans-48\"/>\r\n       <use x=\"286.279297\" xlink:href=\"#DejaVuSans-48\"/>\r\n       <use x=\"349.902344\" xlink:href=\"#DejaVuSans-51\"/>\r\n      </g>\r\n     </g>\r\n    </g>\r\n    <g id=\"ytick_5\">\r\n     <g id=\"line2d_13\">\r\n      <g>\r\n       <use style=\"stroke:#000000;stroke-width:0.8;\" x=\"55.553125\" xlink:href=\"#m1520970989\" y=\"124.900425\"/>\r\n      </g>\r\n     </g>\r\n     <g id=\"text_14\">\r\n      <!-- 0.00004 -->\r\n      <g transform=\"translate(7.2 128.699644)scale(0.1 -0.1)\">\r\n       <use xlink:href=\"#DejaVuSans-48\"/>\r\n       <use x=\"63.623047\" xlink:href=\"#DejaVuSans-46\"/>\r\n       <use x=\"95.410156\" xlink:href=\"#DejaVuSans-48\"/>\r\n       <use x=\"159.033203\" xlink:href=\"#DejaVuSans-48\"/>\r\n       <use x=\"222.65625\" xlink:href=\"#DejaVuSans-48\"/>\r\n       <use x=\"286.279297\" xlink:href=\"#DejaVuSans-48\"/>\r\n       <use x=\"349.902344\" xlink:href=\"#DejaVuSans-52\"/>\r\n      </g>\r\n     </g>\r\n    </g>\r\n    <g id=\"ytick_6\">\r\n     <g id=\"line2d_14\">\r\n      <g>\r\n       <use style=\"stroke:#000000;stroke-width:0.8;\" x=\"55.553125\" xlink:href=\"#m1520970989\" y=\"96.186\"/>\r\n      </g>\r\n     </g>\r\n     <g id=\"text_15\">\r\n      <!-- 0.00005 -->\r\n      <g transform=\"translate(7.2 99.985219)scale(0.1 -0.1)\">\r\n       <use xlink:href=\"#DejaVuSans-48\"/>\r\n       <use x=\"63.623047\" xlink:href=\"#DejaVuSans-46\"/>\r\n       <use x=\"95.410156\" xlink:href=\"#DejaVuSans-48\"/>\r\n       <use x=\"159.033203\" xlink:href=\"#DejaVuSans-48\"/>\r\n       <use x=\"222.65625\" xlink:href=\"#DejaVuSans-48\"/>\r\n       <use x=\"286.279297\" xlink:href=\"#DejaVuSans-48\"/>\r\n       <use x=\"349.902344\" xlink:href=\"#DejaVuSans-53\"/>\r\n      </g>\r\n     </g>\r\n    </g>\r\n    <g id=\"ytick_7\">\r\n     <g id=\"line2d_15\">\r\n      <g>\r\n       <use style=\"stroke:#000000;stroke-width:0.8;\" x=\"55.553125\" xlink:href=\"#m1520970989\" y=\"67.471575\"/>\r\n      </g>\r\n     </g>\r\n     <g id=\"text_16\">\r\n      <!-- 0.00006 -->\r\n      <g transform=\"translate(7.2 71.270794)scale(0.1 -0.1)\">\r\n       <use xlink:href=\"#DejaVuSans-48\"/>\r\n       <use x=\"63.623047\" xlink:href=\"#DejaVuSans-46\"/>\r\n       <use x=\"95.410156\" xlink:href=\"#DejaVuSans-48\"/>\r\n       <use x=\"159.033203\" xlink:href=\"#DejaVuSans-48\"/>\r\n       <use x=\"222.65625\" xlink:href=\"#DejaVuSans-48\"/>\r\n       <use x=\"286.279297\" xlink:href=\"#DejaVuSans-48\"/>\r\n       <use x=\"349.902344\" xlink:href=\"#DejaVuSans-54\"/>\r\n      </g>\r\n     </g>\r\n    </g>\r\n    <g id=\"ytick_8\">\r\n     <g id=\"line2d_16\">\r\n      <g>\r\n       <use style=\"stroke:#000000;stroke-width:0.8;\" x=\"55.553125\" xlink:href=\"#m1520970989\" y=\"38.75715\"/>\r\n      </g>\r\n     </g>\r\n     <g id=\"text_17\">\r\n      <!-- 0.00007 -->\r\n      <g transform=\"translate(7.2 42.556369)scale(0.1 -0.1)\">\r\n       <use xlink:href=\"#DejaVuSans-48\"/>\r\n       <use x=\"63.623047\" xlink:href=\"#DejaVuSans-46\"/>\r\n       <use x=\"95.410156\" xlink:href=\"#DejaVuSans-48\"/>\r\n       <use x=\"159.033203\" xlink:href=\"#DejaVuSans-48\"/>\r\n       <use x=\"222.65625\" xlink:href=\"#DejaVuSans-48\"/>\r\n       <use x=\"286.279297\" xlink:href=\"#DejaVuSans-48\"/>\r\n       <use x=\"349.902344\" xlink:href=\"#DejaVuSans-55\"/>\r\n      </g>\r\n     </g>\r\n    </g>\r\n   </g>\r\n   <g id=\"line2d_17\">\r\n    <path clip-path=\"url(#p447cbf0718)\" d=\"M 70.771307 239.460162 \r\nL 73.167871 239.06567 \r\nL 75.564435 238.246194 \r\nL 77.960999 236.668292 \r\nL 80.357563 233.847784 \r\nL 82.754127 229.167471 \r\nL 85.150691 221.960391 \r\nL 87.547255 211.667365 \r\nL 89.943819 198.043166 \r\nL 92.340383 181.346361 \r\nL 97.133512 142.650629 \r\nL 99.530076 123.643578 \r\nL 101.92664 106.949705 \r\nL 104.323204 93.699362 \r\nL 106.719768 84.412607 \r\nL 109.116332 78.984178 \r\nL 111.512896 76.826619 \r\nL 113.90946 77.096152 \r\nL 116.306024 78.91758 \r\nL 118.702588 81.550536 \r\nL 128.288844 93.26725 \r\nL 130.685408 96.508505 \r\nL 133.081973 100.345284 \r\nL 135.478537 105.116051 \r\nL 137.875101 111.128475 \r\nL 140.271665 118.583422 \r\nL 142.668229 127.498057 \r\nL 145.064793 137.653498 \r\nL 152.254485 170.225008 \r\nL 154.651049 179.596804 \r\nL 157.047613 187.366267 \r\nL 159.444177 193.361321 \r\nL 161.840741 197.669259 \r\nL 164.237305 200.576665 \r\nL 166.633869 202.474682 \r\nL 169.030434 203.761403 \r\nL 178.61669 207.853243 \r\nL 183.409818 210.337545 \r\nL 188.202946 213.023209 \r\nL 192.996074 215.888782 \r\nL 202.58233 222.026415 \r\nL 207.375459 225.009218 \r\nL 209.772023 226.354094 \r\nL 212.168587 227.502702 \r\nL 214.565151 228.355447 \r\nL 216.961715 228.811421 \r\nL 219.358279 228.79447 \r\nL 221.754843 228.278559 \r\nL 224.151407 227.302587 \r\nL 226.547971 225.968137 \r\nL 233.737663 221.298603 \r\nL 236.134227 219.969915 \r\nL 238.530791 218.890148 \r\nL 240.927355 218.0825 \r\nL 243.32392 217.548103 \r\nL 245.720484 217.279586 \r\nL 248.117048 217.267624 \r\nL 250.513612 217.499008 \r\nL 252.910176 217.949716 \r\nL 255.30674 218.579073 \r\nL 267.28956 222.334876 \r\nL 272.082688 223.420877 \r\nL 276.875816 224.48953 \r\nL 279.272381 225.190524 \r\nL 281.668945 226.092966 \r\nL 284.065509 227.230799 \r\nL 286.462073 228.592457 \r\nL 296.048329 234.668592 \r\nL 298.444893 235.863455 \r\nL 300.841457 236.816461 \r\nL 303.238021 237.534178 \r\nL 305.634585 238.048186 \r\nL 308.031149 238.401192 \r\nL 312.824277 238.784374 \r\nL 317.617406 238.914783 \r\nL 324.807098 238.857999 \r\nL 339.186482 238.664006 \r\nL 346.376174 238.787058 \r\nL 355.962431 239.289685 \r\nL 363.152123 239.611732 \r\nL 370.341815 239.717854 \r\nL 375.134943 239.634606 \r\nL 375.134943 239.634606 \r\n\" style=\"fill:none;stroke:#1f77b4;stroke-linecap:square;stroke-width:1.5;\"/>\r\n   </g>\r\n   <g id=\"patch_32\">\r\n    <path d=\"M 55.553125 239.758125 \r\nL 55.553125 22.318125 \r\n\" style=\"fill:none;stroke:#000000;stroke-linecap:square;stroke-linejoin:miter;stroke-width:0.8;\"/>\r\n   </g>\r\n   <g id=\"patch_33\">\r\n    <path d=\"M 390.353125 239.758125 \r\nL 390.353125 22.318125 \r\n\" style=\"fill:none;stroke:#000000;stroke-linecap:square;stroke-linejoin:miter;stroke-width:0.8;\"/>\r\n   </g>\r\n   <g id=\"patch_34\">\r\n    <path d=\"M 55.553125 239.758125 \r\nL 390.353125 239.758125 \r\n\" style=\"fill:none;stroke:#000000;stroke-linecap:square;stroke-linejoin:miter;stroke-width:0.8;\"/>\r\n   </g>\r\n   <g id=\"patch_35\">\r\n    <path d=\"M 55.553125 22.318125 \r\nL 390.353125 22.318125 \r\n\" style=\"fill:none;stroke:#000000;stroke-linecap:square;stroke-linejoin:miter;stroke-width:0.8;\"/>\r\n   </g>\r\n   <g id=\"text_18\">\r\n    <!-- Distribution charges -->\r\n    <defs>\r\n     <path d=\"M 19.671875 64.796875 \r\nL 19.671875 8.109375 \r\nL 31.59375 8.109375 \r\nQ 46.6875 8.109375 53.6875 14.9375 \r\nQ 60.6875 21.78125 60.6875 36.53125 \r\nQ 60.6875 51.171875 53.6875 57.984375 \r\nQ 46.6875 64.796875 31.59375 64.796875 \r\nz\r\nM 9.8125 72.90625 \r\nL 30.078125 72.90625 \r\nQ 51.265625 72.90625 61.171875 64.09375 \r\nQ 71.09375 55.28125 71.09375 36.53125 \r\nQ 71.09375 17.671875 61.125 8.828125 \r\nQ 51.171875 0 30.078125 0 \r\nL 9.8125 0 \r\nz\r\n\" id=\"DejaVuSans-68\"/>\r\n     <path d=\"M 9.421875 54.6875 \r\nL 18.40625 54.6875 \r\nL 18.40625 0 \r\nL 9.421875 0 \r\nz\r\nM 9.421875 75.984375 \r\nL 18.40625 75.984375 \r\nL 18.40625 64.59375 \r\nL 9.421875 64.59375 \r\nz\r\n\" id=\"DejaVuSans-105\"/>\r\n     <path d=\"M 18.3125 70.21875 \r\nL 18.3125 54.6875 \r\nL 36.8125 54.6875 \r\nL 36.8125 47.703125 \r\nL 18.3125 47.703125 \r\nL 18.3125 18.015625 \r\nQ 18.3125 11.328125 20.140625 9.421875 \r\nQ 21.96875 7.515625 27.59375 7.515625 \r\nL 36.8125 7.515625 \r\nL 36.8125 0 \r\nL 27.59375 0 \r\nQ 17.1875 0 13.234375 3.875 \r\nQ 9.28125 7.765625 9.28125 18.015625 \r\nL 9.28125 47.703125 \r\nL 2.6875 47.703125 \r\nL 2.6875 54.6875 \r\nL 9.28125 54.6875 \r\nL 9.28125 70.21875 \r\nz\r\n\" id=\"DejaVuSans-116\"/>\r\n     <path d=\"M 48.6875 27.296875 \r\nQ 48.6875 37.203125 44.609375 42.84375 \r\nQ 40.53125 48.484375 33.40625 48.484375 \r\nQ 26.265625 48.484375 22.1875 42.84375 \r\nQ 18.109375 37.203125 18.109375 27.296875 \r\nQ 18.109375 17.390625 22.1875 11.75 \r\nQ 26.265625 6.109375 33.40625 6.109375 \r\nQ 40.53125 6.109375 44.609375 11.75 \r\nQ 48.6875 17.390625 48.6875 27.296875 \r\nz\r\nM 18.109375 46.390625 \r\nQ 20.953125 51.265625 25.265625 53.625 \r\nQ 29.59375 56 35.59375 56 \r\nQ 45.5625 56 51.78125 48.09375 \r\nQ 58.015625 40.1875 58.015625 27.296875 \r\nQ 58.015625 14.40625 51.78125 6.484375 \r\nQ 45.5625 -1.421875 35.59375 -1.421875 \r\nQ 29.59375 -1.421875 25.265625 0.953125 \r\nQ 20.953125 3.328125 18.109375 8.203125 \r\nL 18.109375 0 \r\nL 9.078125 0 \r\nL 9.078125 75.984375 \r\nL 18.109375 75.984375 \r\nz\r\n\" id=\"DejaVuSans-98\"/>\r\n     <path d=\"M 8.5 21.578125 \r\nL 8.5 54.6875 \r\nL 17.484375 54.6875 \r\nL 17.484375 21.921875 \r\nQ 17.484375 14.15625 20.5 10.265625 \r\nQ 23.53125 6.390625 29.59375 6.390625 \r\nQ 36.859375 6.390625 41.078125 11.03125 \r\nQ 45.3125 15.671875 45.3125 23.6875 \r\nL 45.3125 54.6875 \r\nL 54.296875 54.6875 \r\nL 54.296875 0 \r\nL 45.3125 0 \r\nL 45.3125 8.40625 \r\nQ 42.046875 3.421875 37.71875 1 \r\nQ 33.40625 -1.421875 27.6875 -1.421875 \r\nQ 18.265625 -1.421875 13.375 4.4375 \r\nQ 8.5 10.296875 8.5 21.578125 \r\nz\r\nM 31.109375 56 \r\nz\r\n\" id=\"DejaVuSans-117\"/>\r\n     <path d=\"M 30.609375 48.390625 \r\nQ 23.390625 48.390625 19.1875 42.75 \r\nQ 14.984375 37.109375 14.984375 27.296875 \r\nQ 14.984375 17.484375 19.15625 11.84375 \r\nQ 23.34375 6.203125 30.609375 6.203125 \r\nQ 37.796875 6.203125 41.984375 11.859375 \r\nQ 46.1875 17.53125 46.1875 27.296875 \r\nQ 46.1875 37.015625 41.984375 42.703125 \r\nQ 37.796875 48.390625 30.609375 48.390625 \r\nz\r\nM 30.609375 56 \r\nQ 42.328125 56 49.015625 48.375 \r\nQ 55.71875 40.765625 55.71875 27.296875 \r\nQ 55.71875 13.875 49.015625 6.21875 \r\nQ 42.328125 -1.421875 30.609375 -1.421875 \r\nQ 18.84375 -1.421875 12.171875 6.21875 \r\nQ 5.515625 13.875 5.515625 27.296875 \r\nQ 5.515625 40.765625 12.171875 48.375 \r\nQ 18.84375 56 30.609375 56 \r\nz\r\n\" id=\"DejaVuSans-111\"/>\r\n     <path d=\"M 54.890625 33.015625 \r\nL 54.890625 0 \r\nL 45.90625 0 \r\nL 45.90625 32.71875 \r\nQ 45.90625 40.484375 42.875 44.328125 \r\nQ 39.84375 48.1875 33.796875 48.1875 \r\nQ 26.515625 48.1875 22.3125 43.546875 \r\nQ 18.109375 38.921875 18.109375 30.90625 \r\nL 18.109375 0 \r\nL 9.078125 0 \r\nL 9.078125 54.6875 \r\nL 18.109375 54.6875 \r\nL 18.109375 46.1875 \r\nQ 21.34375 51.125 25.703125 53.5625 \r\nQ 30.078125 56 35.796875 56 \r\nQ 45.21875 56 50.046875 50.171875 \r\nQ 54.890625 44.34375 54.890625 33.015625 \r\nz\r\n\" id=\"DejaVuSans-110\"/>\r\n     <path id=\"DejaVuSans-32\"/>\r\n    </defs>\r\n    <g transform=\"translate(162.173125 16.318125)scale(0.12 -0.12)\">\r\n     <use xlink:href=\"#DejaVuSans-68\"/>\r\n     <use x=\"77.001953\" xlink:href=\"#DejaVuSans-105\"/>\r\n     <use x=\"104.785156\" xlink:href=\"#DejaVuSans-115\"/>\r\n     <use x=\"156.884766\" xlink:href=\"#DejaVuSans-116\"/>\r\n     <use x=\"196.09375\" xlink:href=\"#DejaVuSans-114\"/>\r\n     <use x=\"237.207031\" xlink:href=\"#DejaVuSans-105\"/>\r\n     <use x=\"264.990234\" xlink:href=\"#DejaVuSans-98\"/>\r\n     <use x=\"328.466797\" xlink:href=\"#DejaVuSans-117\"/>\r\n     <use x=\"391.845703\" xlink:href=\"#DejaVuSans-116\"/>\r\n     <use x=\"431.054688\" xlink:href=\"#DejaVuSans-105\"/>\r\n     <use x=\"458.837891\" xlink:href=\"#DejaVuSans-111\"/>\r\n     <use x=\"520.019531\" xlink:href=\"#DejaVuSans-110\"/>\r\n     <use x=\"583.398438\" xlink:href=\"#DejaVuSans-32\"/>\r\n     <use x=\"615.185547\" xlink:href=\"#DejaVuSans-99\"/>\r\n     <use x=\"670.166016\" xlink:href=\"#DejaVuSans-104\"/>\r\n     <use x=\"733.544922\" xlink:href=\"#DejaVuSans-97\"/>\r\n     <use x=\"794.824219\" xlink:href=\"#DejaVuSans-114\"/>\r\n     <use x=\"835.921875\" xlink:href=\"#DejaVuSans-103\"/>\r\n     <use x=\"899.398438\" xlink:href=\"#DejaVuSans-101\"/>\r\n     <use x=\"960.921875\" xlink:href=\"#DejaVuSans-115\"/>\r\n    </g>\r\n   </g>\r\n  </g>\r\n </g>\r\n <defs>\r\n  <clipPath id=\"p447cbf0718\">\r\n   <rect height=\"217.44\" width=\"334.8\" x=\"55.553125\" y=\"22.318125\"/>\r\n  </clipPath>\r\n </defs>\r\n</svg>\r\n",
      "image/png": "[encoded data removed]"
     },
     "metadata": {
      "needs_background": "light"
     }
    }
   ],
   "source": [
    "# Write your answer here\n",
    "print('minimum: {}'.format(dataframe.charges.min()))\n",
    "print('maximum: {}'.format(dataframe.charges.max()))\n",
    "print('average: {}'.format(dataframe.charges.mean()))\n",
    "plt.title('Distribution charges')\n",
    "sns.distplot(dataframe.charges)\n"
   ]
  },
  {
   "cell_type": "markdown",
   "metadata": {},
   "source": [
    "Remember to commit your notebook to Jovian after every step, so that you don't lose your work."
   ]
  },
  {
   "cell_type": "code",
   "execution_count": 247,
   "metadata": {},
   "outputs": [
    {
     "output_type": "display_data",
     "data": {
      "text/plain": "<IPython.core.display.Javascript object>",
      "application/javascript": "window.require && require([\"base/js/namespace\"],function(Jupyter){Jupyter.notebook.save_checkpoint()})"
     },
     "metadata": {}
    },
    {
     "output_type": "stream",
     "name": "stdout",
     "text": "[jovian] Attempting to save notebook..\n[jovian] Updating notebook \"adess23/02-insurance-linear-regression\" on https://jovian.ml/\n[jovian] Uploading notebook..\n[jovian] Attaching records (metrics, hyperparameters, dataset etc.)\n[jovian] Committed successfully! https://jovian.ml/adess23/02-insurance-linear-regression\n"
    },
    {
     "output_type": "execute_result",
     "data": {
      "text/plain": "'https://jovian.ml/adess23/02-insurance-linear-regression'"
     },
     "metadata": {},
     "execution_count": 247
    }
   ],
   "source": [
    "jovian.commit(project=project_name, environment=None, filename='02-insurance-linear.ipynb')"
   ]
  },
  {
   "cell_type": "markdown",
   "metadata": {},
   "source": [
    "## Step 2: Prepare the dataset for training\n",
    "\n",
    "We need to convert the data from the Pandas dataframe into a PyTorch tensors for training. To do this, the first step is to convert it numpy arrays. If you've filled out `input_cols`, `categorial_cols` and `output_cols` correctly, this following function will perform the conversion to numpy arrays."
   ]
  },
  {
   "cell_type": "code",
   "execution_count": 18,
   "metadata": {},
   "outputs": [],
   "source": [
    "def dataframe_to_arrays(dataframe):\n",
    "    # Make a copy of the original dataframe\n",
    "    dataframe1 = dataframe.copy(deep=True)\n",
    "    # Convert non-numeric categorical columns to numbers\n",
    "    for col in categorical_cols:\n",
    "        dataframe1[col] = dataframe1[col].astype('category').cat.codes\n",
    "    # Extract input & outupts as numpy arrays\n",
    "    inputs_array = dataframe1[input_cols].to_numpy()\n",
    "    targets_array = dataframe1[output_cols].to_numpy()\n",
    "    return inputs_array, targets_array"
   ]
  },
  {
   "cell_type": "markdown",
   "metadata": {},
   "source": [
    "Read through the [Pandas documentation](https://pandas.pydata.org/pandas-docs/stable/user_guide/categorical.html) to understand how we're converting categorical variables into numbers."
   ]
  },
  {
   "cell_type": "code",
   "execution_count": 19,
   "metadata": {},
   "outputs": [
    {
     "output_type": "execute_result",
     "data": {
      "text/plain": "(array([[55.    ,  0.    , 35.397 ,  2.    ,  0.    ,  1.    ],\n        [63.    ,  0.    , 39.798 ,  0.    ,  0.    ,  2.    ],\n        [54.    ,  1.    , 42.768 ,  1.    ,  0.    ,  3.    ],\n        ...,\n        [58.    ,  1.    , 34.5708,  1.    ,  0.    ,  2.    ],\n        [32.    ,  0.    , 47.7576,  0.    ,  0.    ,  2.    ],\n        [35.    ,  1.    , 19.2888,  1.    ,  0.    ,  1.    ]]),\n array([[12391.3185725],\n        [14026.848185 ],\n        [10555.05752  ],\n        ...,\n        [12066.092159 ],\n        [ 4034.119578 ],\n        [ 5167.665404 ]]))"
     },
     "metadata": {},
     "execution_count": 19
    }
   ],
   "source": [
    "inputs_array, targets_array = dataframe_to_arrays(dataframe)\n",
    "inputs_array, targets_array"
   ]
  },
  {
   "cell_type": "markdown",
   "metadata": {},
   "source": [
    "**Q: Convert the numpy arrays `inputs_array` and `targets_array` into PyTorch tensors. Make sure that the data type is `torch.float32`.**"
   ]
  },
  {
   "cell_type": "code",
   "execution_count": 20,
   "metadata": {},
   "outputs": [
    {
     "output_type": "execute_result",
     "data": {
      "text/plain": "(tensor([[55.0000,  0.0000, 35.3970,  2.0000,  0.0000,  1.0000],\n         [63.0000,  0.0000, 39.7980,  0.0000,  0.0000,  2.0000],\n         [54.0000,  1.0000, 42.7680,  1.0000,  0.0000,  3.0000],\n         ...,\n         [58.0000,  1.0000, 34.5708,  1.0000,  0.0000,  2.0000],\n         [32.0000,  0.0000, 47.7576,  0.0000,  0.0000,  2.0000],\n         [35.0000,  1.0000, 19.2888,  1.0000,  0.0000,  1.0000]]),\n tensor([[12391.3184],\n         [14026.8486],\n         [10555.0576],\n         ...,\n         [12066.0918],\n         [ 4034.1196],\n         [ 5167.6655]]))"
     },
     "metadata": {},
     "execution_count": 20
    }
   ],
   "source": [
    "inputs =  torch.Tensor(inputs_array)\n",
    "targets = torch.Tensor(targets_array)\n",
    "inputs, targets"
   ]
  },
  {
   "cell_type": "code",
   "execution_count": 21,
   "metadata": {},
   "outputs": [
    {
     "output_type": "execute_result",
     "data": {
      "text/plain": "(torch.float32, torch.float32)"
     },
     "metadata": {},
     "execution_count": 21
    }
   ],
   "source": [
    "inputs.dtype, targets.dtype"
   ]
  },
  {
   "cell_type": "markdown",
   "metadata": {},
   "source": [
    "Next, we need to create PyTorch datasets & data loaders for training & validation. We'll start by creating a `TensorDataset`."
   ]
  },
  {
   "cell_type": "code",
   "execution_count": 22,
   "metadata": {},
   "outputs": [],
   "source": [
    "dataset = TensorDataset(inputs, targets)"
   ]
  },
  {
   "cell_type": "markdown",
   "metadata": {},
   "source": [
    "**Q: Pick a number between `0.1` and `0.2` to determine the fraction of data that will be used for creating the validation set. Then use `random_split` to create training & validation datasets. **"
   ]
  },
  {
   "cell_type": "code",
   "execution_count": 23,
   "metadata": {},
   "outputs": [],
   "source": [
    "val_percent = 0.1 # between 0.1 and 0.2\n",
    "val_size = int(num_rows * val_percent)\n",
    "train_size = num_rows - val_size\n",
    "\n",
    "lengths = [int(round(len(dataset)*0.8)), int(round(len(dataset)*0.2))]\n",
    "train_ds, val_ds = random_split(dataset, lengths) # Use the random_split function to split dataset into 2 parts of the desired length\n"
   ]
  },
  {
   "cell_type": "markdown",
   "metadata": {},
   "source": [
    "Finally, we can create data loaders for training & validation.\n",
    "\n",
    "**Q: Pick a batch size for the data loader.**"
   ]
  },
  {
   "cell_type": "code",
   "execution_count": 24,
   "metadata": {},
   "outputs": [],
   "source": [
    "batch_size = 128"
   ]
  },
  {
   "cell_type": "code",
   "execution_count": 25,
   "metadata": {},
   "outputs": [
    {
     "output_type": "execute_result",
     "data": {
      "text/plain": "<torch.utils.data.dataloader.DataLoader at 0x2986c609788>"
     },
     "metadata": {},
     "execution_count": 25
    }
   ],
   "source": [
    "train_loader = DataLoader(train_ds, batch_size, shuffle=True)\n",
    "val_loader = DataLoader(val_ds, batch_size)\n",
    "train_loader"
   ]
  },
  {
   "cell_type": "markdown",
   "metadata": {},
   "source": [
    "Let's look at a batch of data to verify everything is working fine so far."
   ]
  },
  {
   "cell_type": "code",
   "execution_count": 26,
   "metadata": {},
   "outputs": [
    {
     "output_type": "stream",
     "name": "stdout",
     "text": "inputs: tensor([[32.0000,  1.0000, 32.4324,  1.0000,  0.0000,  2.0000],\n        [60.0000,  0.0000, 30.9960,  1.0000,  0.0000,  3.0000],\n        [49.0000,  0.0000, 36.0126,  2.0000,  0.0000,  0.0000],\n        [37.0000,  0.0000, 41.4612,  0.0000,  1.0000,  2.0000],\n        [37.0000,  1.0000, 32.0112,  0.0000,  0.0000,  1.0000],\n        [62.0000,  1.0000, 33.9768,  1.0000,  0.0000,  2.0000],\n        [24.0000,  1.0000, 28.9332,  1.0000,  0.0000,  1.0000],\n        [61.0000,  0.0000, 31.3956,  0.0000,  1.0000,  1.0000],\n        [55.0000,  0.0000, 34.9866,  1.0000,  0.0000,  0.0000],\n        [32.0000,  0.0000, 34.0632,  1.0000,  0.0000,  0.0000],\n        [55.0000,  1.0000, 36.5904,  3.0000,  0.0000,  2.0000],\n        [18.0000,  0.0000, 41.3424,  0.0000,  0.0000,  2.0000],\n        [26.0000,  0.0000, 18.5706,  2.0000,  1.0000,  0.0000],\n        [28.0000,  1.0000, 25.7040,  2.0000,  0.0000,  3.0000],\n        [35.0000,  0.0000, 25.3422,  2.0000,  0.0000,  0.0000],\n        [50.0000,  1.0000, 34.7814,  0.0000,  0.0000,  1.0000],\n        [37.0000,  0.0000, 27.5994,  1.0000,  1.0000,  0.0000],\n        [53.0000,  0.0000, 34.8840,  2.0000,  0.0000,  0.0000],\n        [44.0000,  1.0000, 23.9058,  2.0000,  0.0000,  0.0000],\n        [53.0000,  1.0000, 39.5280,  3.0000,  0.0000,  3.0000],\n        [31.0000,  1.0000, 41.4612,  2.0000,  0.0000,  2.0000],\n        [40.0000,  0.0000, 31.6440,  4.0000,  0.0000,  3.0000],\n        [51.0000,  1.0000, 39.9600,  0.0000,  0.0000,  3.0000],\n        [47.0000,  0.0000, 36.0126,  0.0000,  0.0000,  0.0000],\n        [29.0000,  0.0000, 27.6480,  4.0000,  0.0000,  3.0000],\n        [55.0000,  1.0000, 23.2200,  1.0000,  0.0000,  3.0000],\n        [24.0000,  0.0000, 36.7092,  0.0000,  0.0000,  2.0000],\n        [59.0000,  1.0000, 26.6760,  0.0000,  0.0000,  0.0000],\n        [45.0000,  1.0000, 24.7266,  0.0000,  1.0000,  0.0000],\n        [49.0000,  1.0000, 24.3162,  0.0000,  0.0000,  0.0000],\n        [24.0000,  1.0000, 43.3620,  0.0000,  1.0000,  2.0000],\n        [55.0000,  0.0000, 32.5512,  2.0000,  0.0000,  2.0000],\n        [47.0000,  1.0000, 20.7252,  1.0000,  0.0000,  0.0000],\n        [63.0000,  1.0000, 37.8972,  0.0000,  1.0000,  2.0000],\n        [18.0000,  0.0000, 32.5242,  0.0000,  0.0000,  0.0000],\n        [57.0000,  1.0000, 43.5996,  0.0000,  0.0000,  2.0000],\n        [18.0000,  0.0000, 27.0864,  0.0000,  0.0000,  0.0000],\n        [22.0000,  0.0000, 32.8320,  0.0000,  0.0000,  0.0000],\n        [54.0000,  0.0000, 34.4520,  1.0000,  0.0000,  2.0000],\n        [39.0000,  0.0000, 37.0656,  5.0000,  0.0000,  2.0000],\n        [29.0000,  1.0000, 40.2732,  2.0000,  0.0000,  2.0000],\n        [22.0000,  1.0000, 34.2684,  0.0000,  0.0000,  0.0000],\n        [18.0000,  1.0000, 24.9318,  0.0000,  0.0000,  0.0000],\n        [40.0000,  1.0000, 32.2920,  2.0000,  0.0000,  3.0000],\n        [31.0000,  1.0000, 37.1412,  3.0000,  1.0000,  1.0000],\n        [62.0000,  0.0000, 42.3360,  0.0000,  0.0000,  3.0000],\n        [27.0000,  0.0000, 33.9120,  0.0000,  1.0000,  3.0000],\n        [18.0000,  0.0000, 43.0056,  0.0000,  0.0000,  2.0000],\n        [62.0000,  0.0000, 32.3136,  0.0000,  0.0000,  2.0000],\n        [24.0000,  0.0000, 22.1616,  0.0000,  1.0000,  0.0000],\n        [63.0000,  0.0000, 39.2040,  0.0000,  0.0000,  2.0000],\n        [19.0000,  0.0000, 30.1320,  0.0000,  1.0000,  3.0000],\n        [23.0000,  1.0000, 38.0160,  1.0000,  0.0000,  3.0000],\n        [22.0000,  1.0000, 40.6296,  1.0000,  1.0000,  2.0000],\n        [52.0000,  1.0000, 35.9100,  0.0000,  0.0000,  0.0000],\n        [32.0000,  0.0000, 32.1840,  2.0000,  0.0000,  3.0000],\n        [26.0000,  0.0000, 36.9360,  2.0000,  0.0000,  3.0000],\n        [43.0000,  1.0000, 41.1048,  2.0000,  1.0000,  2.0000],\n        [50.0000,  1.0000, 34.6788,  2.0000,  0.0000,  0.0000],\n        [38.0000,  1.0000, 40.0140,  1.0000,  0.0000,  0.0000],\n        [53.0000,  1.0000, 26.2656,  0.0000,  0.0000,  1.0000],\n        [48.0000,  0.0000, 34.8084,  1.0000,  0.0000,  2.0000],\n        [26.0000,  1.0000, 32.4000,  1.0000,  0.0000,  3.0000],\n        [42.0000,  1.0000, 28.2150,  2.0000,  0.0000,  0.0000],\n        [36.0000,  1.0000, 33.3450,  1.0000,  0.0000,  1.0000],\n        [26.0000,  0.0000, 32.0112,  4.0000,  0.0000,  0.0000],\n        [60.0000,  0.0000, 26.4924,  0.0000,  0.0000,  2.0000],\n        [64.0000,  1.0000, 41.2452,  0.0000,  0.0000,  0.0000],\n        [40.0000,  1.0000, 38.1240,  3.0000,  0.0000,  3.0000],\n        [47.0000,  1.0000, 39.0852,  0.0000,  1.0000,  2.0000],\n        [60.0000,  0.0000, 25.9578,  0.0000,  0.0000,  1.0000],\n        [22.0000,  0.0000, 30.2940,  0.0000,  0.0000,  2.0000],\n        [43.0000,  1.0000, 21.7404,  2.0000,  1.0000,  2.0000],\n        [24.0000,  1.0000, 35.3160,  0.0000,  1.0000,  3.0000],\n        [41.0000,  1.0000, 38.6100,  1.0000,  1.0000,  2.0000],\n        [58.0000,  0.0000, 34.9866,  1.0000,  0.0000,  0.0000],\n        [56.0000,  0.0000, 31.0878,  0.0000,  0.0000,  0.0000],\n        [50.0000,  1.0000, 34.8840,  2.0000,  0.0000,  3.0000],\n        [22.0000,  1.0000, 36.4716,  0.0000,  0.0000,  2.0000],\n        [38.0000,  1.0000, 20.8440,  0.0000,  1.0000,  3.0000],\n        [32.0000,  1.0000, 30.3696,  4.0000,  1.0000,  1.0000],\n        [20.0000,  0.0000, 23.5440,  0.0000,  1.0000,  3.0000],\n        [19.0000,  0.0000, 30.5640,  0.0000,  1.0000,  3.0000],\n        [31.0000,  1.0000, 30.8826,  1.0000,  0.0000,  1.0000],\n        [36.0000,  1.0000, 36.5256,  1.0000,  0.0000,  1.0000],\n        [45.0000,  0.0000, 32.9346,  1.0000,  1.0000,  1.0000],\n        [18.0000,  0.0000, 45.6192,  0.0000,  1.0000,  2.0000],\n        [51.0000,  1.0000, 38.8476,  1.0000,  0.0000,  2.0000],\n        [40.0000,  1.0000, 21.3840,  1.0000,  1.0000,  2.0000],\n        [29.0000,  1.0000, 34.2684,  2.0000,  0.0000,  1.0000],\n        [33.0000,  0.0000, 23.9058,  1.0000,  0.0000,  0.0000],\n        [29.0000,  1.0000, 34.6788,  2.0000,  0.0000,  1.0000],\n        [25.0000,  1.0000, 27.9072,  1.0000,  0.0000,  0.0000],\n        [29.0000,  1.0000, 38.3400,  2.0000,  1.0000,  3.0000],\n        [19.0000,  0.0000, 19.2240,  0.0000,  0.0000,  3.0000],\n        [19.0000,  1.0000, 21.3840,  0.0000,  0.0000,  3.0000],\n        [31.0000,  0.0000, 27.7992,  0.0000,  0.0000,  2.0000],\n        [46.0000,  1.0000, 45.7380,  3.0000,  1.0000,  2.0000],\n        [28.0000,  1.0000, 26.2440,  5.0000,  0.0000,  3.0000],\n        [19.0000,  1.0000, 27.1890,  0.0000,  0.0000,  1.0000],\n        [57.0000,  0.0000, 32.9346,  0.0000,  0.0000,  1.0000],\n        [18.0000,  1.0000, 27.1890,  0.0000,  1.0000,  0.0000],\n        [19.0000,  0.0000, 22.2480,  0.0000,  0.0000,  3.0000],\n        [55.0000,  1.0000, 40.7322,  3.0000,  0.0000,  1.0000],\n        [40.0000,  0.0000, 32.1948,  1.0000,  0.0000,  2.0000],\n        [47.0000,  1.0000, 51.3216,  1.0000,  0.0000,  2.0000],\n        [21.0000,  1.0000, 21.8538,  3.0000,  0.0000,  0.0000],\n        [48.0000,  0.0000, 27.9180,  3.0000,  1.0000,  2.0000],\n        [24.0000,  1.0000, 38.7288,  0.0000,  0.0000,  2.0000],\n        [57.0000,  1.0000, 30.1752,  1.0000,  0.0000,  2.0000],\n        [23.0000,  1.0000, 26.4708,  0.0000,  0.0000,  0.0000],\n        [19.0000,  1.0000, 18.8784,  0.0000,  0.0000,  1.0000],\n        [56.0000,  1.0000, 34.6788,  1.0000,  0.0000,  0.0000],\n        [22.0000,  0.0000, 33.5016,  3.0000,  1.0000,  2.0000],\n        [45.0000,  1.0000, 32.6160,  1.0000,  0.0000,  3.0000],\n        [53.0000,  0.0000, 30.3480,  3.0000,  0.0000,  3.0000],\n        [19.0000,  1.0000, 29.4462,  2.0000,  0.0000,  1.0000],\n        [48.0000,  1.0000, 43.3620,  0.0000,  0.0000,  2.0000],\n        [29.0000,  1.0000, 42.0552,  1.0000,  0.0000,  2.0000],\n        [38.0000,  1.0000, 30.2670,  1.0000,  0.0000,  0.0000],\n        [27.0000,  0.0000, 33.7554,  1.0000,  0.0000,  1.0000],\n        [60.0000,  1.0000, 30.8826,  0.0000,  0.0000,  0.0000],\n        [58.0000,  1.0000, 37.6542,  0.0000,  0.0000,  0.0000],\n        [47.0000,  0.0000, 25.4880,  1.0000,  0.0000,  3.0000],\n        [45.0000,  0.0000, 41.3478,  0.0000,  0.0000,  0.0000],\n        [49.0000,  1.0000, 32.2164,  1.0000,  0.0000,  0.0000],\n        [18.0000,  0.0000, 43.4808,  0.0000,  0.0000,  2.0000],\n        [20.0000,  1.0000, 43.7076,  0.0000,  0.0000,  0.0000]])\ntargets: tensor([[ 4115.1982],\n        [13356.9395],\n        [10474.6221],\n        [40823.2109],\n        [ 5078.4282],\n        [27270.9941],\n        [12735.9863],\n        [29432.7734],\n        [11997.8955],\n        [ 5200.0381],\n        [12107.0400],\n        [ 1648.1394],\n        [14600.2002],\n        [ 3886.1506],\n        [ 6466.3145],\n        [ 8923.6172],\n        [20499.8320],\n        [29478.3477],\n        [ 8385.5605],\n        [11377.1865],\n        [ 4507.8369],\n        [15987.1104],\n        [ 8886.5791],\n        [21087.5723],\n        [ 5765.9556],\n        [10899.8799],\n        [ 2498.0674],\n        [12447.1758],\n        [35420.0664],\n        [ 8775.7471],\n        [38507.5078],\n        [12000.7891],\n        [ 8713.8164],\n        [47526.0859],\n        [ 2225.5066],\n        [11092.3262],\n        [ 2218.4380],\n        [ 2769.3674],\n        [11038.1377],\n        [ 8682.7959],\n        [ 4098.6973],\n        [ 2277.3447],\n        [ 1721.7472],\n        [ 6666.3647],\n        [39133.8203],\n        [13605.5684],\n        [35187.2617],\n        [ 1650.3014],\n        [13592.5400],\n        [14717.6094],\n        [14026.0762],\n        [17053.7734],\n        [ 2441.1245],\n        [37536.8164],\n        [ 9819.9971],\n        [ 5203.6553],\n        [ 4027.8052],\n        [42986.0352],\n        [25586.6660],\n        [ 6140.4683],\n        [ 9962.1064],\n        [ 8959.8633],\n        [ 2933.1289],\n        [ 7806.9424],\n        [ 5427.0977],\n        [24918.3809],\n        [12756.1953],\n        [14555.0410],\n        [ 7268.8354],\n        [42092.8438],\n        [13142.3311],\n        [ 2177.2383],\n        [18955.4160],\n        [34817.5703],\n        [40676.3828],\n        [13149.3525],\n        [11774.9629],\n        [ 9726.7012],\n        [ 1691.3787],\n        [15978.9062],\n        [21687.2031],\n        [20369.0098],\n        [17251.8906],\n        [ 4286.0259],\n        [ 5431.2324],\n        [40122.7734],\n        [39180.6133],\n        [ 9480.0225],\n        [17351.3164],\n        [ 4477.7217],\n        [ 5407.6152],\n        [ 4478.2549],\n        [ 3342.8906],\n        [45031.3086],\n        [ 1745.0629],\n        [ 1253.9806],\n        [ 3794.1877],\n        [46612.6367],\n        [ 5671.5225],\n        [ 1648.3566],\n        [11959.1826],\n        [15673.3623],\n        [ 1748.9938],\n        [30364.2168],\n        [ 6565.2383],\n        [ 8164.7588],\n        [ 3899.8218],\n        [24422.7422],\n        [ 2006.8027],\n        [11669.7656],\n        [ 2420.0569],\n        [ 1637.5536],\n        [11880.6309],\n        [35951.5469],\n        [ 7515.4634],\n        [11859.1436],\n        [22718.5957],\n        [ 7882.2021],\n        [ 3506.1238],\n        [ 6127.7979],\n        [ 3995.6321],\n        [30562.5957],\n        [12064.0400],\n        [ 8625.0674],\n        [ 8014.6440],\n        [ 9380.9072],\n        [ 1650.9192],\n        [ 2004.2979]])\n"
    }
   ],
   "source": [
    "for xb, yb in train_loader:\n",
    "    print(\"inputs:\", xb)\n",
    "    print(\"targets:\", yb)\n",
    "    break"
   ]
  },
  {
   "cell_type": "markdown",
   "metadata": {},
   "source": [
    "Let's save our work by committing to Jovian."
   ]
  },
  {
   "cell_type": "code",
   "execution_count": 259,
   "metadata": {},
   "outputs": [
    {
     "output_type": "display_data",
     "data": {
      "text/plain": "<IPython.core.display.Javascript object>",
      "application/javascript": "window.require && require([\"base/js/namespace\"],function(Jupyter){Jupyter.notebook.save_checkpoint()})"
     },
     "metadata": {}
    },
    {
     "output_type": "stream",
     "name": "stdout",
     "text": "[jovian] Attempting to save notebook..\n[jovian] Updating notebook \"adess23/02-insurance-linear-regression\" on https://jovian.ml/\n[jovian] Uploading notebook..\n[jovian] Attaching records (metrics, hyperparameters, dataset etc.)\n[jovian] Committed successfully! https://jovian.ml/adess23/02-insurance-linear-regression\n"
    },
    {
     "output_type": "execute_result",
     "data": {
      "text/plain": "'https://jovian.ml/adess23/02-insurance-linear-regression'"
     },
     "metadata": {},
     "execution_count": 259
    }
   ],
   "source": [
    "jovian.commit(project=project_name, environment=None, filename='02-insurance-linear.ipynb')"
   ]
  },
  {
   "cell_type": "markdown",
   "metadata": {},
   "source": [
    "## Step 3: Create a Linear Regression Model\n",
    "\n",
    "Our model itself is a fairly straightforward linear regression (we'll build more complex models in the next assignment). \n"
   ]
  },
  {
   "cell_type": "code",
   "execution_count": 27,
   "metadata": {},
   "outputs": [],
   "source": [
    "input_size = len(input_cols)\n",
    "output_size = len(output_cols)"
   ]
  },
  {
   "cell_type": "markdown",
   "metadata": {},
   "source": [
    "**Q: Complete the class definition below by filling out the constructor (`__init__`), `forward`, `training_step` and `validation_step` methods.**\n",
    "\n",
    "Hint: Think carefully about picking a good loss fuction (it's not cross entropy). Maybe try 2-3 of them and see which one works best. See https://pytorch.org/docs/stable/nn.functional.html#loss-functions"
   ]
  },
  {
   "cell_type": "code",
   "execution_count": 28,
   "metadata": {},
   "outputs": [],
   "source": [
    "class InsuranceModel(nn.Module):\n",
    "    def __init__(self):\n",
    "        super().__init__()\n",
    "        self.linear = nn.Linear(input_size, output_size)# fill this (hint: use input_size & output_size defined above)\n",
    "        \n",
    "    def forward(self, xb):\n",
    "        out = self.linear(xb)                          # fill this\n",
    "        return out\n",
    "    \n",
    "    def training_step(self, batch):\n",
    "        inputs, targets = batch \n",
    "        # Generate predictions\n",
    "        out = self(inputs)          \n",
    "        # Calcuate loss\n",
    "        loss = F.l1_loss(out, targets)                          # fill this\n",
    "        return loss\n",
    "    \n",
    "    def validation_step(self, batch):\n",
    "        inputs, targets = batch\n",
    "        # Generate predictions\n",
    "        out = self(inputs)\n",
    "        # Calculate loss\n",
    "        loss = F.l1_loss(out, targets)                           # fill this    \n",
    "        return {'val_loss': loss.detach()}\n",
    "        \n",
    "    def validation_epoch_end(self, outputs):\n",
    "        batch_losses = [x['val_loss'] for x in outputs]\n",
    "        epoch_loss = torch.stack(batch_losses).mean()   # Combine losses\n",
    "        return {'val_loss': epoch_loss.item()}\n",
    "    \n",
    "    def epoch_end(self, epoch, result, num_epochs):\n",
    "        # Print result every 20th epoch\n",
    "        if (epoch+1) % 20 == 0 or epoch == num_epochs-1:\n",
    "            print(\"Epoch [{}], val_loss: {:.4f}\".format(epoch+1, result['val_loss']))"
   ]
  },
  {
   "cell_type": "markdown",
   "metadata": {},
   "source": [
    "Let us create a model using the `InsuranceModel` class. You may need to come back later and re-run the next cell to reinitialize the model, in case the loss becomes `nan` or `infinity`."
   ]
  },
  {
   "cell_type": "code",
   "execution_count": 29,
   "metadata": {},
   "outputs": [],
   "source": [
    "model = InsuranceModel()"
   ]
  },
  {
   "cell_type": "markdown",
   "metadata": {},
   "source": [
    "Let's check out the weights and biases of the model using `model.parameters`."
   ]
  },
  {
   "cell_type": "code",
   "execution_count": 30,
   "metadata": {},
   "outputs": [
    {
     "output_type": "execute_result",
     "data": {
      "text/plain": "[Parameter containing:\n tensor([[-0.0077, -0.2915, -0.0825,  0.3391, -0.2343, -0.0429]],\n        requires_grad=True),\n Parameter containing:\n tensor([-0.3737], requires_grad=True)]"
     },
     "metadata": {},
     "execution_count": 30
    }
   ],
   "source": [
    "list(model.parameters())"
   ]
  },
  {
   "cell_type": "markdown",
   "metadata": {},
   "source": [
    "One final commit before we train the model."
   ]
  },
  {
   "cell_type": "code",
   "execution_count": 435,
   "metadata": {},
   "outputs": [
    {
     "output_type": "display_data",
     "data": {
      "text/plain": "<IPython.core.display.Javascript object>",
      "application/javascript": "window.require && require([\"base/js/namespace\"],function(Jupyter){Jupyter.notebook.save_checkpoint()})"
     },
     "metadata": {}
    },
    {
     "output_type": "stream",
     "name": "stdout",
     "text": "[jovian] Attempting to save notebook..\n[jovian] Updating notebook \"adess23/02-insurance-linear-regression\" on https://jovian.ml/\n[jovian] Uploading notebook..\n[jovian] Attaching records (metrics, hyperparameters, dataset etc.)\n[jovian] Committed successfully! https://jovian.ml/adess23/02-insurance-linear-regression\n"
    },
    {
     "output_type": "execute_result",
     "data": {
      "text/plain": "'https://jovian.ml/adess23/02-insurance-linear-regression'"
     },
     "metadata": {},
     "execution_count": 435
    }
   ],
   "source": [
    "jovian.commit(project=project_name, environment=None, filename='02-insurance-linear.ipynb')"
   ]
  },
  {
   "cell_type": "markdown",
   "metadata": {},
   "source": [
    "## Step 4: Train the model to fit the data\n",
    "\n",
    "To train our model, we'll use the same `fit` function explained in the lecture. That's the benefit of defining a generic training loop - you can use it for any problem."
   ]
  },
  {
   "cell_type": "code",
   "execution_count": 31,
   "metadata": {},
   "outputs": [],
   "source": [
    "def evaluate(model, val_loader):\n",
    "    outputs = [model.validation_step(batch) for batch in val_loader]\n",
    "    return model.validation_epoch_end(outputs)\n",
    "\n",
    "def fit(epochs, lr, model, train_loader, val_loader, opt_func=torch.optim.SGD):\n",
    "    history = []\n",
    "    optimizer = opt_func(model.parameters(), lr)\n",
    "    for epoch in range(epochs):\n",
    "        # Training Phase \n",
    "        for batch in train_loader:\n",
    "            loss = model.training_step(batch)\n",
    "            loss.backward()\n",
    "            optimizer.step()\n",
    "            optimizer.zero_grad()\n",
    "        # Validation phase\n",
    "        result = evaluate(model, val_loader)\n",
    "        model.epoch_end(epoch, result, epochs)\n",
    "        history.append(result)\n",
    "    return history"
   ]
  },
  {
   "cell_type": "markdown",
   "metadata": {},
   "source": [
    "**Q: Use the `evaluate` function to calculate the loss on the validation set before training.**"
   ]
  },
  {
   "cell_type": "code",
   "execution_count": 32,
   "metadata": {},
   "outputs": [
    {
     "output_type": "stream",
     "name": "stdout",
     "text": "{'val_loss': 14083.3544921875}\n"
    }
   ],
   "source": [
    "result = evaluate(model, val_loader) # Use the the evaluate function\n",
    "print(result)"
   ]
  },
  {
   "cell_type": "markdown",
   "metadata": {},
   "source": [
    "\n",
    "We are now ready to train the model. You may need to run the training loop many times, for different number of epochs and with different learning rates, to get a good result. Also, if your loss becomes too large (or `nan`), you may have to re-initialize the model by running the cell `model = InsuranceModel()`. Experiment with this for a while, and try to get to as low a loss as possible."
   ]
  },
  {
   "cell_type": "markdown",
   "metadata": {},
   "source": [
    "**Q: Train the model 4-5 times with different learning rates & for different number of epochs.**\n",
    "\n",
    "Hint: Vary learning rates by orders of 10 (e.g. `1e-2`, `1e-3`, `1e-4`, `1e-5`, `1e-6`) to figure out what works."
   ]
  },
  {
   "cell_type": "code",
   "execution_count": 33,
   "metadata": {},
   "outputs": [
    {
     "output_type": "stream",
     "name": "stdout",
     "text": "Epoch [20], val_loss: 10228.9844\nEpoch [40], val_loss: 8418.3789\nEpoch [60], val_loss: 7879.8994\nEpoch [80], val_loss: 7761.0361\nEpoch [100], val_loss: 7714.8428\nEpoch [120], val_loss: 7688.4565\nEpoch [140], val_loss: 7666.1201\nEpoch [160], val_loss: 7644.3540\nEpoch [180], val_loss: 7622.8086\nEpoch [200], val_loss: 7601.6318\nEpoch [220], val_loss: 7580.8716\nEpoch [240], val_loss: 7560.5576\nEpoch [260], val_loss: 7540.7866\nEpoch [280], val_loss: 7522.0610\nEpoch [300], val_loss: 7503.8369\nEpoch [320], val_loss: 7486.2480\nEpoch [340], val_loss: 7469.7344\nEpoch [360], val_loss: 7453.6060\nEpoch [380], val_loss: 7437.6816\nEpoch [400], val_loss: 7421.9463\nEpoch [420], val_loss: 7407.2246\nEpoch [440], val_loss: 7392.6709\nEpoch [460], val_loss: 7378.3438\nEpoch [480], val_loss: 7365.1953\nEpoch [500], val_loss: 7353.4702\nEpoch [520], val_loss: 7342.7695\nEpoch [540], val_loss: 7332.6455\nEpoch [560], val_loss: 7323.4790\nEpoch [580], val_loss: 7314.5850\nEpoch [600], val_loss: 7306.2832\nEpoch [620], val_loss: 7298.4751\nEpoch [640], val_loss: 7292.0332\nEpoch [660], val_loss: 7286.3242\nEpoch [680], val_loss: 7280.5337\nEpoch [700], val_loss: 7276.1362\nEpoch [720], val_loss: 7272.9824\nEpoch [740], val_loss: 7269.9600\nEpoch [760], val_loss: 7267.2207\nEpoch [780], val_loss: 7264.6572\nEpoch [800], val_loss: 7262.5908\nEpoch [820], val_loss: 7261.1172\nEpoch [840], val_loss: 7259.9214\nEpoch [860], val_loss: 7258.7314\nEpoch [880], val_loss: 7257.6035\nEpoch [900], val_loss: 7256.4619\nEpoch [920], val_loss: 7255.6299\nEpoch [940], val_loss: 7254.9810\nEpoch [960], val_loss: 7254.3901\nEpoch [980], val_loss: 7253.8501\nEpoch [1000], val_loss: 7253.3271\nEpoch [1020], val_loss: 7252.8281\nEpoch [1040], val_loss: 7252.3564\nEpoch [1060], val_loss: 7252.0347\nEpoch [1080], val_loss: 7251.6934\nEpoch [1100], val_loss: 7251.3193\nEpoch [1120], val_loss: 7250.9458\nEpoch [1140], val_loss: 7250.6055\nEpoch [1160], val_loss: 7250.2881\nEpoch [1180], val_loss: 7249.9756\nEpoch [1200], val_loss: 7249.6914\nEpoch [1220], val_loss: 7249.4189\nEpoch [1240], val_loss: 7249.1377\nEpoch [1260], val_loss: 7248.8652\nEpoch [1280], val_loss: 7248.5967\nEpoch [1300], val_loss: 7248.3535\nEpoch [1320], val_loss: 7248.1475\nEpoch [1340], val_loss: 7247.9375\nEpoch [1360], val_loss: 7247.7173\nEpoch [1380], val_loss: 7247.5098\nEpoch [1400], val_loss: 7247.2988\nEpoch [1420], val_loss: 7247.0879\nEpoch [1440], val_loss: 7246.8716\nEpoch [1460], val_loss: 7246.6685\nEpoch [1480], val_loss: 7246.4536\nEpoch [1500], val_loss: 7246.2490\nEpoch [1520], val_loss: 7246.0361\nEpoch [1540], val_loss: 7245.8232\nEpoch [1560], val_loss: 7245.6152\nEpoch [1580], val_loss: 7245.4043\nEpoch [1600], val_loss: 7245.1919\nEpoch [1620], val_loss: 7244.9814\nEpoch [1640], val_loss: 7244.7720\nEpoch [1660], val_loss: 7244.5625\nEpoch [1680], val_loss: 7244.3477\nEpoch [1700], val_loss: 7244.1338\nEpoch [1720], val_loss: 7243.9258\nEpoch [1740], val_loss: 7243.7090\nEpoch [1760], val_loss: 7243.4912\nEpoch [1780], val_loss: 7243.2754\nEpoch [1800], val_loss: 7243.0601\nEpoch [1820], val_loss: 7242.8447\nEpoch [1840], val_loss: 7242.6279\nEpoch [1860], val_loss: 7242.4111\nEpoch [1880], val_loss: 7242.2056\nEpoch [1900], val_loss: 7241.9966\nEpoch [1920], val_loss: 7241.7783\nEpoch [1940], val_loss: 7241.5605\nEpoch [1960], val_loss: 7241.3472\nEpoch [1980], val_loss: 7241.1343\nEpoch [2000], val_loss: 7240.9219\nEpoch [2020], val_loss: 7240.7158\nEpoch [2040], val_loss: 7240.5059\nEpoch [2060], val_loss: 7240.2930\nEpoch [2080], val_loss: 7240.0811\nEpoch [2100], val_loss: 7239.8662\nEpoch [2120], val_loss: 7239.6582\nEpoch [2140], val_loss: 7239.4434\nEpoch [2160], val_loss: 7239.2295\nEpoch [2180], val_loss: 7239.0127\nEpoch [2200], val_loss: 7238.8071\nEpoch [2220], val_loss: 7238.6074\nEpoch [2240], val_loss: 7238.3911\nEpoch [2260], val_loss: 7238.1670\nEpoch [2280], val_loss: 7237.9570\nEpoch [2300], val_loss: 7237.7471\nEpoch [2320], val_loss: 7237.5347\nEpoch [2340], val_loss: 7237.3184\nEpoch [2360], val_loss: 7237.1064\nEpoch [2380], val_loss: 7236.8994\nEpoch [2400], val_loss: 7236.6787\nEpoch [2420], val_loss: 7236.4712\nEpoch [2440], val_loss: 7236.2598\nEpoch [2460], val_loss: 7236.0386\nEpoch [2480], val_loss: 7235.8232\nEpoch [2500], val_loss: 7235.6191\nEpoch [2520], val_loss: 7235.4092\nEpoch [2540], val_loss: 7235.1885\nEpoch [2560], val_loss: 7234.9639\nEpoch [2580], val_loss: 7234.7622\nEpoch [2600], val_loss: 7234.5479\nEpoch [2620], val_loss: 7234.3291\nEpoch [2640], val_loss: 7234.1108\nEpoch [2660], val_loss: 7233.9014\nEpoch [2680], val_loss: 7233.6836\nEpoch [2700], val_loss: 7233.4683\nEpoch [2720], val_loss: 7233.2612\nEpoch [2740], val_loss: 7233.0400\nEpoch [2760], val_loss: 7232.8252\nEpoch [2780], val_loss: 7232.6108\nEpoch [2800], val_loss: 7232.3916\nEpoch [2820], val_loss: 7232.1880\nEpoch [2840], val_loss: 7231.9639\nEpoch [2860], val_loss: 7231.7578\nEpoch [2880], val_loss: 7231.5361\nEpoch [2900], val_loss: 7231.3179\nEpoch [2920], val_loss: 7231.1172\nEpoch [2940], val_loss: 7230.9004\nEpoch [2960], val_loss: 7230.6953\nEpoch [2980], val_loss: 7230.4766\nEpoch [3000], val_loss: 7230.2705\nEpoch [3020], val_loss: 7230.0576\nEpoch [3040], val_loss: 7229.8359\nEpoch [3060], val_loss: 7229.6265\nEpoch [3080], val_loss: 7229.4209\nEpoch [3100], val_loss: 7229.2114\nEpoch [3120], val_loss: 7228.9995\nEpoch [3140], val_loss: 7228.7920\nEpoch [3160], val_loss: 7228.5645\nEpoch [3180], val_loss: 7228.3667\nEpoch [3200], val_loss: 7228.1543\nEpoch [3220], val_loss: 7227.9541\nEpoch [3240], val_loss: 7227.7354\nEpoch [3260], val_loss: 7227.5195\nEpoch [3280], val_loss: 7227.3203\nEpoch [3300], val_loss: 7227.1128\nEpoch [3320], val_loss: 7226.9058\nEpoch [3340], val_loss: 7226.6895\nEpoch [3360], val_loss: 7226.4761\nEpoch [3380], val_loss: 7226.2676\nEpoch [3400], val_loss: 7226.0605\nEpoch [3420], val_loss: 7225.8491\nEpoch [3440], val_loss: 7225.6372\nEpoch [3460], val_loss: 7225.4312\nEpoch [3480], val_loss: 7225.2148\nEpoch [3500], val_loss: 7224.9985\nEpoch [3520], val_loss: 7224.7861\nEpoch [3540], val_loss: 7224.5781\nEpoch [3560], val_loss: 7224.3721\nEpoch [3580], val_loss: 7224.1650\nEpoch [3600], val_loss: 7223.9580\nEpoch [3620], val_loss: 7223.7529\nEpoch [3640], val_loss: 7223.5498\nEpoch [3660], val_loss: 7223.3447\nEpoch [3680], val_loss: 7223.1436\nEpoch [3700], val_loss: 7222.9375\nEpoch [3720], val_loss: 7222.7300\nEpoch [3740], val_loss: 7222.5195\nEpoch [3760], val_loss: 7222.3105\nEpoch [3780], val_loss: 7222.0977\nEpoch [3800], val_loss: 7221.8945\nEpoch [3820], val_loss: 7221.6836\nEpoch [3840], val_loss: 7221.4639\nEpoch [3860], val_loss: 7221.2578\nEpoch [3880], val_loss: 7221.0518\nEpoch [3900], val_loss: 7220.8574\nEpoch [3920], val_loss: 7220.6499\nEpoch [3940], val_loss: 7220.4355\nEpoch [3960], val_loss: 7220.2373\nEpoch [3980], val_loss: 7220.0278\nEpoch [4000], val_loss: 7219.8320\nEpoch [4020], val_loss: 7219.6191\nEpoch [4040], val_loss: 7219.4268\nEpoch [4060], val_loss: 7219.2158\nEpoch [4080], val_loss: 7219.0107\nEpoch [4100], val_loss: 7218.7910\nEpoch [4120], val_loss: 7218.5889\nEpoch [4140], val_loss: 7218.3857\nEpoch [4160], val_loss: 7218.1768\nEpoch [4180], val_loss: 7217.9697\nEpoch [4200], val_loss: 7217.7656\nEpoch [4220], val_loss: 7217.5664\nEpoch [4240], val_loss: 7217.3486\nEpoch [4260], val_loss: 7217.1606\nEpoch [4280], val_loss: 7216.9502\nEpoch [4300], val_loss: 7216.7402\nEpoch [4320], val_loss: 7216.5410\nEpoch [4340], val_loss: 7216.3457\nEpoch [4360], val_loss: 7216.1406\nEpoch [4380], val_loss: 7215.9443\nEpoch [4400], val_loss: 7215.7383\nEpoch [4420], val_loss: 7215.5386\nEpoch [4440], val_loss: 7215.3281\nEpoch [4460], val_loss: 7215.1245\nEpoch [4480], val_loss: 7214.9307\nEpoch [4500], val_loss: 7214.7129\nEpoch [4520], val_loss: 7214.5156\nEpoch [4540], val_loss: 7214.3135\nEpoch [4560], val_loss: 7214.1143\nEpoch [4580], val_loss: 7213.9111\nEpoch [4600], val_loss: 7213.7070\nEpoch [4620], val_loss: 7213.5029\nEpoch [4640], val_loss: 7213.3027\nEpoch [4660], val_loss: 7213.0986\nEpoch [4680], val_loss: 7212.9043\nEpoch [4700], val_loss: 7212.6934\nEpoch [4720], val_loss: 7212.4980\nEpoch [4740], val_loss: 7212.2905\nEpoch [4760], val_loss: 7212.0820\nEpoch [4780], val_loss: 7211.8848\nEpoch [4800], val_loss: 7211.6890\nEpoch [4820], val_loss: 7211.4966\nEpoch [4840], val_loss: 7211.2998\nEpoch [4860], val_loss: 7211.1025\nEpoch [4880], val_loss: 7210.9160\nEpoch [4900], val_loss: 7210.7256\nEpoch [4920], val_loss: 7210.5342\nEpoch [4940], val_loss: 7210.3413\nEpoch [4960], val_loss: 7210.1533\nEpoch [4980], val_loss: 7209.9590\nEpoch [5000], val_loss: 7209.7798\n"
    }
   ],
   "source": [
    "epochs = 5000\n",
    "lr = 1e-2\n",
    "history1 = fit(epochs, lr, model, train_loader, val_loader)"
   ]
  },
  {
   "cell_type": "code",
   "execution_count": 465,
   "metadata": {},
   "outputs": [
    {
     "output_type": "stream",
     "name": "stdout",
     "text": "Epoch [20], val_loss: 7268.3647\nEpoch [40], val_loss: 7268.3447\nEpoch [60], val_loss: 7268.3232\nEpoch [80], val_loss: 7268.3027\nEpoch [100], val_loss: 7268.2822\nEpoch [120], val_loss: 7268.2637\nEpoch [140], val_loss: 7268.2461\nEpoch [160], val_loss: 7268.2266\nEpoch [180], val_loss: 7268.2100\nEpoch [200], val_loss: 7268.1904\nEpoch [220], val_loss: 7268.1729\nEpoch [240], val_loss: 7268.1553\nEpoch [260], val_loss: 7268.1377\nEpoch [280], val_loss: 7268.1201\nEpoch [300], val_loss: 7268.1016\nEpoch [320], val_loss: 7268.0830\nEpoch [340], val_loss: 7268.0664\nEpoch [360], val_loss: 7268.0469\nEpoch [380], val_loss: 7268.0303\nEpoch [400], val_loss: 7268.0127\nEpoch [420], val_loss: 7267.9941\nEpoch [440], val_loss: 7267.9775\nEpoch [460], val_loss: 7267.9590\nEpoch [480], val_loss: 7267.9404\nEpoch [500], val_loss: 7267.9248\nEpoch [520], val_loss: 7267.9053\nEpoch [540], val_loss: 7267.8877\nEpoch [560], val_loss: 7267.8696\nEpoch [580], val_loss: 7267.8516\nEpoch [600], val_loss: 7267.8350\nEpoch [620], val_loss: 7267.8169\nEpoch [640], val_loss: 7267.7983\nEpoch [660], val_loss: 7267.7812\nEpoch [680], val_loss: 7267.7642\nEpoch [700], val_loss: 7267.7456\nEpoch [720], val_loss: 7267.7285\nEpoch [740], val_loss: 7267.7109\nEpoch [760], val_loss: 7267.6934\nEpoch [780], val_loss: 7267.6748\nEpoch [800], val_loss: 7267.6572\nEpoch [820], val_loss: 7267.6396\nEpoch [840], val_loss: 7267.6221\nEpoch [860], val_loss: 7267.6050\nEpoch [880], val_loss: 7267.5859\nEpoch [900], val_loss: 7267.5674\nEpoch [920], val_loss: 7267.5508\nEpoch [940], val_loss: 7267.5332\nEpoch [960], val_loss: 7267.5161\nEpoch [980], val_loss: 7267.4985\nEpoch [1000], val_loss: 7267.4810\nEpoch [1020], val_loss: 7267.4629\nEpoch [1040], val_loss: 7267.4443\nEpoch [1060], val_loss: 7267.4282\nEpoch [1080], val_loss: 7267.4092\nEpoch [1100], val_loss: 7267.3916\nEpoch [1120], val_loss: 7267.3740\nEpoch [1140], val_loss: 7267.3564\nEpoch [1160], val_loss: 7267.3398\nEpoch [1180], val_loss: 7267.3203\nEpoch [1200], val_loss: 7267.3027\nEpoch [1220], val_loss: 7267.2852\nEpoch [1240], val_loss: 7267.2686\nEpoch [1260], val_loss: 7267.2500\nEpoch [1280], val_loss: 7267.2305\nEpoch [1300], val_loss: 7267.2139\nEpoch [1320], val_loss: 7267.1953\nEpoch [1340], val_loss: 7267.1777\nEpoch [1360], val_loss: 7267.1611\nEpoch [1380], val_loss: 7267.1426\nEpoch [1400], val_loss: 7267.1260\nEpoch [1420], val_loss: 7267.1074\nEpoch [1440], val_loss: 7267.0898\nEpoch [1460], val_loss: 7267.0732\nEpoch [1480], val_loss: 7267.0537\nEpoch [1500], val_loss: 7267.0352\nEpoch [1520], val_loss: 7267.0176\nEpoch [1540], val_loss: 7267.0015\nEpoch [1560], val_loss: 7266.9834\nEpoch [1580], val_loss: 7266.9648\nEpoch [1600], val_loss: 7266.9468\nEpoch [1620], val_loss: 7266.9297\nEpoch [1640], val_loss: 7266.9121\nEpoch [1660], val_loss: 7266.8950\nEpoch [1680], val_loss: 7266.8760\nEpoch [1700], val_loss: 7266.8574\nEpoch [1720], val_loss: 7266.8408\nEpoch [1740], val_loss: 7266.8237\nEpoch [1760], val_loss: 7266.8052\nEpoch [1780], val_loss: 7266.7876\nEpoch [1800], val_loss: 7266.7700\nEpoch [1820], val_loss: 7266.7529\nEpoch [1840], val_loss: 7266.7354\nEpoch [1860], val_loss: 7266.7158\nEpoch [1880], val_loss: 7266.6982\nEpoch [1900], val_loss: 7266.6807\nEpoch [1920], val_loss: 7266.6631\nEpoch [1940], val_loss: 7266.6455\nEpoch [1960], val_loss: 7266.6289\nEpoch [1980], val_loss: 7266.6104\nEpoch [2000], val_loss: 7266.5933\nEpoch [2020], val_loss: 7266.5747\nEpoch [2040], val_loss: 7266.5576\nEpoch [2060], val_loss: 7266.5396\nEpoch [2080], val_loss: 7266.5215\nEpoch [2100], val_loss: 7266.5039\nEpoch [2120], val_loss: 7266.4854\nEpoch [2140], val_loss: 7266.4678\nEpoch [2160], val_loss: 7266.4507\nEpoch [2180], val_loss: 7266.4336\nEpoch [2200], val_loss: 7266.4141\nEpoch [2220], val_loss: 7266.3975\nEpoch [2240], val_loss: 7266.3799\nEpoch [2260], val_loss: 7266.3618\nEpoch [2280], val_loss: 7266.3438\nEpoch [2300], val_loss: 7266.3267\nEpoch [2320], val_loss: 7266.3086\nEpoch [2340], val_loss: 7266.2910\nEpoch [2360], val_loss: 7266.2734\nEpoch [2380], val_loss: 7266.2563\nEpoch [2400], val_loss: 7266.2373\nEpoch [2420], val_loss: 7266.2207\nEpoch [2440], val_loss: 7266.2031\nEpoch [2460], val_loss: 7266.1836\nEpoch [2480], val_loss: 7266.1670\nEpoch [2500], val_loss: 7266.1479\nEpoch [2520], val_loss: 7266.1299\nEpoch [2540], val_loss: 7266.1118\nEpoch [2560], val_loss: 7266.0923\nEpoch [2580], val_loss: 7266.0742\nEpoch [2600], val_loss: 7266.0576\nEpoch [2620], val_loss: 7266.0396\nEpoch [2640], val_loss: 7266.0215\nEpoch [2660], val_loss: 7266.0039\nEpoch [2680], val_loss: 7265.9868\nEpoch [2700], val_loss: 7265.9668\nEpoch [2720], val_loss: 7265.9497\nEpoch [2740], val_loss: 7265.9326\nEpoch [2760], val_loss: 7265.9131\nEpoch [2780], val_loss: 7265.8960\nEpoch [2800], val_loss: 7265.8770\nEpoch [2820], val_loss: 7265.8584\nEpoch [2840], val_loss: 7265.8418\nEpoch [2860], val_loss: 7265.8242\nEpoch [2880], val_loss: 7265.8057\nEpoch [2900], val_loss: 7265.7881\nEpoch [2920], val_loss: 7265.7676\nEpoch [2940], val_loss: 7265.7495\nEpoch [2960], val_loss: 7265.7319\nEpoch [2980], val_loss: 7265.7129\nEpoch [3000], val_loss: 7265.6953\nEpoch [3020], val_loss: 7265.6787\nEpoch [3040], val_loss: 7265.6602\nEpoch [3060], val_loss: 7265.6426\nEpoch [3080], val_loss: 7265.6230\nEpoch [3100], val_loss: 7265.6055\nEpoch [3120], val_loss: 7265.5879\nEpoch [3140], val_loss: 7265.5684\nEpoch [3160], val_loss: 7265.5508\nEpoch [3180], val_loss: 7265.5322\nEpoch [3200], val_loss: 7265.5151\nEpoch [3220], val_loss: 7265.4971\nEpoch [3240], val_loss: 7265.4790\nEpoch [3260], val_loss: 7265.4619\nEpoch [3280], val_loss: 7265.4414\nEpoch [3300], val_loss: 7265.4248\nEpoch [3320], val_loss: 7265.4062\nEpoch [3340], val_loss: 7265.3877\nEpoch [3360], val_loss: 7265.3691\nEpoch [3380], val_loss: 7265.3496\nEpoch [3400], val_loss: 7265.3330\nEpoch [3420], val_loss: 7265.3149\nEpoch [3440], val_loss: 7265.2969\nEpoch [3460], val_loss: 7265.2793\nEpoch [3480], val_loss: 7265.2622\nEpoch [3500], val_loss: 7265.2441\nEpoch [3520], val_loss: 7265.2246\nEpoch [3540], val_loss: 7265.2061\nEpoch [3560], val_loss: 7265.1885\nEpoch [3580], val_loss: 7265.1704\nEpoch [3600], val_loss: 7265.1523\nEpoch [3620], val_loss: 7265.1338\nEpoch [3640], val_loss: 7265.1152\nEpoch [3660], val_loss: 7265.0977\nEpoch [3680], val_loss: 7265.0801\nEpoch [3700], val_loss: 7265.0615\nEpoch [3720], val_loss: 7265.0430\nEpoch [3740], val_loss: 7265.0244\nEpoch [3760], val_loss: 7265.0059\nEpoch [3780], val_loss: 7264.9888\nEpoch [3800], val_loss: 7264.9702\nEpoch [3820], val_loss: 7264.9536\nEpoch [3840], val_loss: 7264.9346\nEpoch [3860], val_loss: 7264.9160\nEpoch [3880], val_loss: 7264.8984\nEpoch [3900], val_loss: 7264.8799\nEpoch [3920], val_loss: 7264.8623\nEpoch [3940], val_loss: 7264.8447\nEpoch [3960], val_loss: 7264.8262\nEpoch [3980], val_loss: 7264.8091\nEpoch [4000], val_loss: 7264.7881\nEpoch [4020], val_loss: 7264.7720\nEpoch [4040], val_loss: 7264.7549\nEpoch [4060], val_loss: 7264.7354\nEpoch [4080], val_loss: 7264.7168\nEpoch [4100], val_loss: 7264.6997\nEpoch [4120], val_loss: 7264.6807\nEpoch [4140], val_loss: 7264.6631\nEpoch [4160], val_loss: 7264.6455\nEpoch [4180], val_loss: 7264.6279\nEpoch [4200], val_loss: 7264.6094\nEpoch [4220], val_loss: 7264.5908\nEpoch [4240], val_loss: 7264.5723\nEpoch [4260], val_loss: 7264.5537\nEpoch [4280], val_loss: 7264.5361\nEpoch [4300], val_loss: 7264.5176\nEpoch [4320], val_loss: 7264.5010\nEpoch [4340], val_loss: 7264.4814\nEpoch [4360], val_loss: 7264.4639\nEpoch [4380], val_loss: 7264.4463\nEpoch [4400], val_loss: 7264.4277\nEpoch [4420], val_loss: 7264.4092\nEpoch [4440], val_loss: 7264.3916\nEpoch [4460], val_loss: 7264.3740\nEpoch [4480], val_loss: 7264.3545\nEpoch [4500], val_loss: 7264.3354\nEpoch [4520], val_loss: 7264.3184\nEpoch [4540], val_loss: 7264.3008\nEpoch [4560], val_loss: 7264.2812\nEpoch [4580], val_loss: 7264.2642\nEpoch [4600], val_loss: 7264.2461\nEpoch [4620], val_loss: 7264.2271\nEpoch [4640], val_loss: 7264.2095\nEpoch [4660], val_loss: 7264.1914\nEpoch [4680], val_loss: 7264.1738\nEpoch [4700], val_loss: 7264.1562\nEpoch [4720], val_loss: 7264.1377\nEpoch [4740], val_loss: 7264.1187\nEpoch [4760], val_loss: 7264.1006\nEpoch [4780], val_loss: 7264.0820\nEpoch [4800], val_loss: 7264.0645\nEpoch [4820], val_loss: 7264.0459\nEpoch [4840], val_loss: 7264.0269\nEpoch [4860], val_loss: 7264.0107\nEpoch [4880], val_loss: 7263.9932\nEpoch [4900], val_loss: 7263.9736\nEpoch [4920], val_loss: 7263.9561\nEpoch [4940], val_loss: 7263.9375\nEpoch [4960], val_loss: 7263.9199\nEpoch [4980], val_loss: 7263.9033\nEpoch [5000], val_loss: 7263.8838\nEpoch [5020], val_loss: 7263.8657\nEpoch [5040], val_loss: 7263.8477\nEpoch [5060], val_loss: 7263.8306\nEpoch [5080], val_loss: 7263.8115\nEpoch [5100], val_loss: 7263.7939\nEpoch [5120], val_loss: 7263.7754\nEpoch [5140], val_loss: 7263.7578\nEpoch [5160], val_loss: 7263.7393\nEpoch [5180], val_loss: 7263.7217\nEpoch [5200], val_loss: 7263.7041\nEpoch [5220], val_loss: 7263.6846\nEpoch [5240], val_loss: 7263.6670\nEpoch [5260], val_loss: 7263.6479\nEpoch [5280], val_loss: 7263.6299\nEpoch [5300], val_loss: 7263.6118\nEpoch [5320], val_loss: 7263.5938\nEpoch [5340], val_loss: 7263.5752\nEpoch [5360], val_loss: 7263.5576\nEpoch [5380], val_loss: 7263.5400\nEpoch [5400], val_loss: 7263.5215\nEpoch [5420], val_loss: 7263.5039\nEpoch [5440], val_loss: 7263.4854\nEpoch [5460], val_loss: 7263.4678\nEpoch [5480], val_loss: 7263.4473\nEpoch [5500], val_loss: 7263.4307\nEpoch [5520], val_loss: 7263.4121\nEpoch [5540], val_loss: 7263.3936\nEpoch [5560], val_loss: 7263.3770\nEpoch [5580], val_loss: 7263.3594\nEpoch [5600], val_loss: 7263.3408\nEpoch [5620], val_loss: 7263.3218\nEpoch [5640], val_loss: 7263.3037\nEpoch [5660], val_loss: 7263.2866\nEpoch [5680], val_loss: 7263.2676\nEpoch [5700], val_loss: 7263.2495\nEpoch [5720], val_loss: 7263.2314\nEpoch [5740], val_loss: 7263.2134\nEpoch [5760], val_loss: 7263.1958\nEpoch [5780], val_loss: 7263.1768\nEpoch [5800], val_loss: 7263.1597\nEpoch [5820], val_loss: 7263.1406\nEpoch [5840], val_loss: 7263.1235\nEpoch [5860], val_loss: 7263.1045\nEpoch [5880], val_loss: 7263.0869\nEpoch [5900], val_loss: 7263.0679\nEpoch [5920], val_loss: 7263.0503\nEpoch [5940], val_loss: 7263.0322\nEpoch [5960], val_loss: 7263.0137\nEpoch [5980], val_loss: 7262.9961\nEpoch [6000], val_loss: 7262.9780\nEpoch [6020], val_loss: 7262.9604\nEpoch [6040], val_loss: 7262.9424\nEpoch [6060], val_loss: 7262.9229\nEpoch [6080], val_loss: 7262.9053\nEpoch [6100], val_loss: 7262.8872\nEpoch [6120], val_loss: 7262.8682\nEpoch [6140], val_loss: 7262.8506\nEpoch [6160], val_loss: 7262.8320\nEpoch [6180], val_loss: 7262.8164\nEpoch [6200], val_loss: 7262.7969\nEpoch [6220], val_loss: 7262.7793\nEpoch [6240], val_loss: 7262.7607\nEpoch [6260], val_loss: 7262.7422\nEpoch [6280], val_loss: 7262.7256\nEpoch [6300], val_loss: 7262.7075\nEpoch [6320], val_loss: 7262.6895\nEpoch [6340], val_loss: 7262.6699\nEpoch [6360], val_loss: 7262.6533\nEpoch [6380], val_loss: 7262.6348\nEpoch [6400], val_loss: 7262.6152\nEpoch [6420], val_loss: 7262.5972\nEpoch [6440], val_loss: 7262.5786\nEpoch [6460], val_loss: 7262.5601\nEpoch [6480], val_loss: 7262.5430\nEpoch [6500], val_loss: 7262.5249\nEpoch [6520], val_loss: 7262.5063\nEpoch [6540], val_loss: 7262.4883\nEpoch [6560], val_loss: 7262.4717\nEpoch [6580], val_loss: 7262.4541\nEpoch [6600], val_loss: 7262.4331\nEpoch [6620], val_loss: 7262.4170\nEpoch [6640], val_loss: 7262.3965\nEpoch [6660], val_loss: 7262.3799\nEpoch [6680], val_loss: 7262.3613\nEpoch [6700], val_loss: 7262.3447\nEpoch [6720], val_loss: 7262.3262\nEpoch [6740], val_loss: 7262.3081\nEpoch [6760], val_loss: 7262.2891\nEpoch [6780], val_loss: 7262.2715\nEpoch [6800], val_loss: 7262.2539\nEpoch [6820], val_loss: 7262.2344\nEpoch [6840], val_loss: 7262.2168\nEpoch [6860], val_loss: 7262.1978\nEpoch [6880], val_loss: 7262.1807\nEpoch [6900], val_loss: 7262.1631\nEpoch [6920], val_loss: 7262.1455\nEpoch [6940], val_loss: 7262.1260\nEpoch [6960], val_loss: 7262.1089\nEpoch [6980], val_loss: 7262.0908\nEpoch [7000], val_loss: 7262.0708\nEpoch [7020], val_loss: 7262.0547\nEpoch [7040], val_loss: 7262.0361\nEpoch [7060], val_loss: 7262.0176\nEpoch [7080], val_loss: 7262.0000\nEpoch [7100], val_loss: 7261.9819\nEpoch [7120], val_loss: 7261.9639\nEpoch [7140], val_loss: 7261.9453\nEpoch [7160], val_loss: 7261.9287\nEpoch [7180], val_loss: 7261.9102\nEpoch [7200], val_loss: 7261.8916\nEpoch [7220], val_loss: 7261.8726\nEpoch [7240], val_loss: 7261.8555\nEpoch [7260], val_loss: 7261.8359\nEpoch [7280], val_loss: 7261.8193\nEpoch [7300], val_loss: 7261.8018\nEpoch [7320], val_loss: 7261.7822\nEpoch [7340], val_loss: 7261.7651\nEpoch [7360], val_loss: 7261.7471\nEpoch [7380], val_loss: 7261.7275\nEpoch [7400], val_loss: 7261.7100\nEpoch [7420], val_loss: 7261.6924\nEpoch [7440], val_loss: 7261.6729\nEpoch [7460], val_loss: 7261.6543\nEpoch [7480], val_loss: 7261.6377\nEpoch [7500], val_loss: 7261.6182\nEpoch [7520], val_loss: 7261.6006\nEpoch [7540], val_loss: 7261.5825\nEpoch [7560], val_loss: 7261.5654\nEpoch [7580], val_loss: 7261.5479\nEpoch [7600], val_loss: 7261.5303\nEpoch [7620], val_loss: 7261.5107\nEpoch [7640], val_loss: 7261.4912\nEpoch [7660], val_loss: 7261.4746\nEpoch [7680], val_loss: 7261.4556\nEpoch [7700], val_loss: 7261.4375\nEpoch [7720], val_loss: 7261.4199\nEpoch [7740], val_loss: 7261.4023\nEpoch [7760], val_loss: 7261.3853\nEpoch [7780], val_loss: 7261.3662\nEpoch [7800], val_loss: 7261.3477\nEpoch [7820], val_loss: 7261.3301\nEpoch [7840], val_loss: 7261.3115\nEpoch [7860], val_loss: 7261.2944\nEpoch [7880], val_loss: 7261.2764\nEpoch [7900], val_loss: 7261.2578\nEpoch [7920], val_loss: 7261.2402\nEpoch [7940], val_loss: 7261.2207\nEpoch [7960], val_loss: 7261.2031\nEpoch [7980], val_loss: 7261.1855\nEpoch [8000], val_loss: 7261.1670\nEpoch [8020], val_loss: 7261.1494\nEpoch [8040], val_loss: 7261.1309\nEpoch [8060], val_loss: 7261.1147\nEpoch [8080], val_loss: 7261.0947\nEpoch [8100], val_loss: 7261.0781\nEpoch [8120], val_loss: 7261.0596\nEpoch [8140], val_loss: 7261.0430\nEpoch [8160], val_loss: 7261.0244\nEpoch [8180], val_loss: 7261.0049\nEpoch [8200], val_loss: 7260.9873\nEpoch [8220], val_loss: 7260.9702\nEpoch [8240], val_loss: 7260.9521\nEpoch [8260], val_loss: 7260.9351\nEpoch [8280], val_loss: 7260.9185\nEpoch [8300], val_loss: 7260.8994\nEpoch [8320], val_loss: 7260.8804\nEpoch [8340], val_loss: 7260.8623\nEpoch [8360], val_loss: 7260.8457\nEpoch [8380], val_loss: 7260.8271\nEpoch [8400], val_loss: 7260.8096\nEpoch [8420], val_loss: 7260.7915\nEpoch [8440], val_loss: 7260.7734\nEpoch [8460], val_loss: 7260.7549\nEpoch [8480], val_loss: 7260.7368\nEpoch [8500], val_loss: 7260.7197\nEpoch [8520], val_loss: 7260.7026\nEpoch [8540], val_loss: 7260.6841\nEpoch [8560], val_loss: 7260.6670\nEpoch [8580], val_loss: 7260.6479\nEpoch [8600], val_loss: 7260.6299\nEpoch [8620], val_loss: 7260.6118\nEpoch [8640], val_loss: 7260.5938\nEpoch [8660], val_loss: 7260.5776\nEpoch [8680], val_loss: 7260.5605\nEpoch [8700], val_loss: 7260.5405\nEpoch [8720], val_loss: 7260.5244\nEpoch [8740], val_loss: 7260.5059\nEpoch [8760], val_loss: 7260.4893\nEpoch [8780], val_loss: 7260.4688\nEpoch [8800], val_loss: 7260.4531\nEpoch [8820], val_loss: 7260.4346\nEpoch [8840], val_loss: 7260.4175\nEpoch [8860], val_loss: 7260.3979\nEpoch [8880], val_loss: 7260.3809\nEpoch [8900], val_loss: 7260.3633\nEpoch [8920], val_loss: 7260.3467\nEpoch [8940], val_loss: 7260.3262\nEpoch [8960], val_loss: 7260.3096\nEpoch [8980], val_loss: 7260.2910\nEpoch [9000], val_loss: 7260.2739\nEpoch [9020], val_loss: 7260.2559\nEpoch [9040], val_loss: 7260.2373\nEpoch [9060], val_loss: 7260.2207\nEpoch [9080], val_loss: 7260.2031\nEpoch [9100], val_loss: 7260.1855\nEpoch [9120], val_loss: 7260.1680\nEpoch [9140], val_loss: 7260.1484\nEpoch [9160], val_loss: 7260.1313\nEpoch [9180], val_loss: 7260.1123\nEpoch [9200], val_loss: 7260.0947\nEpoch [9220], val_loss: 7260.0771\nEpoch [9240], val_loss: 7260.0596\nEpoch [9260], val_loss: 7260.0420\nEpoch [9280], val_loss: 7260.0244\nEpoch [9300], val_loss: 7260.0068\nEpoch [9320], val_loss: 7259.9902\nEpoch [9340], val_loss: 7259.9697\nEpoch [9360], val_loss: 7259.9521\nEpoch [9380], val_loss: 7259.9355\nEpoch [9400], val_loss: 7259.9165\nEpoch [9420], val_loss: 7259.8994\nEpoch [9440], val_loss: 7259.8804\nEpoch [9460], val_loss: 7259.8628\nEpoch [9480], val_loss: 7259.8457\nEpoch [9500], val_loss: 7259.8281\nEpoch [9520], val_loss: 7259.8096\nEpoch [9540], val_loss: 7259.7915\nEpoch [9560], val_loss: 7259.7744\nEpoch [9580], val_loss: 7259.7559\nEpoch [9600], val_loss: 7259.7393\nEpoch [9620], val_loss: 7259.7207\nEpoch [9640], val_loss: 7259.7021\nEpoch [9660], val_loss: 7259.6841\nEpoch [9680], val_loss: 7259.6675\nEpoch [9700], val_loss: 7259.6494\nEpoch [9720], val_loss: 7259.6313\nEpoch [9740], val_loss: 7259.6133\nEpoch [9760], val_loss: 7259.5947\nEpoch [9780], val_loss: 7259.5781\nEpoch [9800], val_loss: 7259.5601\nEpoch [9820], val_loss: 7259.5430\nEpoch [9840], val_loss: 7259.5239\nEpoch [9860], val_loss: 7259.5059\nEpoch [9880], val_loss: 7259.4883\nEpoch [9900], val_loss: 7259.4717\nEpoch [9920], val_loss: 7259.4541\nEpoch [9940], val_loss: 7259.4365\nEpoch [9960], val_loss: 7259.4185\nEpoch [9980], val_loss: 7259.3994\nEpoch [10000], val_loss: 7259.3809\n"
    }
   ],
   "source": [
    "epochs = 10000\n",
    "lr = 1e-3\n",
    "history2 = fit(epochs, lr, model, train_loader, val_loader)"
   ]
  },
  {
   "cell_type": "code",
   "execution_count": 466,
   "metadata": {},
   "outputs": [
    {
     "output_type": "stream",
     "name": "stdout",
     "text": "Epoch [20], val_loss: 7259.3794\nEpoch [40], val_loss: 7259.3779\nEpoch [60], val_loss: 7259.3770\nEpoch [80], val_loss: 7259.3750\nEpoch [100], val_loss: 7259.3740\nEpoch [120], val_loss: 7259.3721\nEpoch [140], val_loss: 7259.3701\nEpoch [160], val_loss: 7259.3682\nEpoch [180], val_loss: 7259.3662\nEpoch [200], val_loss: 7259.3657\nEpoch [220], val_loss: 7259.3633\nEpoch [240], val_loss: 7259.3613\nEpoch [260], val_loss: 7259.3594\nEpoch [280], val_loss: 7259.3584\nEpoch [300], val_loss: 7259.3564\nEpoch [320], val_loss: 7259.3545\nEpoch [340], val_loss: 7259.3535\nEpoch [360], val_loss: 7259.3506\nEpoch [380], val_loss: 7259.3491\nEpoch [400], val_loss: 7259.3486\nEpoch [420], val_loss: 7259.3457\nEpoch [440], val_loss: 7259.3447\nEpoch [460], val_loss: 7259.3423\nEpoch [480], val_loss: 7259.3418\nEpoch [500], val_loss: 7259.3398\nEpoch [520], val_loss: 7259.3379\nEpoch [540], val_loss: 7259.3354\nEpoch [560], val_loss: 7259.3340\nEpoch [580], val_loss: 7259.3325\nEpoch [600], val_loss: 7259.3301\nEpoch [620], val_loss: 7259.3281\nEpoch [640], val_loss: 7259.3267\nEpoch [660], val_loss: 7259.3247\nEpoch [680], val_loss: 7259.3228\nEpoch [700], val_loss: 7259.3218\nEpoch [720], val_loss: 7259.3203\nEpoch [740], val_loss: 7259.3184\nEpoch [760], val_loss: 7259.3159\nEpoch [780], val_loss: 7259.3140\nEpoch [800], val_loss: 7259.3130\nEpoch [820], val_loss: 7259.3115\nEpoch [840], val_loss: 7259.3101\nEpoch [860], val_loss: 7259.3066\nEpoch [880], val_loss: 7259.3057\nEpoch [900], val_loss: 7259.3037\nEpoch [920], val_loss: 7259.3008\nEpoch [940], val_loss: 7259.2998\nEpoch [960], val_loss: 7259.2974\nEpoch [980], val_loss: 7259.2969\nEpoch [1000], val_loss: 7259.2949\nEpoch [1020], val_loss: 7259.2935\nEpoch [1040], val_loss: 7259.2920\nEpoch [1060], val_loss: 7259.2900\nEpoch [1080], val_loss: 7259.2876\nEpoch [1100], val_loss: 7259.2866\nEpoch [1120], val_loss: 7259.2837\nEpoch [1140], val_loss: 7259.2832\nEpoch [1160], val_loss: 7259.2812\nEpoch [1180], val_loss: 7259.2793\nEpoch [1200], val_loss: 7259.2773\nEpoch [1220], val_loss: 7259.2744\nEpoch [1240], val_loss: 7259.2734\nEpoch [1260], val_loss: 7259.2715\nEpoch [1280], val_loss: 7259.2695\nEpoch [1300], val_loss: 7259.2686\nEpoch [1320], val_loss: 7259.2671\nEpoch [1340], val_loss: 7259.2656\nEpoch [1360], val_loss: 7259.2632\nEpoch [1380], val_loss: 7259.2612\nEpoch [1400], val_loss: 7259.2598\nEpoch [1420], val_loss: 7259.2578\nEpoch [1440], val_loss: 7259.2563\nEpoch [1460], val_loss: 7259.2544\nEpoch [1480], val_loss: 7259.2524\nEpoch [1500], val_loss: 7259.2500\nEpoch [1520], val_loss: 7259.2480\nEpoch [1540], val_loss: 7259.2461\nEpoch [1560], val_loss: 7259.2441\nEpoch [1580], val_loss: 7259.2437\nEpoch [1600], val_loss: 7259.2412\nEpoch [1620], val_loss: 7259.2402\nEpoch [1640], val_loss: 7259.2383\nEpoch [1660], val_loss: 7259.2358\nEpoch [1680], val_loss: 7259.2349\nEpoch [1700], val_loss: 7259.2324\nEpoch [1720], val_loss: 7259.2305\nEpoch [1740], val_loss: 7259.2290\nEpoch [1760], val_loss: 7259.2271\nEpoch [1780], val_loss: 7259.2246\nEpoch [1800], val_loss: 7259.2241\nEpoch [1820], val_loss: 7259.2227\nEpoch [1840], val_loss: 7259.2202\nEpoch [1860], val_loss: 7259.2188\nEpoch [1880], val_loss: 7259.2168\nEpoch [1900], val_loss: 7259.2148\nEpoch [1920], val_loss: 7259.2129\nEpoch [1940], val_loss: 7259.2109\nEpoch [1960], val_loss: 7259.2100\nEpoch [1980], val_loss: 7259.2080\nEpoch [2000], val_loss: 7259.2065\nEpoch [2020], val_loss: 7259.2051\nEpoch [2040], val_loss: 7259.2031\nEpoch [2060], val_loss: 7259.2002\nEpoch [2080], val_loss: 7259.1992\nEpoch [2100], val_loss: 7259.1982\nEpoch [2120], val_loss: 7259.1963\nEpoch [2140], val_loss: 7259.1938\nEpoch [2160], val_loss: 7259.1914\nEpoch [2180], val_loss: 7259.1895\nEpoch [2200], val_loss: 7259.1875\nEpoch [2220], val_loss: 7259.1860\nEpoch [2240], val_loss: 7259.1841\nEpoch [2260], val_loss: 7259.1826\nEpoch [2280], val_loss: 7259.1807\nEpoch [2300], val_loss: 7259.1797\nEpoch [2320], val_loss: 7259.1777\nEpoch [2340], val_loss: 7259.1763\nEpoch [2360], val_loss: 7259.1743\nEpoch [2380], val_loss: 7259.1729\nEpoch [2400], val_loss: 7259.1709\nEpoch [2420], val_loss: 7259.1689\nEpoch [2440], val_loss: 7259.1670\nEpoch [2460], val_loss: 7259.1660\nEpoch [2480], val_loss: 7259.1621\nEpoch [2500], val_loss: 7259.1611\nEpoch [2520], val_loss: 7259.1597\nEpoch [2540], val_loss: 7259.1587\nEpoch [2560], val_loss: 7259.1572\nEpoch [2580], val_loss: 7259.1543\nEpoch [2600], val_loss: 7259.1533\nEpoch [2620], val_loss: 7259.1514\nEpoch [2640], val_loss: 7259.1494\nEpoch [2660], val_loss: 7259.1475\nEpoch [2680], val_loss: 7259.1455\nEpoch [2700], val_loss: 7259.1431\nEpoch [2720], val_loss: 7259.1426\nEpoch [2740], val_loss: 7259.1411\nEpoch [2760], val_loss: 7259.1377\nEpoch [2780], val_loss: 7259.1372\nEpoch [2800], val_loss: 7259.1357\nEpoch [2820], val_loss: 7259.1338\nEpoch [2840], val_loss: 7259.1318\nEpoch [2860], val_loss: 7259.1299\nEpoch [2880], val_loss: 7259.1279\nEpoch [2900], val_loss: 7259.1260\nEpoch [2920], val_loss: 7259.1240\nEpoch [2940], val_loss: 7259.1230\nEpoch [2960], val_loss: 7259.1211\nEpoch [2980], val_loss: 7259.1191\nEpoch [3000], val_loss: 7259.1172\nEpoch [3020], val_loss: 7259.1152\nEpoch [3040], val_loss: 7259.1138\nEpoch [3060], val_loss: 7259.1113\nEpoch [3080], val_loss: 7259.1104\nEpoch [3100], val_loss: 7259.1084\nEpoch [3120], val_loss: 7259.1064\nEpoch [3140], val_loss: 7259.1045\nEpoch [3160], val_loss: 7259.1035\nEpoch [3180], val_loss: 7259.1006\nEpoch [3200], val_loss: 7259.0996\nEpoch [3220], val_loss: 7259.0977\nEpoch [3240], val_loss: 7259.0957\nEpoch [3260], val_loss: 7259.0947\nEpoch [3280], val_loss: 7259.0928\nEpoch [3300], val_loss: 7259.0908\nEpoch [3320], val_loss: 7259.0889\nEpoch [3340], val_loss: 7259.0874\nEpoch [3360], val_loss: 7259.0854\nEpoch [3380], val_loss: 7259.0840\nEpoch [3400], val_loss: 7259.0820\nEpoch [3420], val_loss: 7259.0796\nEpoch [3440], val_loss: 7259.0781\nEpoch [3460], val_loss: 7259.0762\nEpoch [3480], val_loss: 7259.0747\nEpoch [3500], val_loss: 7259.0728\nEpoch [3520], val_loss: 7259.0723\nEpoch [3540], val_loss: 7259.0693\nEpoch [3560], val_loss: 7259.0679\nEpoch [3580], val_loss: 7259.0659\nEpoch [3600], val_loss: 7259.0635\nEpoch [3620], val_loss: 7259.0625\nEpoch [3640], val_loss: 7259.0605\nEpoch [3660], val_loss: 7259.0591\nEpoch [3680], val_loss: 7259.0576\nEpoch [3700], val_loss: 7259.0552\nEpoch [3720], val_loss: 7259.0532\nEpoch [3740], val_loss: 7259.0508\nEpoch [3760], val_loss: 7259.0498\nEpoch [3780], val_loss: 7259.0479\nEpoch [3800], val_loss: 7259.0459\nEpoch [3820], val_loss: 7259.0449\nEpoch [3840], val_loss: 7259.0430\nEpoch [3860], val_loss: 7259.0420\nEpoch [3880], val_loss: 7259.0396\nEpoch [3900], val_loss: 7259.0371\nEpoch [3920], val_loss: 7259.0352\nEpoch [3940], val_loss: 7259.0342\nEpoch [3960], val_loss: 7259.0322\nEpoch [3980], val_loss: 7259.0303\nEpoch [4000], val_loss: 7259.0278\nEpoch [4020], val_loss: 7259.0273\nEpoch [4040], val_loss: 7259.0254\nEpoch [4060], val_loss: 7259.0234\nEpoch [4080], val_loss: 7259.0215\nEpoch [4100], val_loss: 7259.0205\nEpoch [4120], val_loss: 7259.0176\nEpoch [4140], val_loss: 7259.0156\nEpoch [4160], val_loss: 7259.0146\nEpoch [4180], val_loss: 7259.0122\nEpoch [4200], val_loss: 7259.0103\nEpoch [4220], val_loss: 7259.0088\nEpoch [4240], val_loss: 7259.0078\nEpoch [4260], val_loss: 7259.0059\nEpoch [4280], val_loss: 7259.0039\nEpoch [4300], val_loss: 7259.0015\nEpoch [4320], val_loss: 7258.9995\nEpoch [4340], val_loss: 7258.9990\nEpoch [4360], val_loss: 7258.9971\nEpoch [4380], val_loss: 7258.9951\nEpoch [4400], val_loss: 7258.9932\nEpoch [4420], val_loss: 7258.9917\nEpoch [4440], val_loss: 7258.9902\nEpoch [4460], val_loss: 7258.9878\nEpoch [4480], val_loss: 7258.9854\nEpoch [4500], val_loss: 7258.9844\nEpoch [4520], val_loss: 7258.9824\nEpoch [4540], val_loss: 7258.9810\nEpoch [4560], val_loss: 7258.9785\nEpoch [4580], val_loss: 7258.9775\nEpoch [4600], val_loss: 7258.9756\nEpoch [4620], val_loss: 7258.9736\nEpoch [4640], val_loss: 7258.9717\nEpoch [4660], val_loss: 7258.9697\nEpoch [4680], val_loss: 7258.9683\nEpoch [4700], val_loss: 7258.9663\nEpoch [4720], val_loss: 7258.9639\nEpoch [4740], val_loss: 7258.9629\nEpoch [4760], val_loss: 7258.9609\nEpoch [4780], val_loss: 7258.9600\nEpoch [4800], val_loss: 7258.9580\nEpoch [4820], val_loss: 7258.9561\nEpoch [4840], val_loss: 7258.9536\nEpoch [4860], val_loss: 7258.9531\nEpoch [4880], val_loss: 7258.9497\nEpoch [4900], val_loss: 7258.9482\nEpoch [4920], val_loss: 7258.9478\nEpoch [4940], val_loss: 7258.9453\nEpoch [4960], val_loss: 7258.9424\nEpoch [4980], val_loss: 7258.9409\nEpoch [5000], val_loss: 7258.9395\nEpoch [5020], val_loss: 7258.9370\nEpoch [5040], val_loss: 7258.9365\nEpoch [5060], val_loss: 7258.9336\nEpoch [5080], val_loss: 7258.9321\nEpoch [5100], val_loss: 7258.9307\nEpoch [5120], val_loss: 7258.9287\nEpoch [5140], val_loss: 7258.9268\nEpoch [5160], val_loss: 7258.9248\nEpoch [5180], val_loss: 7258.9238\nEpoch [5200], val_loss: 7258.9209\nEpoch [5220], val_loss: 7258.9189\nEpoch [5240], val_loss: 7258.9170\nEpoch [5260], val_loss: 7258.9160\nEpoch [5280], val_loss: 7258.9150\nEpoch [5300], val_loss: 7258.9126\nEpoch [5320], val_loss: 7258.9106\nEpoch [5340], val_loss: 7258.9082\nEpoch [5360], val_loss: 7258.9067\nEpoch [5380], val_loss: 7258.9053\nEpoch [5400], val_loss: 7258.9038\nEpoch [5420], val_loss: 7258.9014\nEpoch [5440], val_loss: 7258.8999\nEpoch [5460], val_loss: 7258.8975\nEpoch [5480], val_loss: 7258.8965\nEpoch [5500], val_loss: 7258.8936\nEpoch [5520], val_loss: 7258.8926\nEpoch [5540], val_loss: 7258.8901\nEpoch [5560], val_loss: 7258.8887\nEpoch [5580], val_loss: 7258.8867\nEpoch [5600], val_loss: 7258.8848\nEpoch [5620], val_loss: 7258.8823\nEpoch [5640], val_loss: 7258.8804\nEpoch [5660], val_loss: 7258.8794\nEpoch [5680], val_loss: 7258.8774\nEpoch [5700], val_loss: 7258.8750\nEpoch [5720], val_loss: 7258.8740\nEpoch [5740], val_loss: 7258.8721\nEpoch [5760], val_loss: 7258.8701\nEpoch [5780], val_loss: 7258.8682\nEpoch [5800], val_loss: 7258.8667\nEpoch [5820], val_loss: 7258.8652\nEpoch [5840], val_loss: 7258.8623\nEpoch [5860], val_loss: 7258.8613\nEpoch [5880], val_loss: 7258.8594\nEpoch [5900], val_loss: 7258.8579\nEpoch [5920], val_loss: 7258.8564\nEpoch [5940], val_loss: 7258.8545\nEpoch [5960], val_loss: 7258.8521\nEpoch [5980], val_loss: 7258.8506\nEpoch [6000], val_loss: 7258.8491\nEpoch [6020], val_loss: 7258.8462\nEpoch [6040], val_loss: 7258.8447\nEpoch [6060], val_loss: 7258.8428\nEpoch [6080], val_loss: 7258.8408\nEpoch [6100], val_loss: 7258.8403\nEpoch [6120], val_loss: 7258.8374\nEpoch [6140], val_loss: 7258.8359\nEpoch [6160], val_loss: 7258.8345\nEpoch [6180], val_loss: 7258.8325\nEpoch [6200], val_loss: 7258.8301\nEpoch [6220], val_loss: 7258.8301\nEpoch [6240], val_loss: 7258.8262\nEpoch [6260], val_loss: 7258.8242\nEpoch [6280], val_loss: 7258.8232\nEpoch [6300], val_loss: 7258.8223\nEpoch [6320], val_loss: 7258.8193\nEpoch [6340], val_loss: 7258.8174\nEpoch [6360], val_loss: 7258.8154\nEpoch [6380], val_loss: 7258.8145\nEpoch [6400], val_loss: 7258.8120\nEpoch [6420], val_loss: 7258.8105\nEpoch [6440], val_loss: 7258.8081\nEpoch [6460], val_loss: 7258.8066\nEpoch [6480], val_loss: 7258.8047\nEpoch [6500], val_loss: 7258.8037\nEpoch [6520], val_loss: 7258.8008\nEpoch [6540], val_loss: 7258.7998\nEpoch [6560], val_loss: 7258.7969\nEpoch [6580], val_loss: 7258.7959\nEpoch [6600], val_loss: 7258.7944\nEpoch [6620], val_loss: 7258.7930\nEpoch [6640], val_loss: 7258.7905\nEpoch [6660], val_loss: 7258.7891\nEpoch [6680], val_loss: 7258.7871\nEpoch [6700], val_loss: 7258.7856\nEpoch [6720], val_loss: 7258.7842\nEpoch [6740], val_loss: 7258.7812\nEpoch [6760], val_loss: 7258.7803\nEpoch [6780], val_loss: 7258.7778\nEpoch [6800], val_loss: 7258.7764\nEpoch [6820], val_loss: 7258.7739\nEpoch [6840], val_loss: 7258.7725\nEpoch [6860], val_loss: 7258.7705\nEpoch [6880], val_loss: 7258.7686\nEpoch [6900], val_loss: 7258.7676\nEpoch [6920], val_loss: 7258.7656\nEpoch [6940], val_loss: 7258.7646\nEpoch [6960], val_loss: 7258.7627\nEpoch [6980], val_loss: 7258.7598\nEpoch [7000], val_loss: 7258.7583\nEpoch [7020], val_loss: 7258.7563\nEpoch [7040], val_loss: 7258.7539\nEpoch [7060], val_loss: 7258.7529\nEpoch [7080], val_loss: 7258.7515\nEpoch [7100], val_loss: 7258.7490\nEpoch [7120], val_loss: 7258.7471\nEpoch [7140], val_loss: 7258.7461\nEpoch [7160], val_loss: 7258.7437\nEpoch [7180], val_loss: 7258.7412\nEpoch [7200], val_loss: 7258.7393\nEpoch [7220], val_loss: 7258.7373\nEpoch [7240], val_loss: 7258.7358\nEpoch [7260], val_loss: 7258.7344\nEpoch [7280], val_loss: 7258.7334\nEpoch [7300], val_loss: 7258.7310\nEpoch [7320], val_loss: 7258.7285\nEpoch [7340], val_loss: 7258.7271\nEpoch [7360], val_loss: 7258.7256\nEpoch [7380], val_loss: 7258.7236\nEpoch [7400], val_loss: 7258.7217\nEpoch [7420], val_loss: 7258.7202\nEpoch [7440], val_loss: 7258.7183\nEpoch [7460], val_loss: 7258.7168\nEpoch [7480], val_loss: 7258.7139\nEpoch [7500], val_loss: 7258.7129\nEpoch [7520], val_loss: 7258.7109\nEpoch [7540], val_loss: 7258.7090\nEpoch [7560], val_loss: 7258.7070\nEpoch [7580], val_loss: 7258.7051\nEpoch [7600], val_loss: 7258.7031\nEpoch [7620], val_loss: 7258.7012\nEpoch [7640], val_loss: 7258.7007\nEpoch [7660], val_loss: 7258.6973\nEpoch [7680], val_loss: 7258.6953\nEpoch [7700], val_loss: 7258.6943\nEpoch [7720], val_loss: 7258.6919\nEpoch [7740], val_loss: 7258.6904\nEpoch [7760], val_loss: 7258.6885\nEpoch [7780], val_loss: 7258.6870\nEpoch [7800], val_loss: 7258.6855\nEpoch [7820], val_loss: 7258.6826\nEpoch [7840], val_loss: 7258.6807\nEpoch [7860], val_loss: 7258.6792\nEpoch [7880], val_loss: 7258.6777\nEpoch [7900], val_loss: 7258.6758\nEpoch [7920], val_loss: 7258.6753\nEpoch [7940], val_loss: 7258.6729\nEpoch [7960], val_loss: 7258.6709\nEpoch [7980], val_loss: 7258.6689\nEpoch [8000], val_loss: 7258.6675\nEpoch [8020], val_loss: 7258.6650\nEpoch [8040], val_loss: 7258.6641\nEpoch [8060], val_loss: 7258.6621\nEpoch [8080], val_loss: 7258.6597\nEpoch [8100], val_loss: 7258.6582\nEpoch [8120], val_loss: 7258.6562\nEpoch [8140], val_loss: 7258.6543\nEpoch [8160], val_loss: 7258.6533\nEpoch [8180], val_loss: 7258.6504\nEpoch [8200], val_loss: 7258.6489\nEpoch [8220], val_loss: 7258.6470\nEpoch [8240], val_loss: 7258.6450\nEpoch [8260], val_loss: 7258.6436\nEpoch [8280], val_loss: 7258.6416\nEpoch [8300], val_loss: 7258.6396\nEpoch [8320], val_loss: 7258.6372\nEpoch [8340], val_loss: 7258.6357\nEpoch [8360], val_loss: 7258.6338\nEpoch [8380], val_loss: 7258.6318\nEpoch [8400], val_loss: 7258.6309\nEpoch [8420], val_loss: 7258.6289\nEpoch [8440], val_loss: 7258.6270\nEpoch [8460], val_loss: 7258.6260\nEpoch [8480], val_loss: 7258.6230\nEpoch [8500], val_loss: 7258.6211\nEpoch [8520], val_loss: 7258.6201\nEpoch [8540], val_loss: 7258.6182\nEpoch [8560], val_loss: 7258.6162\nEpoch [8580], val_loss: 7258.6143\nEpoch [8600], val_loss: 7258.6133\nEpoch [8620], val_loss: 7258.6104\nEpoch [8640], val_loss: 7258.6084\nEpoch [8660], val_loss: 7258.6064\nEpoch [8680], val_loss: 7258.6060\nEpoch [8700], val_loss: 7258.6035\nEpoch [8720], val_loss: 7258.6016\nEpoch [8740], val_loss: 7258.5996\nEpoch [8760], val_loss: 7258.5986\nEpoch [8780], val_loss: 7258.5957\nEpoch [8800], val_loss: 7258.5938\nEpoch [8820], val_loss: 7258.5918\nEpoch [8840], val_loss: 7258.5908\nEpoch [8860], val_loss: 7258.5889\nEpoch [8880], val_loss: 7258.5879\nEpoch [8900], val_loss: 7258.5859\nEpoch [8920], val_loss: 7258.5840\nEpoch [8940], val_loss: 7258.5820\nEpoch [8960], val_loss: 7258.5811\nEpoch [8980], val_loss: 7258.5781\nEpoch [9000], val_loss: 7258.5767\n"
    }
   ],
   "source": [
    "epochs = 9000\n",
    "lr = 1e-4\n",
    "history3 = fit(epochs, lr, model, train_loader, val_loader)"
   ]
  },
  {
   "cell_type": "code",
   "execution_count": 470,
   "metadata": {},
   "outputs": [
    {
     "output_type": "stream",
     "name": "stdout",
     "text": "Epoch [20], val_loss: 7258.5762\nEpoch [40], val_loss: 7258.5771\nEpoch [60], val_loss: 7258.5762\nEpoch [80], val_loss: 7258.5762\nEpoch [100], val_loss: 7258.5762\nEpoch [120], val_loss: 7258.5752\nEpoch [140], val_loss: 7258.5762\nEpoch [160], val_loss: 7258.5757\nEpoch [180], val_loss: 7258.5752\nEpoch [200], val_loss: 7258.5752\nEpoch [220], val_loss: 7258.5757\nEpoch [240], val_loss: 7258.5762\nEpoch [260], val_loss: 7258.5752\nEpoch [280], val_loss: 7258.5752\nEpoch [300], val_loss: 7258.5762\nEpoch [320], val_loss: 7258.5757\nEpoch [340], val_loss: 7258.5762\nEpoch [360], val_loss: 7258.5757\nEpoch [380], val_loss: 7258.5752\nEpoch [400], val_loss: 7258.5752\nEpoch [420], val_loss: 7258.5752\nEpoch [440], val_loss: 7258.5752\nEpoch [460], val_loss: 7258.5752\nEpoch [480], val_loss: 7258.5752\nEpoch [500], val_loss: 7258.5752\nEpoch [520], val_loss: 7258.5752\nEpoch [540], val_loss: 7258.5752\nEpoch [560], val_loss: 7258.5747\nEpoch [580], val_loss: 7258.5752\nEpoch [600], val_loss: 7258.5752\nEpoch [620], val_loss: 7258.5752\nEpoch [640], val_loss: 7258.5747\nEpoch [660], val_loss: 7258.5747\nEpoch [680], val_loss: 7258.5742\nEpoch [700], val_loss: 7258.5747\nEpoch [720], val_loss: 7258.5742\nEpoch [740], val_loss: 7258.5742\nEpoch [760], val_loss: 7258.5742\nEpoch [780], val_loss: 7258.5742\nEpoch [800], val_loss: 7258.5742\nEpoch [820], val_loss: 7258.5742\nEpoch [840], val_loss: 7258.5742\nEpoch [860], val_loss: 7258.5742\nEpoch [880], val_loss: 7258.5742\nEpoch [900], val_loss: 7258.5742\nEpoch [920], val_loss: 7258.5742\nEpoch [940], val_loss: 7258.5742\nEpoch [960], val_loss: 7258.5742\nEpoch [980], val_loss: 7258.5737\nEpoch [1000], val_loss: 7258.5742\nEpoch [1020], val_loss: 7258.5742\nEpoch [1040], val_loss: 7258.5732\nEpoch [1060], val_loss: 7258.5742\nEpoch [1080], val_loss: 7258.5732\nEpoch [1100], val_loss: 7258.5737\nEpoch [1120], val_loss: 7258.5732\nEpoch [1140], val_loss: 7258.5732\nEpoch [1160], val_loss: 7258.5732\nEpoch [1180], val_loss: 7258.5732\nEpoch [1200], val_loss: 7258.5728\nEpoch [1220], val_loss: 7258.5728\nEpoch [1240], val_loss: 7258.5732\nEpoch [1260], val_loss: 7258.5732\nEpoch [1280], val_loss: 7258.5732\nEpoch [1300], val_loss: 7258.5732\nEpoch [1320], val_loss: 7258.5732\nEpoch [1340], val_loss: 7258.5728\nEpoch [1360], val_loss: 7258.5732\nEpoch [1380], val_loss: 7258.5732\nEpoch [1400], val_loss: 7258.5732\nEpoch [1420], val_loss: 7258.5723\nEpoch [1440], val_loss: 7258.5728\nEpoch [1460], val_loss: 7258.5723\nEpoch [1480], val_loss: 7258.5728\nEpoch [1500], val_loss: 7258.5728\nEpoch [1520], val_loss: 7258.5723\nEpoch [1540], val_loss: 7258.5728\nEpoch [1560], val_loss: 7258.5723\nEpoch [1580], val_loss: 7258.5718\nEpoch [1600], val_loss: 7258.5723\nEpoch [1620], val_loss: 7258.5718\nEpoch [1640], val_loss: 7258.5713\nEpoch [1660], val_loss: 7258.5723\nEpoch [1680], val_loss: 7258.5723\nEpoch [1700], val_loss: 7258.5723\nEpoch [1720], val_loss: 7258.5723\nEpoch [1740], val_loss: 7258.5723\nEpoch [1760], val_loss: 7258.5713\nEpoch [1780], val_loss: 7258.5713\nEpoch [1800], val_loss: 7258.5713\nEpoch [1820], val_loss: 7258.5713\nEpoch [1840], val_loss: 7258.5713\nEpoch [1860], val_loss: 7258.5713\nEpoch [1880], val_loss: 7258.5713\nEpoch [1900], val_loss: 7258.5723\nEpoch [1920], val_loss: 7258.5713\nEpoch [1940], val_loss: 7258.5713\nEpoch [1960], val_loss: 7258.5713\nEpoch [1980], val_loss: 7258.5713\nEpoch [2000], val_loss: 7258.5703\nEpoch [2020], val_loss: 7258.5703\nEpoch [2040], val_loss: 7258.5703\nEpoch [2060], val_loss: 7258.5703\nEpoch [2080], val_loss: 7258.5708\nEpoch [2100], val_loss: 7258.5708\nEpoch [2120], val_loss: 7258.5703\nEpoch [2140], val_loss: 7258.5703\nEpoch [2160], val_loss: 7258.5713\nEpoch [2180], val_loss: 7258.5703\nEpoch [2200], val_loss: 7258.5708\nEpoch [2220], val_loss: 7258.5703\nEpoch [2240], val_loss: 7258.5703\nEpoch [2260], val_loss: 7258.5708\nEpoch [2280], val_loss: 7258.5703\nEpoch [2300], val_loss: 7258.5703\nEpoch [2320], val_loss: 7258.5703\nEpoch [2340], val_loss: 7258.5703\nEpoch [2360], val_loss: 7258.5703\nEpoch [2380], val_loss: 7258.5703\nEpoch [2400], val_loss: 7258.5703\nEpoch [2420], val_loss: 7258.5703\nEpoch [2440], val_loss: 7258.5703\nEpoch [2460], val_loss: 7258.5703\nEpoch [2480], val_loss: 7258.5693\nEpoch [2500], val_loss: 7258.5693\nEpoch [2520], val_loss: 7258.5693\nEpoch [2540], val_loss: 7258.5693\nEpoch [2560], val_loss: 7258.5693\nEpoch [2580], val_loss: 7258.5703\nEpoch [2600], val_loss: 7258.5693\nEpoch [2620], val_loss: 7258.5693\nEpoch [2640], val_loss: 7258.5693\nEpoch [2660], val_loss: 7258.5693\nEpoch [2680], val_loss: 7258.5693\nEpoch [2700], val_loss: 7258.5703\nEpoch [2720], val_loss: 7258.5698\nEpoch [2740], val_loss: 7258.5703\nEpoch [2760], val_loss: 7258.5698\nEpoch [2780], val_loss: 7258.5688\nEpoch [2800], val_loss: 7258.5703\nEpoch [2820], val_loss: 7258.5693\nEpoch [2840], val_loss: 7258.5693\nEpoch [2860], val_loss: 7258.5693\nEpoch [2880], val_loss: 7258.5693\nEpoch [2900], val_loss: 7258.5693\nEpoch [2920], val_loss: 7258.5693\nEpoch [2940], val_loss: 7258.5693\nEpoch [2960], val_loss: 7258.5688\nEpoch [2980], val_loss: 7258.5693\nEpoch [3000], val_loss: 7258.5693\nEpoch [3020], val_loss: 7258.5693\nEpoch [3040], val_loss: 7258.5693\nEpoch [3060], val_loss: 7258.5684\nEpoch [3080], val_loss: 7258.5693\nEpoch [3100], val_loss: 7258.5693\nEpoch [3120], val_loss: 7258.5693\nEpoch [3140], val_loss: 7258.5693\nEpoch [3160], val_loss: 7258.5693\nEpoch [3180], val_loss: 7258.5688\nEpoch [3200], val_loss: 7258.5693\nEpoch [3220], val_loss: 7258.5684\nEpoch [3240], val_loss: 7258.5684\nEpoch [3260], val_loss: 7258.5693\nEpoch [3280], val_loss: 7258.5684\nEpoch [3300], val_loss: 7258.5688\nEpoch [3320], val_loss: 7258.5684\nEpoch [3340], val_loss: 7258.5693\nEpoch [3360], val_loss: 7258.5688\nEpoch [3380], val_loss: 7258.5684\nEpoch [3400], val_loss: 7258.5684\nEpoch [3420], val_loss: 7258.5684\nEpoch [3440], val_loss: 7258.5679\nEpoch [3460], val_loss: 7258.5684\nEpoch [3480], val_loss: 7258.5684\nEpoch [3500], val_loss: 7258.5684\nEpoch [3520], val_loss: 7258.5684\nEpoch [3540], val_loss: 7258.5674\nEpoch [3560], val_loss: 7258.5679\nEpoch [3580], val_loss: 7258.5679\nEpoch [3600], val_loss: 7258.5674\nEpoch [3620], val_loss: 7258.5674\nEpoch [3640], val_loss: 7258.5679\nEpoch [3660], val_loss: 7258.5684\nEpoch [3680], val_loss: 7258.5674\nEpoch [3700], val_loss: 7258.5674\nEpoch [3720], val_loss: 7258.5674\nEpoch [3740], val_loss: 7258.5674\nEpoch [3760], val_loss: 7258.5679\nEpoch [3780], val_loss: 7258.5674\nEpoch [3800], val_loss: 7258.5674\nEpoch [3820], val_loss: 7258.5674\nEpoch [3840], val_loss: 7258.5674\nEpoch [3860], val_loss: 7258.5674\nEpoch [3880], val_loss: 7258.5674\nEpoch [3900], val_loss: 7258.5669\nEpoch [3920], val_loss: 7258.5674\nEpoch [3940], val_loss: 7258.5674\nEpoch [3960], val_loss: 7258.5674\nEpoch [3980], val_loss: 7258.5674\nEpoch [4000], val_loss: 7258.5669\nEpoch [4020], val_loss: 7258.5664\nEpoch [4040], val_loss: 7258.5664\nEpoch [4060], val_loss: 7258.5669\nEpoch [4080], val_loss: 7258.5669\nEpoch [4100], val_loss: 7258.5654\nEpoch [4120], val_loss: 7258.5649\nEpoch [4140], val_loss: 7258.5654\nEpoch [4160], val_loss: 7258.5664\nEpoch [4180], val_loss: 7258.5664\nEpoch [4200], val_loss: 7258.5664\nEpoch [4220], val_loss: 7258.5669\nEpoch [4240], val_loss: 7258.5664\nEpoch [4260], val_loss: 7258.5664\nEpoch [4280], val_loss: 7258.5664\nEpoch [4300], val_loss: 7258.5659\nEpoch [4320], val_loss: 7258.5659\nEpoch [4340], val_loss: 7258.5664\nEpoch [4360], val_loss: 7258.5664\nEpoch [4380], val_loss: 7258.5654\nEpoch [4400], val_loss: 7258.5664\nEpoch [4420], val_loss: 7258.5664\nEpoch [4440], val_loss: 7258.5659\nEpoch [4460], val_loss: 7258.5659\nEpoch [4480], val_loss: 7258.5654\nEpoch [4500], val_loss: 7258.5654\nEpoch [4520], val_loss: 7258.5659\nEpoch [4540], val_loss: 7258.5654\nEpoch [4560], val_loss: 7258.5654\nEpoch [4580], val_loss: 7258.5654\nEpoch [4600], val_loss: 7258.5654\nEpoch [4620], val_loss: 7258.5654\nEpoch [4640], val_loss: 7258.5654\nEpoch [4660], val_loss: 7258.5654\nEpoch [4680], val_loss: 7258.5654\nEpoch [4700], val_loss: 7258.5645\nEpoch [4720], val_loss: 7258.5654\nEpoch [4740], val_loss: 7258.5654\nEpoch [4760], val_loss: 7258.5645\nEpoch [4780], val_loss: 7258.5645\nEpoch [4800], val_loss: 7258.5645\nEpoch [4820], val_loss: 7258.5640\nEpoch [4840], val_loss: 7258.5645\nEpoch [4860], val_loss: 7258.5645\nEpoch [4880], val_loss: 7258.5635\nEpoch [4900], val_loss: 7258.5645\nEpoch [4920], val_loss: 7258.5645\nEpoch [4940], val_loss: 7258.5645\nEpoch [4960], val_loss: 7258.5645\nEpoch [4980], val_loss: 7258.5640\nEpoch [5000], val_loss: 7258.5645\nEpoch [5020], val_loss: 7258.5640\nEpoch [5040], val_loss: 7258.5640\nEpoch [5060], val_loss: 7258.5645\nEpoch [5080], val_loss: 7258.5640\nEpoch [5100], val_loss: 7258.5635\nEpoch [5120], val_loss: 7258.5635\nEpoch [5140], val_loss: 7258.5635\nEpoch [5160], val_loss: 7258.5635\nEpoch [5180], val_loss: 7258.5635\nEpoch [5200], val_loss: 7258.5630\nEpoch [5220], val_loss: 7258.5630\nEpoch [5240], val_loss: 7258.5635\nEpoch [5260], val_loss: 7258.5635\nEpoch [5280], val_loss: 7258.5635\nEpoch [5300], val_loss: 7258.5635\nEpoch [5320], val_loss: 7258.5635\nEpoch [5340], val_loss: 7258.5635\nEpoch [5360], val_loss: 7258.5635\nEpoch [5380], val_loss: 7258.5635\nEpoch [5400], val_loss: 7258.5630\nEpoch [5420], val_loss: 7258.5635\nEpoch [5440], val_loss: 7258.5630\nEpoch [5460], val_loss: 7258.5635\nEpoch [5480], val_loss: 7258.5635\nEpoch [5500], val_loss: 7258.5635\nEpoch [5520], val_loss: 7258.5630\nEpoch [5540], val_loss: 7258.5625\nEpoch [5560], val_loss: 7258.5630\nEpoch [5580], val_loss: 7258.5625\nEpoch [5600], val_loss: 7258.5625\nEpoch [5620], val_loss: 7258.5615\nEpoch [5640], val_loss: 7258.5615\nEpoch [5660], val_loss: 7258.5625\nEpoch [5680], val_loss: 7258.5625\nEpoch [5700], val_loss: 7258.5625\nEpoch [5720], val_loss: 7258.5625\nEpoch [5740], val_loss: 7258.5615\nEpoch [5760], val_loss: 7258.5615\nEpoch [5780], val_loss: 7258.5615\nEpoch [5800], val_loss: 7258.5615\nEpoch [5820], val_loss: 7258.5620\nEpoch [5840], val_loss: 7258.5615\nEpoch [5860], val_loss: 7258.5620\nEpoch [5880], val_loss: 7258.5615\nEpoch [5900], val_loss: 7258.5610\nEpoch [5920], val_loss: 7258.5620\nEpoch [5940], val_loss: 7258.5610\nEpoch [5960], val_loss: 7258.5610\nEpoch [5980], val_loss: 7258.5605\nEpoch [6000], val_loss: 7258.5605\nEpoch [6020], val_loss: 7258.5605\nEpoch [6040], val_loss: 7258.5605\nEpoch [6060], val_loss: 7258.5610\nEpoch [6080], val_loss: 7258.5610\nEpoch [6100], val_loss: 7258.5605\nEpoch [6120], val_loss: 7258.5605\nEpoch [6140], val_loss: 7258.5605\nEpoch [6160], val_loss: 7258.5615\nEpoch [6180], val_loss: 7258.5610\nEpoch [6200], val_loss: 7258.5615\nEpoch [6220], val_loss: 7258.5615\nEpoch [6240], val_loss: 7258.5605\nEpoch [6260], val_loss: 7258.5610\nEpoch [6280], val_loss: 7258.5605\nEpoch [6300], val_loss: 7258.5615\nEpoch [6320], val_loss: 7258.5601\nEpoch [6340], val_loss: 7258.5605\nEpoch [6360], val_loss: 7258.5605\nEpoch [6380], val_loss: 7258.5601\nEpoch [6400], val_loss: 7258.5605\nEpoch [6420], val_loss: 7258.5605\nEpoch [6440], val_loss: 7258.5596\nEpoch [6460], val_loss: 7258.5605\nEpoch [6480], val_loss: 7258.5601\nEpoch [6500], val_loss: 7258.5605\nEpoch [6520], val_loss: 7258.5601\nEpoch [6540], val_loss: 7258.5605\nEpoch [6560], val_loss: 7258.5605\nEpoch [6580], val_loss: 7258.5605\nEpoch [6600], val_loss: 7258.5605\nEpoch [6620], val_loss: 7258.5605\nEpoch [6640], val_loss: 7258.5605\nEpoch [6660], val_loss: 7258.5596\nEpoch [6680], val_loss: 7258.5596\nEpoch [6700], val_loss: 7258.5596\nEpoch [6720], val_loss: 7258.5596\nEpoch [6740], val_loss: 7258.5596\nEpoch [6760], val_loss: 7258.5596\nEpoch [6780], val_loss: 7258.5596\nEpoch [6800], val_loss: 7258.5591\nEpoch [6820], val_loss: 7258.5596\nEpoch [6840], val_loss: 7258.5596\nEpoch [6860], val_loss: 7258.5596\nEpoch [6880], val_loss: 7258.5596\nEpoch [6900], val_loss: 7258.5596\nEpoch [6920], val_loss: 7258.5596\nEpoch [6940], val_loss: 7258.5591\nEpoch [6960], val_loss: 7258.5596\nEpoch [6980], val_loss: 7258.5591\nEpoch [7000], val_loss: 7258.5591\n"
    }
   ],
   "source": [
    "epochs = 7000\n",
    "lr = 1e-5\n",
    "history4 = fit(epochs, lr, model, train_loader, val_loader)"
   ]
  },
  {
   "cell_type": "code",
   "execution_count": 475,
   "metadata": {},
   "outputs": [
    {
     "output_type": "stream",
     "name": "stdout",
     "text": "Epoch [20], val_loss: 7258.5596\nEpoch [40], val_loss: 7258.5596\nEpoch [60], val_loss: 7258.5596\nEpoch [80], val_loss: 7258.5596\nEpoch [100], val_loss: 7258.5596\nEpoch [120], val_loss: 7258.5596\nEpoch [140], val_loss: 7258.5596\nEpoch [160], val_loss: 7258.5596\nEpoch [180], val_loss: 7258.5596\nEpoch [200], val_loss: 7258.5596\nEpoch [220], val_loss: 7258.5596\nEpoch [240], val_loss: 7258.5596\nEpoch [260], val_loss: 7258.5596\nEpoch [280], val_loss: 7258.5596\nEpoch [300], val_loss: 7258.5586\nEpoch [320], val_loss: 7258.5591\nEpoch [340], val_loss: 7258.5596\nEpoch [360], val_loss: 7258.5596\nEpoch [380], val_loss: 7258.5596\nEpoch [400], val_loss: 7258.5596\nEpoch [420], val_loss: 7258.5596\nEpoch [440], val_loss: 7258.5596\nEpoch [460], val_loss: 7258.5596\nEpoch [480], val_loss: 7258.5596\nEpoch [500], val_loss: 7258.5596\nEpoch [520], val_loss: 7258.5596\nEpoch [540], val_loss: 7258.5596\nEpoch [560], val_loss: 7258.5586\nEpoch [580], val_loss: 7258.5591\nEpoch [600], val_loss: 7258.5596\nEpoch [620], val_loss: 7258.5591\nEpoch [640], val_loss: 7258.5596\nEpoch [660], val_loss: 7258.5586\nEpoch [680], val_loss: 7258.5596\nEpoch [700], val_loss: 7258.5596\nEpoch [720], val_loss: 7258.5596\nEpoch [740], val_loss: 7258.5596\nEpoch [760], val_loss: 7258.5596\nEpoch [780], val_loss: 7258.5596\nEpoch [800], val_loss: 7258.5596\nEpoch [820], val_loss: 7258.5596\nEpoch [840], val_loss: 7258.5596\nEpoch [860], val_loss: 7258.5596\nEpoch [880], val_loss: 7258.5596\nEpoch [900], val_loss: 7258.5596\nEpoch [920], val_loss: 7258.5596\nEpoch [940], val_loss: 7258.5596\nEpoch [960], val_loss: 7258.5596\nEpoch [980], val_loss: 7258.5596\nEpoch [1000], val_loss: 7258.5596\nEpoch [1020], val_loss: 7258.5596\nEpoch [1040], val_loss: 7258.5596\nEpoch [1060], val_loss: 7258.5596\nEpoch [1080], val_loss: 7258.5596\nEpoch [1100], val_loss: 7258.5596\nEpoch [1120], val_loss: 7258.5596\nEpoch [1140], val_loss: 7258.5596\nEpoch [1160], val_loss: 7258.5596\nEpoch [1180], val_loss: 7258.5596\nEpoch [1200], val_loss: 7258.5596\nEpoch [1220], val_loss: 7258.5596\nEpoch [1240], val_loss: 7258.5596\nEpoch [1260], val_loss: 7258.5586\nEpoch [1280], val_loss: 7258.5596\nEpoch [1300], val_loss: 7258.5586\nEpoch [1320], val_loss: 7258.5596\nEpoch [1340], val_loss: 7258.5596\nEpoch [1360], val_loss: 7258.5596\nEpoch [1380], val_loss: 7258.5596\nEpoch [1400], val_loss: 7258.5586\nEpoch [1420], val_loss: 7258.5596\nEpoch [1440], val_loss: 7258.5596\nEpoch [1460], val_loss: 7258.5596\nEpoch [1480], val_loss: 7258.5596\nEpoch [1500], val_loss: 7258.5596\nEpoch [1520], val_loss: 7258.5596\nEpoch [1540], val_loss: 7258.5596\nEpoch [1560], val_loss: 7258.5596\nEpoch [1580], val_loss: 7258.5596\nEpoch [1600], val_loss: 7258.5596\nEpoch [1620], val_loss: 7258.5596\nEpoch [1640], val_loss: 7258.5596\nEpoch [1660], val_loss: 7258.5596\nEpoch [1680], val_loss: 7258.5596\nEpoch [1700], val_loss: 7258.5596\nEpoch [1720], val_loss: 7258.5596\nEpoch [1740], val_loss: 7258.5596\nEpoch [1760], val_loss: 7258.5596\nEpoch [1780], val_loss: 7258.5596\nEpoch [1800], val_loss: 7258.5596\nEpoch [1820], val_loss: 7258.5596\nEpoch [1840], val_loss: 7258.5596\nEpoch [1860], val_loss: 7258.5596\nEpoch [1880], val_loss: 7258.5596\nEpoch [1900], val_loss: 7258.5596\nEpoch [1920], val_loss: 7258.5596\nEpoch [1940], val_loss: 7258.5596\nEpoch [1960], val_loss: 7258.5596\nEpoch [1980], val_loss: 7258.5596\nEpoch [2000], val_loss: 7258.5596\nEpoch [2020], val_loss: 7258.5596\nEpoch [2040], val_loss: 7258.5596\nEpoch [2060], val_loss: 7258.5596\nEpoch [2080], val_loss: 7258.5596\nEpoch [2100], val_loss: 7258.5596\nEpoch [2120], val_loss: 7258.5596\nEpoch [2140], val_loss: 7258.5596\nEpoch [2160], val_loss: 7258.5596\nEpoch [2180], val_loss: 7258.5596\nEpoch [2200], val_loss: 7258.5596\nEpoch [2220], val_loss: 7258.5586\nEpoch [2240], val_loss: 7258.5596\nEpoch [2260], val_loss: 7258.5596\nEpoch [2280], val_loss: 7258.5596\nEpoch [2300], val_loss: 7258.5596\nEpoch [2320], val_loss: 7258.5596\nEpoch [2340], val_loss: 7258.5596\nEpoch [2360], val_loss: 7258.5596\nEpoch [2380], val_loss: 7258.5596\nEpoch [2400], val_loss: 7258.5596\nEpoch [2420], val_loss: 7258.5596\nEpoch [2440], val_loss: 7258.5596\nEpoch [2460], val_loss: 7258.5596\nEpoch [2480], val_loss: 7258.5596\nEpoch [2500], val_loss: 7258.5596\nEpoch [2520], val_loss: 7258.5596\nEpoch [2540], val_loss: 7258.5596\nEpoch [2560], val_loss: 7258.5596\nEpoch [2580], val_loss: 7258.5596\nEpoch [2600], val_loss: 7258.5596\nEpoch [2620], val_loss: 7258.5591\nEpoch [2640], val_loss: 7258.5591\nEpoch [2660], val_loss: 7258.5596\nEpoch [2680], val_loss: 7258.5596\nEpoch [2700], val_loss: 7258.5596\nEpoch [2720], val_loss: 7258.5586\nEpoch [2740], val_loss: 7258.5596\nEpoch [2760], val_loss: 7258.5586\nEpoch [2780], val_loss: 7258.5596\nEpoch [2800], val_loss: 7258.5586\nEpoch [2820], val_loss: 7258.5596\nEpoch [2840], val_loss: 7258.5596\nEpoch [2860], val_loss: 7258.5591\nEpoch [2880], val_loss: 7258.5586\nEpoch [2900], val_loss: 7258.5596\nEpoch [2920], val_loss: 7258.5596\nEpoch [2940], val_loss: 7258.5586\nEpoch [2960], val_loss: 7258.5591\nEpoch [2980], val_loss: 7258.5596\nEpoch [3000], val_loss: 7258.5586\nEpoch [3020], val_loss: 7258.5596\nEpoch [3040], val_loss: 7258.5596\nEpoch [3060], val_loss: 7258.5596\nEpoch [3080], val_loss: 7258.5596\nEpoch [3100], val_loss: 7258.5596\nEpoch [3120], val_loss: 7258.5596\nEpoch [3140], val_loss: 7258.5596\nEpoch [3160], val_loss: 7258.5596\nEpoch [3180], val_loss: 7258.5596\nEpoch [3200], val_loss: 7258.5596\nEpoch [3220], val_loss: 7258.5596\nEpoch [3240], val_loss: 7258.5596\nEpoch [3260], val_loss: 7258.5596\nEpoch [3280], val_loss: 7258.5596\nEpoch [3300], val_loss: 7258.5596\nEpoch [3320], val_loss: 7258.5596\nEpoch [3340], val_loss: 7258.5596\nEpoch [3360], val_loss: 7258.5596\nEpoch [3380], val_loss: 7258.5596\nEpoch [3400], val_loss: 7258.5596\nEpoch [3420], val_loss: 7258.5596\nEpoch [3440], val_loss: 7258.5596\nEpoch [3460], val_loss: 7258.5596\nEpoch [3480], val_loss: 7258.5596\nEpoch [3500], val_loss: 7258.5596\nEpoch [3520], val_loss: 7258.5596\nEpoch [3540], val_loss: 7258.5596\nEpoch [3560], val_loss: 7258.5596\nEpoch [3580], val_loss: 7258.5596\nEpoch [3600], val_loss: 7258.5596\nEpoch [3620], val_loss: 7258.5596\nEpoch [3640], val_loss: 7258.5596\nEpoch [3660], val_loss: 7258.5586\nEpoch [3680], val_loss: 7258.5596\nEpoch [3700], val_loss: 7258.5596\nEpoch [3720], val_loss: 7258.5596\nEpoch [3740], val_loss: 7258.5596\nEpoch [3760], val_loss: 7258.5596\nEpoch [3780], val_loss: 7258.5596\nEpoch [3800], val_loss: 7258.5596\nEpoch [3820], val_loss: 7258.5596\nEpoch [3840], val_loss: 7258.5596\nEpoch [3860], val_loss: 7258.5596\nEpoch [3880], val_loss: 7258.5596\nEpoch [3900], val_loss: 7258.5596\nEpoch [3920], val_loss: 7258.5596\nEpoch [3940], val_loss: 7258.5596\nEpoch [3960], val_loss: 7258.5586\nEpoch [3980], val_loss: 7258.5586\nEpoch [4000], val_loss: 7258.5586\nEpoch [4020], val_loss: 7258.5586\nEpoch [4040], val_loss: 7258.5596\nEpoch [4060], val_loss: 7258.5596\nEpoch [4080], val_loss: 7258.5596\nEpoch [4100], val_loss: 7258.5586\nEpoch [4120], val_loss: 7258.5586\nEpoch [4140], val_loss: 7258.5596\nEpoch [4160], val_loss: 7258.5596\nEpoch [4180], val_loss: 7258.5596\nEpoch [4200], val_loss: 7258.5596\nEpoch [4220], val_loss: 7258.5596\nEpoch [4240], val_loss: 7258.5596\nEpoch [4260], val_loss: 7258.5596\nEpoch [4280], val_loss: 7258.5596\nEpoch [4300], val_loss: 7258.5596\nEpoch [4320], val_loss: 7258.5591\nEpoch [4340], val_loss: 7258.5596\nEpoch [4360], val_loss: 7258.5591\nEpoch [4380], val_loss: 7258.5586\nEpoch [4400], val_loss: 7258.5596\nEpoch [4420], val_loss: 7258.5586\nEpoch [4440], val_loss: 7258.5591\nEpoch [4460], val_loss: 7258.5596\nEpoch [4480], val_loss: 7258.5586\nEpoch [4500], val_loss: 7258.5586\nEpoch [4520], val_loss: 7258.5591\nEpoch [4540], val_loss: 7258.5596\nEpoch [4560], val_loss: 7258.5596\nEpoch [4580], val_loss: 7258.5596\nEpoch [4600], val_loss: 7258.5596\nEpoch [4620], val_loss: 7258.5586\nEpoch [4640], val_loss: 7258.5586\nEpoch [4660], val_loss: 7258.5596\nEpoch [4680], val_loss: 7258.5586\nEpoch [4700], val_loss: 7258.5591\nEpoch [4720], val_loss: 7258.5586\nEpoch [4740], val_loss: 7258.5596\nEpoch [4760], val_loss: 7258.5591\nEpoch [4780], val_loss: 7258.5591\nEpoch [4800], val_loss: 7258.5596\nEpoch [4820], val_loss: 7258.5596\nEpoch [4840], val_loss: 7258.5596\nEpoch [4860], val_loss: 7258.5596\nEpoch [4880], val_loss: 7258.5596\nEpoch [4900], val_loss: 7258.5596\nEpoch [4920], val_loss: 7258.5591\nEpoch [4940], val_loss: 7258.5596\nEpoch [4960], val_loss: 7258.5596\nEpoch [4980], val_loss: 7258.5586\nEpoch [5000], val_loss: 7258.5591\nEpoch [5020], val_loss: 7258.5596\nEpoch [5040], val_loss: 7258.5596\nEpoch [5060], val_loss: 7258.5596\nEpoch [5080], val_loss: 7258.5596\nEpoch [5100], val_loss: 7258.5596\nEpoch [5120], val_loss: 7258.5596\nEpoch [5140], val_loss: 7258.5596\nEpoch [5160], val_loss: 7258.5596\nEpoch [5180], val_loss: 7258.5596\nEpoch [5200], val_loss: 7258.5596\nEpoch [5220], val_loss: 7258.5596\nEpoch [5240], val_loss: 7258.5596\nEpoch [5260], val_loss: 7258.5591\nEpoch [5280], val_loss: 7258.5596\nEpoch [5300], val_loss: 7258.5596\nEpoch [5320], val_loss: 7258.5596\nEpoch [5340], val_loss: 7258.5591\nEpoch [5360], val_loss: 7258.5586\nEpoch [5380], val_loss: 7258.5596\nEpoch [5400], val_loss: 7258.5596\nEpoch [5420], val_loss: 7258.5596\nEpoch [5440], val_loss: 7258.5596\nEpoch [5460], val_loss: 7258.5596\nEpoch [5480], val_loss: 7258.5586\nEpoch [5500], val_loss: 7258.5596\nEpoch [5520], val_loss: 7258.5596\nEpoch [5540], val_loss: 7258.5596\nEpoch [5560], val_loss: 7258.5596\nEpoch [5580], val_loss: 7258.5596\nEpoch [5600], val_loss: 7258.5591\nEpoch [5620], val_loss: 7258.5596\nEpoch [5640], val_loss: 7258.5596\nEpoch [5660], val_loss: 7258.5591\nEpoch [5680], val_loss: 7258.5596\nEpoch [5700], val_loss: 7258.5596\nEpoch [5720], val_loss: 7258.5596\nEpoch [5740], val_loss: 7258.5596\nEpoch [5760], val_loss: 7258.5596\nEpoch [5780], val_loss: 7258.5596\nEpoch [5800], val_loss: 7258.5596\nEpoch [5820], val_loss: 7258.5596\nEpoch [5840], val_loss: 7258.5596\nEpoch [5860], val_loss: 7258.5591\nEpoch [5880], val_loss: 7258.5591\nEpoch [5900], val_loss: 7258.5586\nEpoch [5920], val_loss: 7258.5586\nEpoch [5940], val_loss: 7258.5596\nEpoch [5960], val_loss: 7258.5596\nEpoch [5980], val_loss: 7258.5596\nEpoch [6000], val_loss: 7258.5586\nEpoch [6020], val_loss: 7258.5596\nEpoch [6040], val_loss: 7258.5596\nEpoch [6060], val_loss: 7258.5586\nEpoch [6080], val_loss: 7258.5586\nEpoch [6100], val_loss: 7258.5596\nEpoch [6120], val_loss: 7258.5596\nEpoch [6140], val_loss: 7258.5596\nEpoch [6160], val_loss: 7258.5586\nEpoch [6180], val_loss: 7258.5596\nEpoch [6200], val_loss: 7258.5596\nEpoch [6220], val_loss: 7258.5596\nEpoch [6240], val_loss: 7258.5596\nEpoch [6260], val_loss: 7258.5586\nEpoch [6280], val_loss: 7258.5596\nEpoch [6300], val_loss: 7258.5596\nEpoch [6320], val_loss: 7258.5596\nEpoch [6340], val_loss: 7258.5596\nEpoch [6360], val_loss: 7258.5596\nEpoch [6380], val_loss: 7258.5586\nEpoch [6400], val_loss: 7258.5586\nEpoch [6420], val_loss: 7258.5596\nEpoch [6440], val_loss: 7258.5596\nEpoch [6460], val_loss: 7258.5596\nEpoch [6480], val_loss: 7258.5596\nEpoch [6500], val_loss: 7258.5596\nEpoch [6520], val_loss: 7258.5596\nEpoch [6540], val_loss: 7258.5586\nEpoch [6560], val_loss: 7258.5596\nEpoch [6580], val_loss: 7258.5586\nEpoch [6600], val_loss: 7258.5591\nEpoch [6620], val_loss: 7258.5596\nEpoch [6640], val_loss: 7258.5586\nEpoch [6660], val_loss: 7258.5596\nEpoch [6680], val_loss: 7258.5596\nEpoch [6700], val_loss: 7258.5596\nEpoch [6720], val_loss: 7258.5596\nEpoch [6740], val_loss: 7258.5591\nEpoch [6760], val_loss: 7258.5586\nEpoch [6780], val_loss: 7258.5586\nEpoch [6800], val_loss: 7258.5596\nEpoch [6820], val_loss: 7258.5591\nEpoch [6840], val_loss: 7258.5591\nEpoch [6860], val_loss: 7258.5591\nEpoch [6880], val_loss: 7258.5591\nEpoch [6900], val_loss: 7258.5586\nEpoch [6920], val_loss: 7258.5586\nEpoch [6940], val_loss: 7258.5591\nEpoch [6960], val_loss: 7258.5596\nEpoch [6980], val_loss: 7258.5586\nEpoch [7000], val_loss: 7258.5596\nEpoch [7020], val_loss: 7258.5596\nEpoch [7040], val_loss: 7258.5596\nEpoch [7060], val_loss: 7258.5596\nEpoch [7080], val_loss: 7258.5596\nEpoch [7100], val_loss: 7258.5596\nEpoch [7120], val_loss: 7258.5596\nEpoch [7140], val_loss: 7258.5596\nEpoch [7160], val_loss: 7258.5596\nEpoch [7180], val_loss: 7258.5596\nEpoch [7200], val_loss: 7258.5596\nEpoch [7220], val_loss: 7258.5596\nEpoch [7240], val_loss: 7258.5591\nEpoch [7260], val_loss: 7258.5596\nEpoch [7280], val_loss: 7258.5596\nEpoch [7300], val_loss: 7258.5596\nEpoch [7320], val_loss: 7258.5596\nEpoch [7340], val_loss: 7258.5596\nEpoch [7360], val_loss: 7258.5591\nEpoch [7380], val_loss: 7258.5591\nEpoch [7400], val_loss: 7258.5596\nEpoch [7420], val_loss: 7258.5596\nEpoch [7440], val_loss: 7258.5596\nEpoch [7460], val_loss: 7258.5596\nEpoch [7480], val_loss: 7258.5596\nEpoch [7500], val_loss: 7258.5596\nEpoch [7520], val_loss: 7258.5596\nEpoch [7540], val_loss: 7258.5591\nEpoch [7560], val_loss: 7258.5596\nEpoch [7580], val_loss: 7258.5596\nEpoch [7600], val_loss: 7258.5596\nEpoch [7620], val_loss: 7258.5596\nEpoch [7640], val_loss: 7258.5596\nEpoch [7660], val_loss: 7258.5591\nEpoch [7680], val_loss: 7258.5591\nEpoch [7700], val_loss: 7258.5596\nEpoch [7720], val_loss: 7258.5596\nEpoch [7740], val_loss: 7258.5596\nEpoch [7760], val_loss: 7258.5596\nEpoch [7780], val_loss: 7258.5596\nEpoch [7800], val_loss: 7258.5596\nEpoch [7820], val_loss: 7258.5591\nEpoch [7840], val_loss: 7258.5596\nEpoch [7860], val_loss: 7258.5596\nEpoch [7880], val_loss: 7258.5596\nEpoch [7900], val_loss: 7258.5596\nEpoch [7920], val_loss: 7258.5596\nEpoch [7940], val_loss: 7258.5596\nEpoch [7960], val_loss: 7258.5596\nEpoch [7980], val_loss: 7258.5596\nEpoch [8000], val_loss: 7258.5596\nEpoch [8020], val_loss: 7258.5596\nEpoch [8040], val_loss: 7258.5596\nEpoch [8060], val_loss: 7258.5596\nEpoch [8080], val_loss: 7258.5596\nEpoch [8100], val_loss: 7258.5596\nEpoch [8120], val_loss: 7258.5596\nEpoch [8140], val_loss: 7258.5596\nEpoch [8160], val_loss: 7258.5596\nEpoch [8180], val_loss: 7258.5596\nEpoch [8200], val_loss: 7258.5596\nEpoch [8220], val_loss: 7258.5596\nEpoch [8240], val_loss: 7258.5586\nEpoch [8260], val_loss: 7258.5596\nEpoch [8280], val_loss: 7258.5596\nEpoch [8300], val_loss: 7258.5596\nEpoch [8320], val_loss: 7258.5596\nEpoch [8340], val_loss: 7258.5596\nEpoch [8360], val_loss: 7258.5596\nEpoch [8380], val_loss: 7258.5596\nEpoch [8400], val_loss: 7258.5596\nEpoch [8420], val_loss: 7258.5596\nEpoch [8440], val_loss: 7258.5596\nEpoch [8460], val_loss: 7258.5596\nEpoch [8480], val_loss: 7258.5596\nEpoch [8500], val_loss: 7258.5596\nEpoch [8520], val_loss: 7258.5596\nEpoch [8540], val_loss: 7258.5596\nEpoch [8560], val_loss: 7258.5596\nEpoch [8580], val_loss: 7258.5586\nEpoch [8600], val_loss: 7258.5596\nEpoch [8620], val_loss: 7258.5591\nEpoch [8640], val_loss: 7258.5591\nEpoch [8660], val_loss: 7258.5596\nEpoch [8680], val_loss: 7258.5596\nEpoch [8700], val_loss: 7258.5586\nEpoch [8720], val_loss: 7258.5586\nEpoch [8740], val_loss: 7258.5586\nEpoch [8760], val_loss: 7258.5596\nEpoch [8780], val_loss: 7258.5596\nEpoch [8800], val_loss: 7258.5596\nEpoch [8820], val_loss: 7258.5586\nEpoch [8840], val_loss: 7258.5596\nEpoch [8860], val_loss: 7258.5596\nEpoch [8880], val_loss: 7258.5596\nEpoch [8900], val_loss: 7258.5596\nEpoch [8920], val_loss: 7258.5596\nEpoch [8940], val_loss: 7258.5596\nEpoch [8960], val_loss: 7258.5596\nEpoch [8980], val_loss: 7258.5596\nEpoch [9000], val_loss: 7258.5596\nEpoch [9020], val_loss: 7258.5596\nEpoch [9040], val_loss: 7258.5596\nEpoch [9060], val_loss: 7258.5596\nEpoch [9080], val_loss: 7258.5596\nEpoch [9100], val_loss: 7258.5596\nEpoch [9120], val_loss: 7258.5596\nEpoch [9140], val_loss: 7258.5596\nEpoch [9160], val_loss: 7258.5596\nEpoch [9180], val_loss: 7258.5596\nEpoch [9200], val_loss: 7258.5596\nEpoch [9220], val_loss: 7258.5596\nEpoch [9240], val_loss: 7258.5596\nEpoch [9260], val_loss: 7258.5596\nEpoch [9280], val_loss: 7258.5596\nEpoch [9300], val_loss: 7258.5586\nEpoch [9320], val_loss: 7258.5596\nEpoch [9340], val_loss: 7258.5596\nEpoch [9360], val_loss: 7258.5596\nEpoch [9380], val_loss: 7258.5596\nEpoch [9400], val_loss: 7258.5596\nEpoch [9420], val_loss: 7258.5596\nEpoch [9440], val_loss: 7258.5596\nEpoch [9460], val_loss: 7258.5596\nEpoch [9480], val_loss: 7258.5596\nEpoch [9500], val_loss: 7258.5596\nEpoch [9520], val_loss: 7258.5596\nEpoch [9540], val_loss: 7258.5596\nEpoch [9560], val_loss: 7258.5596\nEpoch [9580], val_loss: 7258.5596\nEpoch [9600], val_loss: 7258.5596\nEpoch [9620], val_loss: 7258.5596\nEpoch [9640], val_loss: 7258.5596\nEpoch [9660], val_loss: 7258.5596\nEpoch [9680], val_loss: 7258.5596\nEpoch [9700], val_loss: 7258.5596\nEpoch [9720], val_loss: 7258.5596\nEpoch [9740], val_loss: 7258.5596\nEpoch [9760], val_loss: 7258.5596\nEpoch [9780], val_loss: 7258.5596\nEpoch [9800], val_loss: 7258.5596\nEpoch [9820], val_loss: 7258.5596\nEpoch [9840], val_loss: 7258.5586\nEpoch [9860], val_loss: 7258.5596\nEpoch [9880], val_loss: 7258.5596\nEpoch [9900], val_loss: 7258.5596\nEpoch [9920], val_loss: 7258.5596\nEpoch [9940], val_loss: 7258.5596\nEpoch [9960], val_loss: 7258.5596\nEpoch [9980], val_loss: 7258.5596\nEpoch [10000], val_loss: 7258.5596\n"
    }
   ],
   "source": [
    "epochs = 10000\n",
    "lr = 1e-6\n",
    "history5 = fit(epochs, lr, model, train_loader, val_loader)"
   ]
  },
  {
   "cell_type": "markdown",
   "metadata": {},
   "source": [
    "**Q: What is the final validation loss of your model?**"
   ]
  },
  {
   "cell_type": "code",
   "execution_count": 471,
   "metadata": {},
   "outputs": [],
   "source": [
    "val_loss = 7258.5767\n"
   ]
  },
  {
   "cell_type": "markdown",
   "metadata": {},
   "source": [
    "Let's log the final validation loss to Jovian and commit the notebook"
   ]
  },
  {
   "cell_type": "code",
   "execution_count": 479,
   "metadata": {},
   "outputs": [
    {
     "output_type": "stream",
     "name": "stdout",
     "text": "[jovian] Metrics logged.\n"
    }
   ],
   "source": [
    "jovian.log_metrics(val_loss=val_loss)"
   ]
  },
  {
   "cell_type": "code",
   "execution_count": 480,
   "metadata": {},
   "outputs": [
    {
     "output_type": "display_data",
     "data": {
      "text/plain": "<IPython.core.display.Javascript object>",
      "application/javascript": "window.require && require([\"base/js/namespace\"],function(Jupyter){Jupyter.notebook.save_checkpoint()})"
     },
     "metadata": {}
    },
    {
     "output_type": "stream",
     "name": "stdout",
     "text": "[jovian] Attempting to save notebook..\n[jovian] Updating notebook \"adess23/02-insurance-linear-regression\" on https://jovian.ml/\n[jovian] Uploading notebook..\n[jovian] Attaching records (metrics, hyperparameters, dataset etc.)\n[jovian] Committed successfully! https://jovian.ml/adess23/02-insurance-linear-regression\n"
    },
    {
     "output_type": "execute_result",
     "data": {
      "text/plain": "'https://jovian.ml/adess23/02-insurance-linear-regression'"
     },
     "metadata": {},
     "execution_count": 480
    }
   ],
   "source": [
    "jovian.commit(project=project_name, environment=None, filename='02-insurance-linear.ipynb')"
   ]
  },
  {
   "cell_type": "markdown",
   "metadata": {},
   "source": [
    "Now scroll back up, re-initialize the model, and try different set of values for batch size, number of epochs, learning rate etc. Commit each experiment and use the \"Compare\" and \"View Diff\" options on Jovian to compare the different results."
   ]
  },
  {
   "cell_type": "markdown",
   "metadata": {},
   "source": [
    "## Step 5: Make predictions using the trained model\n",
    "\n",
    "**Q: Complete the following function definition to make predictions on a single input**"
   ]
  },
  {
   "cell_type": "code",
   "execution_count": 49,
   "metadata": {},
   "outputs": [],
   "source": [
    "def predict_single(input, target, model):\n",
    "    inputs = input.unsqueeze(0)\n",
    "    predictions = model(input)                # fill this\n",
    "    prediction = predictions[0].detach()\n",
    "    print(\"Input:\", input)\n",
    "    print(\"Target:\", target)\n",
    "    print(\"Prediction:\", prediction)\n",
    "    print(\"residual:\", ((target-prediction)/target).abs())"
   ]
  },
  {
   "cell_type": "code",
   "execution_count": 50,
   "metadata": {},
   "outputs": [
    {
     "output_type": "stream",
     "name": "stdout",
     "text": "Input: tensor([20.0000,  1.0000, 35.6400,  1.0000,  0.0000,  3.0000])\nTarget: tensor([1999.8707])\nPrediction: tensor(2367.0278)\nresidual: tensor([0.1836])\nresidual: tensor([0.1836])\n"
    }
   ],
   "source": [
    "input, target = val_ds[0]\n",
    "predict_single(input, target, model)"
   ]
  },
  {
   "cell_type": "code",
   "execution_count": 477,
   "metadata": {},
   "outputs": [
    {
     "output_type": "stream",
     "name": "stdout",
     "text": "Input: tensor([46.0000,  0.0000, 21.5460,  2.0000,  0.0000,  1.0000])\nTarget: tensor([9285.7773])\nPrediction: tensor(10363.4854)\nresidual: tensor([0.1161])\n"
    }
   ],
   "source": [
    "input, target = val_ds[10]\n",
    "predict_single(input, target, model)"
   ]
  },
  {
   "cell_type": "code",
   "execution_count": 478,
   "metadata": {},
   "outputs": [
    {
     "output_type": "stream",
     "name": "stdout",
     "text": "Input: tensor([18.0000,  1.0000, 35.9964,  0.0000,  0.0000,  2.0000])\nTarget: tensor([1147.3000])\nPrediction: tensor(1716.6938)\nresidual: tensor([0.4963])\n"
    }
   ],
   "source": [
    "input, target = val_ds[23]\n",
    "predict_single(input, target, model)"
   ]
  },
  {
   "cell_type": "markdown",
   "metadata": {},
   "source": [
    "Are you happy with your model's predictions? Try to improve them further."
   ]
  },
  {
   "cell_type": "markdown",
   "metadata": {},
   "source": [
    "## (Optional) Step 6: Try another dataset & blog about it\n",
    "\n",
    "While this last step is optional for the submission of your assignment, we highly recommend that you do it. Try to clean up & replicate this notebook (or [this one](https://jovian.ml/aakashns/housing-linear-minimal), or [this one](https://jovian.ml/aakashns/mnist-logistic-minimal) ) for a different linear regression or logistic regression problem. This will help solidify your understanding, and give you a chance to differentiate the generic patters in machine learning from problem-specific details.\n",
    "\n",
    "Here are some sources to find good datasets:\n",
    "\n",
    "- https://lionbridge.ai/datasets/10-open-datasets-for-linear-regression/\n",
    "- https://www.kaggle.com/rtatman/datasets-for-regression-analysis\n",
    "- https://archive.ics.uci.edu/ml/datasets.php?format=&task=reg&att=&area=&numAtt=&numIns=&type=&sort=nameUp&view=table\n",
    "- https://people.sc.fsu.edu/~jburkardt/datasets/regression/regression.html\n",
    "- https://archive.ics.uci.edu/ml/datasets/wine+quality\n",
    "- https://pytorch.org/docs/stable/torchvision/datasets.html\n",
    "\n",
    "We also recommend that you write a blog about your approach to the problem. Here is a suggested structure for your post (feel free to experiment with it):\n",
    "\n",
    "- Interesting title & subtitle\n",
    "- Overview of what the blog covers (which dataset, linear regression or logistic regression, intro to PyTorch)\n",
    "- Downloading & exploring the data\n",
    "- Preparing the data for training\n",
    "- Creating a model using PyTorch\n",
    "- Training the model to fit the data\n",
    "- Your thoughts on how to experiment with different hyperparmeters to reduce loss\n",
    "- Making predictions using the model\n",
    "\n",
    "As with the previous assignment, you can [embed Juptyer notebook cells & outputs from Jovian](https://medium.com/jovianml/share-and-embed-jupyter-notebooks-online-with-jovian-ml-df709a03064e) into your blog. \n",
    "\n",
    "Don't forget to share your work on the forum: https://jovian.ml/forum/t/share-your-work-here-assignment-2/4931"
   ]
  },
  {
   "cell_type": "code",
   "execution_count": 235,
   "metadata": {},
   "outputs": [
    {
     "output_type": "display_data",
     "data": {
      "text/plain": "<IPython.core.display.Javascript object>",
      "application/javascript": "window.require && require([\"base/js/namespace\"],function(Jupyter){Jupyter.notebook.save_checkpoint()})"
     },
     "metadata": {}
    },
    {
     "output_type": "stream",
     "name": "stdout",
     "text": "[jovian] Attempting to save notebook..\n[jovian] Updating notebook \"adess23/02-insurance-linear-regression\" on https://jovian.ml/\n[jovian] Uploading notebook..\n[jovian] Attaching records (metrics, hyperparameters, dataset etc.)\n[jovian] Committed successfully! https://jovian.ml/adess23/02-insurance-linear-regression\n"
    },
    {
     "output_type": "display_data",
     "data": {
      "text/plain": "<IPython.core.display.Javascript object>",
      "application/javascript": "window.require && require([\"base/js/namespace\"],function(Jupyter){Jupyter.notebook.save_checkpoint()})"
     },
     "metadata": {}
    },
    {
     "output_type": "stream",
     "name": "stdout",
     "text": "[jovian] Attempting to save notebook..\n[jovian] Updating notebook \"adess23/02-insurance-linear-regression\" on https://jovian.ml/\n[jovian] Uploading notebook..\n[jovian] Attaching records (metrics, hyperparameters, dataset etc.)\n[jovian] Committed successfully! https://jovian.ml/adess23/02-insurance-linear-regression\n"
    },
    {
     "output_type": "execute_result",
     "data": {
      "text/plain": "'https://jovian.ml/adess23/02-insurance-linear-regression'"
     },
     "metadata": {},
     "execution_count": 235
    }
   ],
   "source": [
    "jovian.commit(project=project_name, environment=None, filename='02-insurance-linear.ipynb') # try again, kaggle fails sometimes"
   ]
  },
  {
   "cell_type": "code",
   "execution_count": null,
   "metadata": {},
   "outputs": [],
   "source": []
  }
 ],
 "metadata": {
  "kernelspec": {
   "display_name": "Python 3",
   "language": "python",
   "name": "python3"
  },
  "language_info": {
   "codemirror_mode": {
    "name": "ipython",
    "version": 3
   },
   "file_extension": ".py",
   "mimetype": "text/x-python",
   "name": "python",
   "nbconvert_exporter": "python",
   "pygments_lexer": "ipython3",
   "version": "3.7.6-final"
  }
 },
 "nbformat": 4,
 "nbformat_minor": 4
}